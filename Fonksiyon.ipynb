{
 "cells": [
  {
   "cell_type": "markdown",
   "metadata": {},
   "source": [
    "# **Fonksiyonlar**"
   ]
  },
  {
   "cell_type": "markdown",
   "metadata": {},
   "source": [
    "## Fonksiyonlar 1"
   ]
  },
  {
   "cell_type": "markdown",
   "metadata": {},
   "source": [
    "### Fonksiyon, Fonksiyon, Fonksiyon\n",
    "\n",
    "**Fonksiyon:** Belli bir işlevi yerine getirmek için yazılmış öz "
   ]
  },
  {
   "cell_type": "markdown",
   "metadata": {},
   "source": [
    "Fonksiyon, çağrıldığı zaman çalışır."
   ]
  },
  {
   "cell_type": "markdown",
   "metadata": {},
   "source": [
    "Fonksiyonlar isteğe göre parametre (girdiler) alabilirler."
   ]
  },
  {
   "cell_type": "markdown",
   "metadata": {},
   "source": [
    "Fonksiyonlar isteğe göre, geriye bir değer dönebilirler."
   ]
  },
  {
   "cell_type": "markdown",
   "metadata": {},
   "source": [
    "Fonksiyon çağırma: `fonksiyon_adi()`"
   ]
  },
  {
   "cell_type": "markdown",
   "metadata": {},
   "source": [
    "Parametre ile fonksiyon çağırma: `fonksiyon_adi(parametre1,parametre2,...)`"
   ]
  },
  {
   "cell_type": "markdown",
   "metadata": {},
   "source": [
    "Fonksiyonlar, kod tekrarını önler."
   ]
  },
  {
   "cell_type": "code",
   "execution_count": 2,
   "metadata": {},
   "outputs": [
    {
     "data": {
      "text/plain": [
       "int"
      ]
     },
     "execution_count": 2,
     "metadata": {},
     "output_type": "execute_result"
    }
   ],
   "source": [
    "\"\"# type()\n",
    "\n",
    "type(42)"
   ]
  },
  {
   "cell_type": "code",
   "execution_count": 3,
   "metadata": {},
   "outputs": [
    {
     "data": {
      "text/plain": [
       "str"
      ]
     },
     "execution_count": 3,
     "metadata": {},
     "output_type": "execute_result"
    }
   ],
   "source": [
    "type(\"güzel bir metin\")"
   ]
  },
  {
   "cell_type": "code",
   "execution_count": 4,
   "metadata": {},
   "outputs": [
    {
     "data": {
      "text/plain": [
       "5"
      ]
     },
     "execution_count": 4,
     "metadata": {},
     "output_type": "execute_result"
    }
   ],
   "source": [
    "int(5.68)"
   ]
  },
  {
   "cell_type": "code",
   "execution_count": 7,
   "metadata": {},
   "outputs": [
    {
     "data": {
      "text/plain": [
       "82"
      ]
     },
     "execution_count": 7,
     "metadata": {},
     "output_type": "execute_result"
    }
   ],
   "source": [
    "int(\"82\")"
   ]
  },
  {
   "cell_type": "code",
   "execution_count": 8,
   "metadata": {},
   "outputs": [
    {
     "data": {
      "text/plain": [
       "'45'"
      ]
     },
     "execution_count": 8,
     "metadata": {},
     "output_type": "execute_result"
    }
   ],
   "source": [
    "str(45) #stringe çevirme"
   ]
  },
  {
   "cell_type": "code",
   "execution_count": 9,
   "metadata": {},
   "outputs": [
    {
     "data": {
      "text/plain": [
       "'4.57'"
      ]
     },
     "execution_count": 9,
     "metadata": {},
     "output_type": "execute_result"
    }
   ],
   "source": [
    "str(4.57)"
   ]
  },
  {
   "cell_type": "code",
   "execution_count": 10,
   "metadata": {},
   "outputs": [
    {
     "data": {
      "text/plain": [
       "12.0"
      ]
     },
     "execution_count": 10,
     "metadata": {},
     "output_type": "execute_result"
    }
   ],
   "source": [
    "float(12)"
   ]
  },
  {
   "cell_type": "code",
   "execution_count": 11,
   "metadata": {},
   "outputs": [
    {
     "data": {
      "text/plain": [
       "4.5"
      ]
     },
     "execution_count": 11,
     "metadata": {},
     "output_type": "execute_result"
    }
   ],
   "source": [
    "float(\"4.5\")"
   ]
  },
  {
   "cell_type": "code",
   "execution_count": 12,
   "metadata": {},
   "outputs": [
    {
     "data": {
      "text/plain": [
       "78.0"
      ]
     },
     "execution_count": 12,
     "metadata": {},
     "output_type": "execute_result"
    }
   ],
   "source": [
    "sayi = \"78\"\n",
    "float(sayi)"
   ]
  },
  {
   "cell_type": "markdown",
   "metadata": {},
   "source": [
    "---"
   ]
  },
  {
   "cell_type": "markdown",
   "metadata": {},
   "source": [
    "## Matematik Fonksiyonlar (math)"
   ]
  },
  {
   "cell_type": "markdown",
   "metadata": {},
   "source": [
    "Matematik işlemleri yapmak için Python'da `math` modülü kullanılır."
   ]
  },
  {
   "cell_type": "markdown",
   "metadata": {},
   "source": [
    "**Modül:** Birbiriyle ilgili fonksiyonları ve dosyaları bir arada tutan dosya kümeleridir."
   ]
  },
  {
   "cell_type": "code",
   "execution_count": 13,
   "metadata": {},
   "outputs": [],
   "source": [
    "# math modülü içeri nasıl alınır\n",
    "\n",
    "import math"
   ]
  },
  {
   "cell_type": "code",
   "execution_count": 14,
   "metadata": {},
   "outputs": [
    {
     "name": "stdout",
     "output_type": "stream",
     "text": [
      "<module 'math' (built-in)>\n"
     ]
    }
   ],
   "source": [
    "print(math)"
   ]
  },
  {
   "cell_type": "code",
   "execution_count": 15,
   "metadata": {},
   "outputs": [
    {
     "name": "stdout",
     "output_type": "stream",
     "text": [
      "Help on built-in module math:\n",
      "\n",
      "NAME\n",
      "    math\n",
      "\n",
      "DESCRIPTION\n",
      "    This module provides access to the mathematical functions\n",
      "    defined by the C standard.\n",
      "\n",
      "FUNCTIONS\n",
      "    acos(x, /)\n",
      "        Return the arc cosine (measured in radians) of x.\n",
      "    \n",
      "    acosh(x, /)\n",
      "        Return the inverse hyperbolic cosine of x.\n",
      "    \n",
      "    asin(x, /)\n",
      "        Return the arc sine (measured in radians) of x.\n",
      "    \n",
      "    asinh(x, /)\n",
      "        Return the inverse hyperbolic sine of x.\n",
      "    \n",
      "    atan(x, /)\n",
      "        Return the arc tangent (measured in radians) of x.\n",
      "    \n",
      "    atan2(y, x, /)\n",
      "        Return the arc tangent (measured in radians) of y/x.\n",
      "        \n",
      "        Unlike atan(y/x), the signs of both x and y are considered.\n",
      "    \n",
      "    atanh(x, /)\n",
      "        Return the inverse hyperbolic tangent of x.\n",
      "    \n",
      "    ceil(x, /)\n",
      "        Return the ceiling of x as an Integral.\n",
      "        \n",
      "        This is the smallest integer >= x.\n",
      "    \n",
      "    comb(n, k, /)\n",
      "        Number of ways to choose k items from n items without repetition and without order.\n",
      "        \n",
      "        Evaluates to n! / (k! * (n - k)!) when k <= n and evaluates\n",
      "        to zero when k > n.\n",
      "        \n",
      "        Also called the binomial coefficient because it is equivalent\n",
      "        to the coefficient of k-th term in polynomial expansion of the\n",
      "        expression (1 + x)**n.\n",
      "        \n",
      "        Raises TypeError if either of the arguments are not integers.\n",
      "        Raises ValueError if either of the arguments are negative.\n",
      "    \n",
      "    copysign(x, y, /)\n",
      "        Return a float with the magnitude (absolute value) of x but the sign of y.\n",
      "        \n",
      "        On platforms that support signed zeros, copysign(1.0, -0.0)\n",
      "        returns -1.0.\n",
      "    \n",
      "    cos(x, /)\n",
      "        Return the cosine of x (measured in radians).\n",
      "    \n",
      "    cosh(x, /)\n",
      "        Return the hyperbolic cosine of x.\n",
      "    \n",
      "    degrees(x, /)\n",
      "        Convert angle x from radians to degrees.\n",
      "    \n",
      "    dist(p, q, /)\n",
      "        Return the Euclidean distance between two points p and q.\n",
      "        \n",
      "        The points should be specified as sequences (or iterables) of\n",
      "        coordinates.  Both inputs must have the same dimension.\n",
      "        \n",
      "        Roughly equivalent to:\n",
      "            sqrt(sum((px - qx) ** 2.0 for px, qx in zip(p, q)))\n",
      "    \n",
      "    erf(x, /)\n",
      "        Error function at x.\n",
      "    \n",
      "    erfc(x, /)\n",
      "        Complementary error function at x.\n",
      "    \n",
      "    exp(x, /)\n",
      "        Return e raised to the power of x.\n",
      "    \n",
      "    expm1(x, /)\n",
      "        Return exp(x)-1.\n",
      "        \n",
      "        This function avoids the loss of precision involved in the direct evaluation of exp(x)-1 for small x.\n",
      "    \n",
      "    fabs(x, /)\n",
      "        Return the absolute value of the float x.\n",
      "    \n",
      "    factorial(x, /)\n",
      "        Find x!.\n",
      "        \n",
      "        Raise a ValueError if x is negative or non-integral.\n",
      "    \n",
      "    floor(x, /)\n",
      "        Return the floor of x as an Integral.\n",
      "        \n",
      "        This is the largest integer <= x.\n",
      "    \n",
      "    fmod(x, y, /)\n",
      "        Return fmod(x, y), according to platform C.\n",
      "        \n",
      "        x % y may differ.\n",
      "    \n",
      "    frexp(x, /)\n",
      "        Return the mantissa and exponent of x, as pair (m, e).\n",
      "        \n",
      "        m is a float and e is an int, such that x = m * 2.**e.\n",
      "        If x is 0, m and e are both 0.  Else 0.5 <= abs(m) < 1.0.\n",
      "    \n",
      "    fsum(seq, /)\n",
      "        Return an accurate floating point sum of values in the iterable seq.\n",
      "        \n",
      "        Assumes IEEE-754 floating point arithmetic.\n",
      "    \n",
      "    gamma(x, /)\n",
      "        Gamma function at x.\n",
      "    \n",
      "    gcd(x, y, /)\n",
      "        greatest common divisor of x and y\n",
      "    \n",
      "    hypot(...)\n",
      "        hypot(*coordinates) -> value\n",
      "        \n",
      "        Multidimensional Euclidean distance from the origin to a point.\n",
      "        \n",
      "        Roughly equivalent to:\n",
      "            sqrt(sum(x**2 for x in coordinates))\n",
      "        \n",
      "        For a two dimensional point (x, y), gives the hypotenuse\n",
      "        using the Pythagorean theorem:  sqrt(x*x + y*y).\n",
      "        \n",
      "        For example, the hypotenuse of a 3/4/5 right triangle is:\n",
      "        \n",
      "            >>> hypot(3.0, 4.0)\n",
      "            5.0\n",
      "    \n",
      "    isclose(a, b, *, rel_tol=1e-09, abs_tol=0.0)\n",
      "        Determine whether two floating point numbers are close in value.\n",
      "        \n",
      "          rel_tol\n",
      "            maximum difference for being considered \"close\", relative to the\n",
      "            magnitude of the input values\n",
      "          abs_tol\n",
      "            maximum difference for being considered \"close\", regardless of the\n",
      "            magnitude of the input values\n",
      "        \n",
      "        Return True if a is close in value to b, and False otherwise.\n",
      "        \n",
      "        For the values to be considered close, the difference between them\n",
      "        must be smaller than at least one of the tolerances.\n",
      "        \n",
      "        -inf, inf and NaN behave similarly to the IEEE 754 Standard.  That\n",
      "        is, NaN is not close to anything, even itself.  inf and -inf are\n",
      "        only close to themselves.\n",
      "    \n",
      "    isfinite(x, /)\n",
      "        Return True if x is neither an infinity nor a NaN, and False otherwise.\n",
      "    \n",
      "    isinf(x, /)\n",
      "        Return True if x is a positive or negative infinity, and False otherwise.\n",
      "    \n",
      "    isnan(x, /)\n",
      "        Return True if x is a NaN (not a number), and False otherwise.\n",
      "    \n",
      "    isqrt(n, /)\n",
      "        Return the integer part of the square root of the input.\n",
      "    \n",
      "    ldexp(x, i, /)\n",
      "        Return x * (2**i).\n",
      "        \n",
      "        This is essentially the inverse of frexp().\n",
      "    \n",
      "    lgamma(x, /)\n",
      "        Natural logarithm of absolute value of Gamma function at x.\n",
      "    \n",
      "    log(...)\n",
      "        log(x, [base=math.e])\n",
      "        Return the logarithm of x to the given base.\n",
      "        \n",
      "        If the base not specified, returns the natural logarithm (base e) of x.\n",
      "    \n",
      "    log10(x, /)\n",
      "        Return the base 10 logarithm of x.\n",
      "    \n",
      "    log1p(x, /)\n",
      "        Return the natural logarithm of 1+x (base e).\n",
      "        \n",
      "        The result is computed in a way which is accurate for x near zero.\n",
      "    \n",
      "    log2(x, /)\n",
      "        Return the base 2 logarithm of x.\n",
      "    \n",
      "    modf(x, /)\n",
      "        Return the fractional and integer parts of x.\n",
      "        \n",
      "        Both results carry the sign of x and are floats.\n",
      "    \n",
      "    perm(n, k=None, /)\n",
      "        Number of ways to choose k items from n items without repetition and with order.\n",
      "        \n",
      "        Evaluates to n! / (n - k)! when k <= n and evaluates\n",
      "        to zero when k > n.\n",
      "        \n",
      "        If k is not specified or is None, then k defaults to n\n",
      "        and the function returns n!.\n",
      "        \n",
      "        Raises TypeError if either of the arguments are not integers.\n",
      "        Raises ValueError if either of the arguments are negative.\n",
      "    \n",
      "    pow(x, y, /)\n",
      "        Return x**y (x to the power of y).\n",
      "    \n",
      "    prod(iterable, /, *, start=1)\n",
      "        Calculate the product of all the elements in the input iterable.\n",
      "        \n",
      "        The default start value for the product is 1.\n",
      "        \n",
      "        When the iterable is empty, return the start value.  This function is\n",
      "        intended specifically for use with numeric values and may reject\n",
      "        non-numeric types.\n",
      "    \n",
      "    radians(x, /)\n",
      "        Convert angle x from degrees to radians.\n",
      "    \n",
      "    remainder(x, y, /)\n",
      "        Difference between x and the closest integer multiple of y.\n",
      "        \n",
      "        Return x - n*y where n*y is the closest integer multiple of y.\n",
      "        In the case where x is exactly halfway between two multiples of\n",
      "        y, the nearest even value of n is used. The result is always exact.\n",
      "    \n",
      "    sin(x, /)\n",
      "        Return the sine of x (measured in radians).\n",
      "    \n",
      "    sinh(x, /)\n",
      "        Return the hyperbolic sine of x.\n",
      "    \n",
      "    sqrt(x, /)\n",
      "        Return the square root of x.\n",
      "    \n",
      "    tan(x, /)\n",
      "        Return the tangent of x (measured in radians).\n",
      "    \n",
      "    tanh(x, /)\n",
      "        Return the hyperbolic tangent of x.\n",
      "    \n",
      "    trunc(x, /)\n",
      "        Truncates the Real x to the nearest Integral toward 0.\n",
      "        \n",
      "        Uses the __trunc__ magic method.\n",
      "\n",
      "DATA\n",
      "    e = 2.718281828459045\n",
      "    inf = inf\n",
      "    nan = nan\n",
      "    pi = 3.141592653589793\n",
      "    tau = 6.283185307179586\n",
      "\n",
      "FILE\n",
      "    (built-in)\n",
      "\n",
      "\n"
     ]
    }
   ],
   "source": [
    "# Python'da help özelliği vardır.\n",
    "\n",
    "help(math)"
   ]
  },
  {
   "cell_type": "code",
   "execution_count": 17,
   "metadata": {},
   "outputs": [
    {
     "data": {
      "text/plain": [
       "3.141592653589793"
      ]
     },
     "execution_count": 17,
     "metadata": {},
     "output_type": "execute_result"
    }
   ],
   "source": [
    "# math modülü içindeki bir fonksiyon -> . ile çağrılır.\n",
    "\n",
    "math.pi"
   ]
  },
  {
   "cell_type": "code",
   "execution_count": 18,
   "metadata": {},
   "outputs": [
    {
     "name": "stdout",
     "output_type": "stream",
     "text": [
      "62.83185307179586\n"
     ]
    }
   ],
   "source": [
    "# Örnek:\n",
    "\n",
    "# Yarıçapı 10 cm olan bir çemberin çevresi ne kadardır?\n",
    "# Çevre = 2 * pi * r\n",
    "\n",
    "r = 10\n",
    "\n",
    "cevre = 2 * math.pi * r\n",
    "print(cevre)"
   ]
  },
  {
   "cell_type": "code",
   "execution_count": 21,
   "metadata": {},
   "outputs": [
    {
     "name": "stdout",
     "output_type": "stream",
     "text": [
      "0.5235987755982988\n"
     ]
    }
   ],
   "source": [
    "# Örnek: 30 derecenin sinüsünü hesaplayalım.\n",
    "\n",
    "derece = 30\n",
    "\n",
    "# Radyan hesabı\n",
    "radyan = math.radians(derece)\n",
    "print(radyan)"
   ]
  },
  {
   "cell_type": "code",
   "execution_count": 23,
   "metadata": {},
   "outputs": [
    {
     "name": "stdout",
     "output_type": "stream",
     "text": [
      "-0.9880316240928618\n"
     ]
    }
   ],
   "source": [
    "sinus = math.sin(derece)\n",
    "print(sinus)"
   ]
  },
  {
   "cell_type": "code",
   "execution_count": 25,
   "metadata": {},
   "outputs": [
    {
     "name": "stdout",
     "output_type": "stream",
     "text": [
      "Help on built-in function sin in module math:\n",
      "\n",
      "sin(x, /)\n",
      "    Return the sine of x (measured in radians).\n",
      "\n"
     ]
    }
   ],
   "source": [
    "help(math.sin) # Yukarıdaki işlem yanlıştır! Çünkü radyan cinsinden yazmamız gerekiyor."
   ]
  },
  {
   "cell_type": "code",
   "execution_count": 26,
   "metadata": {},
   "outputs": [
    {
     "name": "stdout",
     "output_type": "stream",
     "text": [
      "0.49999999999999994\n"
     ]
    }
   ],
   "source": [
    "# Doğru hesap bu şekildedir:\n",
    "sinus = math.sin(radyan)\n",
    "print(sinus)"
   ]
  },
  {
   "cell_type": "markdown",
   "metadata": {},
   "source": [
    "---\n",
    "\n",
    "## Fonksiyonların Birleşimi \n",
    "\n",
    "Yukarıda kullandığımız `math.sin` fonksiyonunu tek adımda kullanmak istersek."
   ]
  },
  {
   "cell_type": "code",
   "execution_count": 28,
   "metadata": {},
   "outputs": [
    {
     "name": "stdout",
     "output_type": "stream",
     "text": [
      "0.49999999999999994\n"
     ]
    }
   ],
   "source": [
    "derece = 30 \n",
    "sinus = math.sin(math.radians(derece))\n",
    "print(sinus)"
   ]
  },
  {
   "cell_type": "markdown",
   "metadata": {},
   "source": [
    "**Chain:** Fonksiyonları zincirlemek denir bu işleme."
   ]
  },
  {
   "cell_type": "markdown",
   "metadata": {},
   "source": [
    "### Fonksiyon Tanımlamak"
   ]
  },
  {
   "cell_type": "markdown",
   "metadata": {},
   "source": [
    "**Tanımlamak:** İngilizce'de \"definition\" anlamına gelmektedir."
   ]
  },
  {
   "cell_type": "code",
   "execution_count": 37,
   "metadata": {},
   "outputs": [
    {
     "name": "stdout",
     "output_type": "stream",
     "text": [
      "İlk Fonksiyon\n"
     ]
    }
   ],
   "source": [
    "# Fonksiyon tanımlamak\n",
    "\n",
    "def fonksiyon_adi():\n",
    "    fonksiyon_adi() \n",
    "print (\"İlk Fonksiyon\")"
   ]
  },
  {
   "cell_type": "markdown",
   "metadata": {},
   "source": [
    "**indent:** Python'da indent yapısı ile kod bölümlendirilir.\n",
    "* indent: tab\n",
    "* indent: 4 boşluk tuşu"
   ]
  },
  {
   "cell_type": "code",
   "execution_count": 40,
   "metadata": {},
   "outputs": [
    {
     "name": "stdout",
     "output_type": "stream",
     "text": [
      "Adı: John Doe\n",
      "Yaşı: 24\n",
      "Kullandığı Programlama Dili: Python\n"
     ]
    }
   ],
   "source": [
    "# Öğrenci bilgileri\n",
    "print(\"Adı: John Doe\")\n",
    "print(\"Yaşı: 24\")\n",
    "print(\"Kullandığı Programlama Dili: Python\")"
   ]
  },
  {
   "cell_type": "code",
   "execution_count": 42,
   "metadata": {},
   "outputs": [
    {
     "name": "stdout",
     "output_type": "stream",
     "text": [
      "Adı: John Doe\n",
      "Yaşı: 24\n",
      "Kullandığı Programlama Dili: Python\n"
     ]
    }
   ],
   "source": [
    "# Öğrenci bilgileri tekrar lazım olursa ne yapacağız?\n",
    "print(\"Adı: John Doe\")\n",
    "print(\"Yaşı: 24\")\n",
    "print(\"Kullandığı Programlama Dili: Python\")\n",
    "# Tekrar kod tekrarı yaptık!"
   ]
  },
  {
   "cell_type": "code",
   "execution_count": 56,
   "metadata": {},
   "outputs": [
    {
     "name": "stdout",
     "output_type": "stream",
     "text": [
      "Adı: John Doe\n",
      "None\n"
     ]
    }
   ],
   "source": [
    "# Öğrencinin adını tanımlayan fonksiyon.\n",
    "def ogrenci_adi():\n",
    "    print(\"Adı: John Doe\")\n",
    "print (ogrenci_adi()) "
   ]
  },
  {
   "cell_type": "code",
   "execution_count": 59,
   "metadata": {},
   "outputs": [
    {
     "name": "stdout",
     "output_type": "stream",
     "text": [
      "Yaşı: 24\n",
      "None\n"
     ]
    }
   ],
   "source": [
    "# Öğrencinin yaşını tanımlayan fonksiyon.\n",
    "\n",
    "def ogrenci_yasi():\n",
    "    print(\"Yaşı: 24\")\n",
    "print (ogrenci_yasi())"
   ]
  },
  {
   "cell_type": "code",
   "execution_count": 62,
   "metadata": {},
   "outputs": [
    {
     "name": "stdout",
     "output_type": "stream",
     "text": [
      "Kullandığı Programlama Dili: Python\n",
      "None\n"
     ]
    }
   ],
   "source": [
    "# Öğrencinin kullandığı programlama dilini tanımlayan fonksiyon.\n",
    "\n",
    "def ogrenci_dili():\n",
    "    print(\"Kullandığı Programlama Dili: Python\")\n",
    "    \n",
    "print(ogrenci_dili())"
   ]
  },
  {
   "cell_type": "code",
   "execution_count": 64,
   "metadata": {},
   "outputs": [
    {
     "name": "stdout",
     "output_type": "stream",
     "text": [
      "Adı: John Doe\n",
      "Yaşı: 24\n",
      "Kullandığı Programlama Dili: Python\n"
     ]
    }
   ],
   "source": [
    "# Tekrar öğrenci bilgileri\n",
    "ogrenci_adi()\n",
    "ogrenci_yasi()\n",
    "ogrenci_dili()"
   ]
  },
  {
   "cell_type": "code",
   "execution_count": 71,
   "metadata": {},
   "outputs": [
    {
     "name": "stdout",
     "output_type": "stream",
     "text": [
      "<class 'function'>\n",
      "Adı: John Doe\n",
      "Yaşı: 24\n",
      "Kullandığı Programlama Dili: Python\n",
      "None\n"
     ]
    }
   ],
   "source": [
    "# Tüm öğrenci bilgilerini yazan tek fonksiyon yazalım.\n",
    "\n",
    "def ogrenci_bilgileri():\n",
    "    ogrenci_adi()\n",
    "    ogrenci_yasi()\n",
    "    ogrenci_dili()\n",
    "    \n",
    "print(type(ogrenci_bilgileri))\n",
    "print(ogrenci_bilgileri())"
   ]
  },
  {
   "cell_type": "markdown",
   "metadata": {},
   "source": [
    "Peki, öğrencinin adını ve soyadını ayrı ayrı yazmak istersek:"
   ]
  },
  {
   "cell_type": "markdown",
   "metadata": {},
   "source": [
    "\"Adı\": \"Peter\"\n",
    "\"Soyadı\": \"Parker\" "
   ]
  },
  {
   "cell_type": "markdown",
   "metadata": {},
   "source": [
    "O zaman `ogrenci_adi()` fonksiyonunu iki alt fonksiyona bölmemiz lazım."
   ]
  },
  {
   "cell_type": "code",
   "execution_count": 73,
   "metadata": {},
   "outputs": [
    {
     "name": "stdout",
     "output_type": "stream",
     "text": [
      "Adı: Peter\n",
      "Soyadı: Parker\n",
      "None\n"
     ]
    }
   ],
   "source": [
    "# Öğrencinin ilk adını ve soyadını veren iki ayrı fonksiyon yazalım.\n",
    "\n",
    "def ogrenci_ilk_adi():\n",
    "    print(\"Adı: Peter\")\n",
    "    \n",
    "def ogrenci_soyadi():\n",
    "    print(\"Soyadı: Parker\")\n",
    "    \n",
    "# Şimdi öğrenci adı fonksiyonunu iki alt fonksiyonun birleşimi olarak yazalım.\n",
    "\n",
    "def ogrenci_adi():\n",
    "    ogrenci_ilk_adi()\n",
    "    ogrenci_soyadi()\n",
    "print(ogrenci_adi())    "
   ]
  },
  {
   "cell_type": "code",
   "execution_count": 75,
   "metadata": {},
   "outputs": [
    {
     "name": "stdout",
     "output_type": "stream",
     "text": [
      "Adı: Peter\n",
      "Soyadı: Parker\n",
      "Yaşı: 24\n",
      "Kullandığı Programlama Dili: Python\n"
     ]
    }
   ],
   "source": [
    "ogrenci_bilgileri()"
   ]
  },
  {
   "cell_type": "markdown",
   "metadata": {},
   "source": [
    "**İşleme Sırası:** (Execution Flow)\n",
    "\n",
    "Python kodu, ilk satırdan itibaren çalıştırmaya başlar ve aşağıya doğru iner. Eğer bir fonksiyon çağrılmasına denk gelirse önce o fonksiyonu çalıştırır, bitmesini bekler ve geri döner. Kaldığı yerden aşağı doğru çalışmaya devam eder."
   ]
  },
  {
   "cell_type": "markdown",
   "metadata": {},
   "source": [
    "---\n",
    "\n",
    "## Paremetreler (Argümanlar)\n",
    "\n",
    "Çoğu zaman fonksiyonlar parametrelere ihtiyaç duyarlar.\n",
    "\n",
    "**Parametre,** fonksiyonun çalışması için kendisine iletilen girdiler.\n",
    "\n",
    "Parametreler, fonksiyon çağrılırken iletilir."
   ]
  },
  {
   "cell_type": "code",
   "execution_count": 79,
   "metadata": {},
   "outputs": [
    {
     "name": "stdout",
     "output_type": "stream",
     "text": [
      "1600\n"
     ]
    }
   ],
   "source": [
    "# Diyelim ki kendisine iletilen sayının karesini alan bir fonksiyon yazmak istiyoruz:\n",
    "\n",
    "def karesini_yaz(sayi):\n",
    "    \n",
    "    # Sayının karesini alalım.\n",
    "    karesi = sayi**2\n",
    "    # Sayının karesini yazalım.\n",
    "    print(karesi)\n",
    "    \n",
    "karesini_yaz(40)"
   ]
  },
  {
   "cell_type": "code",
   "execution_count": 78,
   "metadata": {},
   "outputs": [
    {
     "name": "stdout",
     "output_type": "stream",
     "text": [
      "1600\n"
     ]
    }
   ],
   "source": [
    "# Şimdi bu fonksiyonu parametre ile çağıralım.\n",
    "\n",
    "karesini_yaz(40)"
   ]
  },
  {
   "cell_type": "code",
   "execution_count": 80,
   "metadata": {},
   "outputs": [
    {
     "name": "stdout",
     "output_type": "stream",
     "text": [
      "25\n"
     ]
    }
   ],
   "source": [
    "karesini_yaz(5)"
   ]
  },
  {
   "cell_type": "code",
   "execution_count": 148,
   "metadata": {},
   "outputs": [],
   "source": [
    "# Örnek: İki parametre alan bir fonksiyon tanımlayalım. Bu fonksiyon dikdörtgenin alanını hesaplasın.\n",
    "\n",
    "def dikdörtgen_alani(kisa_kenar,uzun_kenar):\n",
    "    alan = kisa_kenar * uzun_kenar\n",
    "    print(alan)"
   ]
  },
  {
   "cell_type": "code",
   "execution_count": 149,
   "metadata": {},
   "outputs": [
    {
     "name": "stdout",
     "output_type": "stream",
     "text": [
      "24\n"
     ]
    }
   ],
   "source": [
    "x=4\n",
    "y=6\n",
    "dikdörtgen_alani(x,y)"
   ]
  },
  {
   "cell_type": "code",
   "execution_count": 152,
   "metadata": {},
   "outputs": [
    {
     "name": "stdout",
     "output_type": "stream",
     "text": [
      "Adı :Peter\n",
      "Soyadı: Parker\n",
      "Yaşı: 46\n",
      "Kullandığı Programlama Dili: Python\n"
     ]
    }
   ],
   "source": [
    "# Örnek: Daha önce tanımladığımız öğrenci bilgileri fonksiyonunu bu sefer parametrik yapalım.\n",
    "\n",
    "\n",
    "def ogrenci_ilk_adi(ilk_adi):\n",
    "    print (\"Adı :\" + ilk_adi)\n",
    "    \n",
    "    \n",
    "def ogrenci_soyadi(soyadi):\n",
    "    print (\"Soyadı: \" + soyadi)\n",
    "    \n",
    "    \n",
    "def ogrenci_yasi(yas):\n",
    "    print (\"Yaşı: \" + str(yas))\n",
    "    \n",
    "    \n",
    "def ogrenci_dili(dili):\n",
    "    print (\"Kullandığı Programlama Dili: \" + dili)\n",
    "\n",
    "def ogrenci_bilgileri2(ilk_adi, soyadi, yas, dili):\n",
    "    \n",
    "    # Öğrencinin adı\n",
    "    ogrenci_ilk_adi(ilk_adi)\n",
    "    \n",
    "    # Öğrencinin Soyadı\n",
    "    ogrenci_soyadi(soyadi)\n",
    "    \n",
    "    # Öğrencinin yaşı\n",
    "    ogrenci_yasi(yas)\n",
    "    \n",
    "    # Öğrencinin kullandığı programlama dili\n",
    "    ogrenci_dili(dili)\n",
    "    \n",
    "\n",
    "ilk_adi = \"Peter\"\n",
    "soyadi = \"Parker\"\n",
    "yas = 46\n",
    "dili = \"Python\"\n",
    "\n",
    "ogrenci_bilgileri2(ilk_adi, soyadi, yas, dili)"
   ]
  },
  {
   "cell_type": "markdown",
   "metadata": {},
   "source": [
    "---\n",
    "\n",
    "### Scope (Yaşam Alanı) Kavramı"
   ]
  },
  {
   "cell_type": "markdown",
   "metadata": {},
   "source": [
    "Python'da değişkenler tanımlandıkları alanda ve o alanın alt alanlarında geçerlidir. Buna **scope** yani yaşam alanı denir."
   ]
  },
  {
   "cell_type": "markdown",
   "metadata": {},
   "source": [
    "Python'da scope girinti (indent) ile tanımlanır."
   ]
  },
  {
   "cell_type": "code",
   "execution_count": 153,
   "metadata": {},
   "outputs": [
    {
     "name": "stdout",
     "output_type": "stream",
     "text": [
      "100\n"
     ]
    }
   ],
   "source": [
    "# Fonksiyon scope'u içinde bir değişken tanımlayalım.\n",
    "\n",
    "def scope():\n",
    "    scope_degiskeni = 100\n",
    "    print(scope_degiskeni)\n",
    "    \n",
    "# Fonksiyonu çağıralım.\n",
    "\n",
    "scope()"
   ]
  },
  {
   "cell_type": "code",
   "execution_count": 1,
   "metadata": {},
   "outputs": [
    {
     "ename": "NameError",
     "evalue": "name 'scope_degiskeni' is not defined",
     "output_type": "error",
     "traceback": [
      "\u001b[1;31m---------------------------------------------------------------------------\u001b[0m",
      "\u001b[1;31mNameError\u001b[0m                                 Traceback (most recent call last)",
      "\u001b[1;32m<ipython-input-1-134805e53f9c>\u001b[0m in \u001b[0;36m<module>\u001b[1;34m\u001b[0m\n\u001b[0;32m      1\u001b[0m \u001b[1;31m# Şimdi bu değişkene dışarıdan erişmeye çalışalım\u001b[0m\u001b[1;33m\u001b[0m\u001b[1;33m\u001b[0m\u001b[1;33m\u001b[0m\u001b[0m\n\u001b[0;32m      2\u001b[0m \u001b[1;33m\u001b[0m\u001b[0m\n\u001b[1;32m----> 3\u001b[1;33m \u001b[0mprint\u001b[0m\u001b[1;33m(\u001b[0m\u001b[0mscope_degiskeni\u001b[0m\u001b[1;33m)\u001b[0m\u001b[1;33m\u001b[0m\u001b[1;33m\u001b[0m\u001b[0m\n\u001b[0m",
      "\u001b[1;31mNameError\u001b[0m: name 'scope_degiskeni' is not defined"
     ]
    }
   ],
   "source": [
    "# Şimdi bu değişkene dışarıdan erişmeye çalışalım\n",
    "\n",
    "print(scope_degiskeni)"
   ]
  },
  {
   "cell_type": "markdown",
   "metadata": {},
   "source": [
    "Değişkenin scope'nun dışından ona ulaşmaya çalışırsak Python Interpreter hata verir. -> NameError\n",
    "\n",
    "Ama daha üstte yani **global scope**'ta tanımlanmış bir değişkene erişebilirsiniz."
   ]
  },
  {
   "cell_type": "code",
   "execution_count": 5,
   "metadata": {},
   "outputs": [],
   "source": [
    "kisa = 4\n",
    "uzun =6"
   ]
  },
  {
   "cell_type": "code",
   "execution_count": 10,
   "metadata": {},
   "outputs": [],
   "source": [
    "# En tepede tanımlanmış kısa ve uzun değişkenlerine tüm fonksiyonlar erişebilir.\n",
    "\n",
    "def cevre():\n",
    "    dikdortgenin_cevresi=2*(kisa+uzun)\n",
    "    print(dikdortgenin_cevresi)"
   ]
  },
  {
   "cell_type": "code",
   "execution_count": 11,
   "metadata": {},
   "outputs": [
    {
     "name": "stdout",
     "output_type": "stream",
     "text": [
      "20\n"
     ]
    }
   ],
   "source": [
    "cevre()"
   ]
  },
  {
   "cell_type": "markdown",
   "metadata": {},
   "source": [
    "Peki `global scope` içindeki bir değişkeni fonksiyon içinden değiştirebilir miyiz?"
   ]
  },
  {
   "cell_type": "code",
   "execution_count": 17,
   "metadata": {},
   "outputs": [],
   "source": [
    "# Global scope'u değiştirmeye çalışan fonksiyon\n",
    "\n",
    "def global_degisken_degistir():\n",
    "    kisa = 400\n",
    "    print(kisa)"
   ]
  },
  {
   "cell_type": "code",
   "execution_count": 18,
   "metadata": {},
   "outputs": [
    {
     "name": "stdout",
     "output_type": "stream",
     "text": [
      "400\n"
     ]
    }
   ],
   "source": [
    "# Fonksiyonu çağıralım\n",
    "\n",
    "global_degisken_degistir()"
   ]
  },
  {
   "cell_type": "code",
   "execution_count": 19,
   "metadata": {},
   "outputs": [
    {
     "name": "stdout",
     "output_type": "stream",
     "text": [
      "4\n"
     ]
    }
   ],
   "source": [
    "# Fonksiyon çağrıldıktan sonra, kisa değişkeni ne olur?\n",
    "\n",
    "print(kisa)"
   ]
  },
  {
   "cell_type": "markdown",
   "metadata": {},
   "source": [
    "Fonksiyon içinden değiştirmemize rağmen, globaldeki değişkenin değeri değişmedi.\n",
    "\n",
    "Çünkü: Python, globaldeki 'kisa' değişkenine dokunmadı.\n",
    "\n",
    "Siz, fonksiyon içinde 'kisa' değişkenine atama yaptığınız anda, Python size yine bir değişken tanımlar.\n",
    "\n",
    "Globaldeki değişkenin kopyasıdır. Bu yeni kopya sadece fonksiyon scope'u içinde yaşar.\n",
    "\n",
    "Peki çözümü nedir?\n",
    "\n",
    "Global Scope'taki değişkeni gerçekten değiştirmek istiyorsak, değişkenin başına `global` anahtar kelimesi yazılır."
   ]
  },
  {
   "cell_type": "code",
   "execution_count": 23,
   "metadata": {},
   "outputs": [],
   "source": [
    "def global_degisken_degistir():\n",
    "    global kisa \n",
    "    kisa = 400\n",
    "    print(kisa)"
   ]
  },
  {
   "cell_type": "code",
   "execution_count": 25,
   "metadata": {},
   "outputs": [
    {
     "name": "stdout",
     "output_type": "stream",
     "text": [
      "400\n"
     ]
    }
   ],
   "source": [
    "global_degisken_degistir()"
   ]
  },
  {
   "cell_type": "code",
   "execution_count": 27,
   "metadata": {},
   "outputs": [
    {
     "name": "stdout",
     "output_type": "stream",
     "text": [
      "400\n"
     ]
    }
   ],
   "source": [
    "# Fakat burada önce fonksiyonu çağırmamız gerekiyor. Çağırmazsak kisa değeri yine 4 olarak alınır.\n",
    "\n",
    "print(kisa)"
   ]
  },
  {
   "cell_type": "markdown",
   "metadata": {},
   "source": [
    "---\n",
    "\n",
    "### Fonksiyonun Değer Dönmesi (return)\n",
    "\n",
    "Fonksiyonlar işlerini bitirdikten sonra geriye değer dönebilirler.\n",
    "\n",
    "Buna geriye değer **return** etmek denir ve **return** anahtar kelimesi ile sağlanır."
   ]
  },
  {
   "cell_type": "code",
   "execution_count": 2,
   "metadata": {},
   "outputs": [],
   "source": [
    "# Kendisine parametre olarak verilen bir sayının küpünü hesaplayıp geriye dönen bir fonksiyon yazalım.\n",
    "\n",
    "def cube(n):\n",
    "    \n",
    "    # Sayının küpünü hesaplayalım.\n",
    "    n_kup = n**3\n",
    "    \n",
    "    # Bu küp değerini geri dön.\n",
    "    return n_kup"
   ]
  },
  {
   "cell_type": "code",
   "execution_count": 3,
   "metadata": {},
   "outputs": [
    {
     "name": "stdout",
     "output_type": "stream",
     "text": [
      "125\n"
     ]
    }
   ],
   "source": [
    "# Şimdi fonksiyonu çağıralım. Fonksiyon bize bir değer döner. O değeri alıp bir değişkene atayabiliriz.\n",
    "\n",
    "sayi = 5\n",
    "\n",
    "kup = cube(5)\n",
    "\n",
    "print(kup)"
   ]
  },
  {
   "cell_type": "code",
   "execution_count": 4,
   "metadata": {},
   "outputs": [
    {
     "name": "stdout",
     "output_type": "stream",
     "text": [
      "64\n"
     ]
    }
   ],
   "source": [
    "n = 4 \n",
    "\n",
    "dordun_kupu = cube(4)\n",
    "\n",
    "print(dordun_kupu)"
   ]
  },
  {
   "cell_type": "code",
   "execution_count": 5,
   "metadata": {},
   "outputs": [
    {
     "name": "stdout",
     "output_type": "stream",
     "text": [
      "216\n"
     ]
    }
   ],
   "source": [
    "# Birleşim -> chain\n",
    "\n",
    "n = 6 \n",
    "print(cube(n))"
   ]
  },
  {
   "cell_type": "markdown",
   "metadata": {},
   "source": [
    "Geriye değer dönmeyen fonksiyonlara, **void** fonksiyonlar denir."
   ]
  },
  {
   "cell_type": "markdown",
   "metadata": {},
   "source": [
    "---\n",
    "\n",
    "### Docstring - Fonksiyonun Dokümantasyonu"
   ]
  },
  {
   "cell_type": "code",
   "execution_count": 6,
   "metadata": {},
   "outputs": [
    {
     "name": "stdout",
     "output_type": "stream",
     "text": [
      "Help on function cube in module __main__:\n",
      "\n",
      "cube(n)\n",
      "\n"
     ]
    }
   ],
   "source": [
    "# Fonksiyon hakkında yardım alalım.\n",
    "\n",
    "help(cube)"
   ]
  },
  {
   "cell_type": "code",
   "execution_count": 9,
   "metadata": {},
   "outputs": [
    {
     "data": {
      "text/plain": [
       "\u001b[1;31mSignature:\u001b[0m \u001b[0mcube\u001b[0m\u001b[1;33m(\u001b[0m\u001b[0mn\u001b[0m\u001b[1;33m)\u001b[0m\u001b[1;33m\u001b[0m\u001b[1;33m\u001b[0m\u001b[0m\n",
       "\u001b[1;31mDocstring:\u001b[0m <no docstring>\n",
       "\u001b[1;31mFile:\u001b[0m      c:\\users\\sw4yt\\desktop\\python\\notebook\\udemy_musa\\<ipython-input-2-71688d9c8720>\n",
       "\u001b[1;31mType:\u001b[0m      function\n"
      ]
     },
     "metadata": {},
     "output_type": "display_data"
    }
   ],
   "source": [
    "# Fonksiyon hakkında yardım alalım. 2\n",
    "\n",
    "cube?"
   ]
  },
  {
   "cell_type": "code",
   "execution_count": 10,
   "metadata": {},
   "outputs": [
    {
     "data": {
      "text/plain": [
       "\u001b[1;31mSignature:\u001b[0m \u001b[0mcube\u001b[0m\u001b[1;33m(\u001b[0m\u001b[0mn\u001b[0m\u001b[1;33m)\u001b[0m\u001b[1;33m\u001b[0m\u001b[1;33m\u001b[0m\u001b[0m\n",
       "\u001b[1;31mDocstring:\u001b[0m <no docstring>\n",
       "\u001b[1;31mSource:\u001b[0m   \n",
       "\u001b[1;32mdef\u001b[0m \u001b[0mcube\u001b[0m\u001b[1;33m(\u001b[0m\u001b[0mn\u001b[0m\u001b[1;33m)\u001b[0m\u001b[1;33m:\u001b[0m\u001b[1;33m\n",
       "\u001b[0m    \u001b[1;33m\n",
       "\u001b[0m    \u001b[1;31m# Sayının küpünü hesaplayalım.\u001b[0m\u001b[1;33m\n",
       "\u001b[0m    \u001b[0mn_kup\u001b[0m \u001b[1;33m=\u001b[0m \u001b[0mn\u001b[0m\u001b[1;33m**\u001b[0m\u001b[1;36m3\u001b[0m\u001b[1;33m\n",
       "\u001b[0m    \u001b[1;33m\n",
       "\u001b[0m    \u001b[1;31m# Bu küp değerini geri dön.\u001b[0m\u001b[1;33m\n",
       "\u001b[0m    \u001b[1;32mreturn\u001b[0m \u001b[0mn_kup\u001b[0m\u001b[1;33m\u001b[0m\u001b[1;33m\u001b[0m\u001b[0m\n",
       "\u001b[1;31mFile:\u001b[0m      c:\\users\\sw4yt\\desktop\\python\\notebook\\udemy_musa\\<ipython-input-2-71688d9c8720>\n",
       "\u001b[1;31mType:\u001b[0m      function\n"
      ]
     },
     "metadata": {},
     "output_type": "display_data"
    }
   ],
   "source": [
    "# Fonksiyon hakkında yardım alalım. En detaylısı! Kaynak kodunuda gösterir.\n",
    "\n",
    "cube??"
   ]
  },
  {
   "cell_type": "code",
   "execution_count": null,
   "metadata": {},
   "outputs": [],
   "source": [
    "# Docstring'i olan bir fonksiyon yazalım.\n",
    "\n",
    "def ustel_hesapla(sayi, ust):\n",
    "    \"\"\"\n",
    "       Bu fonksiyon üstel hesaplama yapar.\n",
    "       Parametreler: int sayi, int ust\n",
    "       Sonuc: verilen sayinin, verilen üstünü döner.\n",
    "    \"\"\""
   ]
  }
 ],
 "metadata": {
  "kernelspec": {
   "display_name": "Python 3",
   "language": "python",
   "name": "python3"
  },
  "language_info": {
   "codemirror_mode": {
    "name": "ipython",
    "version": 3
   },
   "file_extension": ".py",
   "mimetype": "text/x-python",
   "name": "python",
   "nbconvert_exporter": "python",
   "pygments_lexer": "ipython3",
   "version": "3.8.5"
  }
 },
 "nbformat": 4,
 "nbformat_minor": 4
}
