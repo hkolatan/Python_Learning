{
 "cells": [
  {
   "cell_type": "markdown",
   "id": "cb8d86c0-d100-45a9-930d-19752cc308a2",
   "metadata": {},
   "source": [
    "## Monte Carlo\n",
    "Monte Carlo yöntemi birçok alanda kullanılan bir istatistiksel simülasyon yöntemidir. Örneğin, olasılık hesaplamak veya karmaşık sistemlerin davranışını modellemek için kullanılabilir. Monte Carlo yöntemi, rastgele örneklem alma yaparak sonuçların tahmin edilmesine dayanır.\n",
    "\n",
    "Python'da Monte Carlo yöntemi uygulamak için öncelikle rastgele sayılar üretmek için bir kütüphane olan random kütüphanesini kullanmalısınız. Aşağıdaki kod örneği, bir pi sayısını Monte Carlo yöntemi ile tahmin etmek için rastgele sayılar kullanır:"
   ]
  },
  {
   "cell_type": "code",
   "execution_count": 1,
   "id": "6f9650eb-eac2-4cbf-b27f-82540efdbf10",
   "metadata": {
    "tags": []
   },
   "outputs": [
    {
     "name": "stdout",
     "output_type": "stream",
     "text": [
      "3.1584\n"
     ]
    }
   ],
   "source": [
    "import random\n",
    "\n",
    "def monte_carlo_pi(num_trials):\n",
    "    num_hits = 0\n",
    "    for i in range(num_trials):\n",
    "        x, y = random.uniform(0, 1), random.uniform(0, 1)\n",
    "        if x**2 + y**2 < 1:\n",
    "            num_hits += 1\n",
    "    return 4 * num_hits / num_trials\n",
    "\n",
    "print(monte_carlo_pi(10000))"
   ]
  },
  {
   "cell_type": "markdown",
   "id": "b7d2c9a9-07e5-4bad-a2d6-09bbe4374a25",
   "metadata": {},
   "source": [
    "Bu kod, belirli sayıda rastgele nokta oluşturur ve bu noktaların bir çemberin içinde mi yoksa dışında mı olduğunu kontrol eder. Çemberin içindeki noktaların sayısı ve toplam noktaların sayısı arasındaki oran, pi sayısının tahmini için kullanılır.\n",
    "\n",
    "Yukarıdaki kod örneği, monte_carlo_pi fonksiyonunu tanımlar. Bu fonksiyon, belirli bir sayıda (num_trials) rastgele nokta oluşturur ve bu noktaların çemberin içinde mi yoksa dışında mı olduğunu kontrol eder. Sonra, çemberin içindeki noktaların sayısı ve toplam noktaların sayısı arasındaki oranı hesaplar ve pi sayısının tahmini olarak döndürür.\n",
    "\n",
    "Daha sonra, monte_carlo_pi fonksiyonunu print fonksiyonu ile çağırarak pi sayısının tahminini ekrana yazdırabilirsiniz. Örneğin, yukarıdaki kodda 10.000 rastgele nokta kullanıldığı için sonuçlar yaklaşık olarak 3.14'e yakın olacaktır. Num_trials değeri arttıkça sonuç daha da yakınlaşacaktır."
   ]
  },
  {
   "cell_type": "markdown",
   "id": "fcfc00e6-acfc-4c43-8345-7ecc13e01148",
   "metadata": {},
   "source": [
    "## Örnek: Kovanın Hacmi\n",
    "\n",
    "Bir kovayı düşünelim. Bu kovanın içinde, yarıçapı 10 cm ve yüksekliği 20 cm olan bir silindirik bir kutu var. Kovayı suyla doldurmak istiyoruz ve kutunun tamamen suyla kaplanmasını sağlamak için gereken minimum su hacmini hesaplamamız gerekiyor. Monte Carlo yöntemi kullanarak bu sorunu çözebiliriz.\n",
    "\n",
    "Kutunun hacmi, silindirin hacmi (pi x r^2 x h) ve kovanın hacminin (pi x r^2 x H) toplamıdır. Burada, r kovayı saran silindirin yarıçapı, h silindirin yüksekliği ve H kovanın yüksekliğidir. Kutunun tamamen suyla kaplandığından emin olmak için, rastgele üretilen noktaların kutu içinde mi yoksa dışında mı olduğunu kontrol edeceğiz.\n",
    "\n",
    "Aşağıdaki Python kodu, Monte Carlo yöntemini kullanarak kovanın hacmini hesaplar:"
   ]
  },
  {
   "cell_type": "code",
   "execution_count": 2,
   "id": "f734e255-3dc7-433f-8fbe-88925c2a4859",
   "metadata": {
    "tags": []
   },
   "outputs": [
    {
     "name": "stdout",
     "output_type": "stream",
     "text": [
      "156.552\n"
     ]
    }
   ],
   "source": [
    "import random\n",
    "\n",
    "def monte_carlo_ornek(num_trials):\n",
    "    num_hits = 0\n",
    "    for i in range(num_trials):\n",
    "        x, y, z = random.uniform(-10, 10), random.uniform(-10, 10), random.uniform(0, 20)\n",
    "        if x**2 + y**2 <= 100 and z <= 10:\n",
    "            num_hits += 1\n",
    "    return 400 * num_hits / num_trials\n",
    "\n",
    "print(monte_carlo_ornek(100000))"
   ]
  },
  {
   "cell_type": "code",
   "execution_count": 5,
   "id": "a951f526-f897-4aa9-a881-f54a54d4d6aa",
   "metadata": {
    "tags": []
   },
   "outputs": [
    {
     "name": "stdout",
     "output_type": "stream",
     "text": [
      "0.0\n"
     ]
    }
   ],
   "source": [
    "import random\n",
    "\n",
    "def monte_carlo_rulet_ornek(num_trials):\n",
    "    num_wins = 0\n",
    "    for i in range(num_trials):\n",
    "        money = 100\n",
    "        while money > 0:\n",
    "            # strateji: her seferinde 10 birim bahis yap\n",
    "            # ve her kaybettiğinde bahisi iki katına çıkar\n",
    "            bahis = 10\n",
    "            while True:\n",
    "                outcome = random.randint(0, 36)\n",
    "                if outcome == 0:\n",
    "                    money -= bahis\n",
    "                    break\n",
    "                elif outcome % 2 == 0:\n",
    "                    money += bahis\n",
    "                    break\n",
    "                else:\n",
    "                    money -= bahis\n",
    "                    bahis *= 2\n",
    "                    if money < bahis:\n",
    "                        break\n",
    "        if money > 0:\n",
    "            num_wins += 1\n",
    "    return num_wins / num_trials\n",
    "\n",
    "print(monte_carlo_rulet_ornek(100000))"
   ]
  },
  {
   "cell_type": "code",
   "execution_count": null,
   "id": "2a9336b7-1b24-4683-bd09-575628155fca",
   "metadata": {},
   "outputs": [],
   "source": []
  }
 ],
 "metadata": {
  "kernelspec": {
   "display_name": "Python 3 (ipykernel)",
   "language": "python",
   "name": "python3"
  },
  "language_info": {
   "codemirror_mode": {
    "name": "ipython",
    "version": 3
   },
   "file_extension": ".py",
   "mimetype": "text/x-python",
   "name": "python",
   "nbconvert_exporter": "python",
   "pygments_lexer": "ipython3",
   "version": "3.8.16"
  }
 },
 "nbformat": 4,
 "nbformat_minor": 5
}
