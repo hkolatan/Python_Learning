{
 "cells": [
  {
   "cell_type": "markdown",
   "id": "57e1a898-f598-4e86-a9d2-223a5a4266fe",
   "metadata": {},
   "source": [
    "# Programı Dallandırma (Branching)"
   ]
  },
  {
   "cell_type": "markdown",
   "id": "cccb1206-3382-4941-9103-b9079c1d8ca5",
   "metadata": {},
   "source": [
    "* İfadelerin değerlerinin True ya da False olduklarını veren karşılaştırmalara ve mantıksal operatörlere bakmıştık.\n",
    "* Şimdi bunların sonuçlarına göre programımızı dallandırmaya bakacağız."
   ]
  },
  {
   "cell_type": "markdown",
   "id": "29704cd1-ccd2-4342-8f0e-9994fda515f6",
   "metadata": {},
   "source": [
    "## if"
   ]
  },
  {
   "cell_type": "markdown",
   "id": "91f8fd12-c549-4a5c-81cb-e6af542df0a4",
   "metadata": {
    "tags": []
   },
   "source": [
    "* Eğer testimin değeri True ise ```if``` bloğunun içinde yazanı yapacağız.\n",
    "* Yapılacakların ```if``` bloğuna ait olduğunu anlamak için kodu ```if```'in içine yazarız. Python'ın o bloğun içinde olduğumuzu anlaması için boşluk bırakmamız gerekir."
   ]
  },
  {
   "cell_type": "code",
   "execution_count": 4,
   "id": "3f328bfd-7849-4a00-acdb-ea5a414ac14f",
   "metadata": {
    "tags": []
   },
   "outputs": [
    {
     "name": "stdin",
     "output_type": "stream",
     "text": [
      "Bir sayı giriniz:  5\n"
     ]
    },
    {
     "name": "stdout",
     "output_type": "stream",
     "text": [
      "Programınız sona ulaştı.\n"
     ]
    }
   ],
   "source": [
    "x = int(input(\"Bir sayı giriniz: \"))\n",
    "\n",
    "if x % 2 == 0:\n",
    "    print(\"Girdiğiniz sayı çift sayıdır.\")\n",
    "    \n",
    "print(\"Programınız sona ulaştı.\")"
   ]
  },
  {
   "cell_type": "code",
   "execution_count": 5,
   "id": "fe786960-e45e-4ddd-a650-abbb21c65b28",
   "metadata": {
    "tags": []
   },
   "outputs": [
    {
     "name": "stdin",
     "output_type": "stream",
     "text": [
      "Bir sayı giriniz:  2\n"
     ]
    },
    {
     "name": "stdout",
     "output_type": "stream",
     "text": [
      "Girdiğiniz sayı çift sayıdır.\n",
      "Programınız sona ulaştı.\n"
     ]
    }
   ],
   "source": [
    "x = int(input(\"Bir sayı giriniz: \"))\n",
    "\n",
    "if x % 2 == 0:\n",
    "    print(\"Girdiğiniz sayı çift sayıdır.\")\n",
    "    \n",
    "print(\"Programınız sona ulaştı.\")"
   ]
  },
  {
   "cell_type": "markdown",
   "id": "b42b9ec6-9f00-47a4-b670-dfaccd80c705",
   "metadata": {},
   "source": [
    "## else"
   ]
  },
  {
   "cell_type": "markdown",
   "id": "6523f7c7-900a-49c8-b68f-bc41bab7e8c7",
   "metadata": {
    "tags": []
   },
   "source": [
    "* if ile kontrolümüz (veya elseif - elif) ```False``` sonucu döndürülürse yapılacak bloktur."
   ]
  },
  {
   "cell_type": "code",
   "execution_count": 7,
   "id": "8ed1b55e-81c2-4e04-ac76-8d8c9184fdb3",
   "metadata": {
    "tags": []
   },
   "outputs": [
    {
     "name": "stdin",
     "output_type": "stream",
     "text": [
      "Bir sayı giriniz:  2\n"
     ]
    },
    {
     "name": "stdout",
     "output_type": "stream",
     "text": [
      "Girdiğiniz sayı çift sayıdır.\n",
      "Programınız sona ulaştı.\n"
     ]
    }
   ],
   "source": [
    "x = int(input(\"Bir sayı giriniz: \"))\n",
    "\n",
    "if x % 2 == 0:\n",
    "    print(\"Girdiğiniz sayı çift sayıdır.\")\n",
    "else: #else'de bir sorgulama yok. Yani bu değilse bunu sorgula gibi bir durum yoktur.\n",
    "    print(\"Girdğiniz sayı tek sayıdır.\")\n",
    "    \n",
    "print(\"Programınız sona ulaştı.\")"
   ]
  },
  {
   "cell_type": "markdown",
   "id": "23600006-2a77-46c4-b2af-cb4d88e2ef7c",
   "metadata": {},
   "source": [
    "## elif"
   ]
  },
  {
   "cell_type": "markdown",
   "id": "f2147db6-ce1c-4f95-ab9d-011e355f3583",
   "metadata": {},
   "source": [
    "* elif, if ile yaptığımız teste ek olarak başka testler yapmamıza imkan sağlamaktadır."
   ]
  },
  {
   "cell_type": "code",
   "execution_count": 10,
   "id": "734bdf7e-0a43-427f-a658-73a3bb7f75f7",
   "metadata": {
    "tags": []
   },
   "outputs": [
    {
     "name": "stdin",
     "output_type": "stream",
     "text": [
      "Bir sayı giriniz:  20\n"
     ]
    },
    {
     "name": "stdout",
     "output_type": "stream",
     "text": [
      "Sayı 10'dan büyüktür.\n",
      "Programınız sona ulaştı.\n"
     ]
    }
   ],
   "source": [
    "x = int(input(\"Bir sayı giriniz: \"))\n",
    "\n",
    "if x < 10:\n",
    "    print(\"Sayı 10'dan küçüktür.\")\n",
    "elif x == 10:\n",
    "    print(\"Sayı 10'a eşittir.\")\n",
    "else: #else'de bir sorgulama yok. Yani bu değilse bunu sorgula gibi bir durum yoktur.\n",
    "    print(\"Sayı 10'dan büyüktür.\")\n",
    "    \n",
    "print(\"Programınız sona ulaştı.\")"
   ]
  },
  {
   "cell_type": "code",
   "execution_count": null,
   "id": "dc1f11ab-5545-4c8d-a879-4812863f8280",
   "metadata": {},
   "outputs": [
    {
     "name": "stdin",
     "output_type": "stream",
     "text": [
      "50 ile 100 arasında bir sayı giriniz:  50\n"
     ]
    },
    {
     "name": "stdout",
     "output_type": "stream",
     "text": [
      "Sayı 50 ile 90 arasındadır.\n"
     ]
    }
   ],
   "source": [
    "x = int(input(\"50 ile 100 arasında bir sayı giriniz: \"))\n",
    "if x == 100:\n",
    "    print(\"Sayı 100' eşittir.\")\n",
    "elif x >= 90:\n",
    "    print(\"Sayı 90 ile 100 arasındadır.\")\n",
    "elif x >= 50:\n",
    "    print(\"Sayı 50 ile 90 arasındadır.\")\n",
    "else:\n",
    "    print(\"Girdiğiniz sayı 50'den küçüktür. Lütfen tekrar deneyiniz!\")"
   ]
  },
  {
   "cell_type": "code",
   "execution_count": null,
   "id": "d9d45fd9-0741-4e7d-8fe0-70414b94b4b5",
   "metadata": {},
   "outputs": [
    {
     "name": "stdin",
     "output_type": "stream",
     "text": [
      "50 ile 100 arasında bir sayı giriniz:  40\n"
     ]
    },
    {
     "name": "stdout",
     "output_type": "stream",
     "text": [
      "Girdiğiniz sayı 50'den küçüktür. Lütfen tekrar deneyiniz!\n"
     ]
    }
   ],
   "source": [
    "x = int(input(\"50 ile 100 arasında bir sayı giriniz: \"))\n",
    "if x == 100:\n",
    "    print(\"Sayı 100' eşittir.\")\n",
    "elif x >= 90:\n",
    "    print(\"Sayı 90 ile 100 arasındadır.\")\n",
    "elif x >= 50:\n",
    "    print(\"Sayı 50 ile 90 arasındadır.\")\n",
    "else:\n",
    "    print(\"Girdiğiniz sayı 50'den küçüktür. Lütfen tekrar deneyiniz!\")"
   ]
  },
  {
   "cell_type": "markdown",
   "id": "5e9cf165-eee2-4a77-92c4-e26fca2cd39f",
   "metadata": {},
   "source": [
    "## Nested if"
   ]
  },
  {
   "cell_type": "markdown",
   "id": "7e33597a-a7b8-4177-85ac-0814106c4173",
   "metadata": {},
   "source": [
    "* if, elif ve else bloğunun içine yazdığımız kod normal koddan farklı değil, o yüzden bunların içine de ayrıca if, elif ve else yazabiliriz."
   ]
  },
  {
   "cell_type": "code",
   "execution_count": 6,
   "id": "71ba6dd8-5915-4e0c-b359-bb35813fec50",
   "metadata": {
    "tags": []
   },
   "outputs": [
    {
     "name": "stdin",
     "output_type": "stream",
     "text": [
      "Bir sayı giriniz:  6\n"
     ]
    },
    {
     "name": "stdout",
     "output_type": "stream",
     "text": [
      "Sayı hem 2'ye hem de 3'e bölünebiliyor.\n",
      "Programınız sonlandı.\n"
     ]
    }
   ],
   "source": [
    "x = int(input(\"Bir sayı giriniz: \"))\n",
    "\n",
    "if x % 3 == 0:\n",
    "    if x % 2 == 0:\n",
    "        print(\"Sayı hem 2'ye hem de 3'e bölünebiliyor.\")\n",
    "    else:\n",
    "        print(\"Sayı 3'e bölünüyor ama 2'ye bölünemiyor.\")\n",
    "\n",
    "else:\n",
    "    print(\"Sayı 3'e bölünemiyor.\")\n",
    "print(\"Programınız sonlandı.\")"
   ]
  },
  {
   "cell_type": "code",
   "execution_count": 7,
   "id": "1737fc9e-1179-4887-ab61-fea960488ef1",
   "metadata": {
    "tags": []
   },
   "outputs": [
    {
     "name": "stdin",
     "output_type": "stream",
     "text": [
      "Bir sayı giriniz:  10\n"
     ]
    },
    {
     "name": "stdout",
     "output_type": "stream",
     "text": [
      "Sayı 3'e bölünemiyor.\n",
      "Programınız sonlandı.\n"
     ]
    }
   ],
   "source": [
    "x = int(input(\"Bir sayı giriniz: \"))\n",
    "\n",
    "if x % 3 == 0:\n",
    "    if x % 2 == 0:\n",
    "        print(\"Sayı hem 2'ye hem de 3'e bölünebiliyor.\")\n",
    "    else:\n",
    "        print(\"Sayı 3'e bölünüyor ama 2'ye bölünemiyor.\")\n",
    "\n",
    "else:\n",
    "    print(\"Sayı 3'e bölünemiyor.\")\n",
    "print(\"Programınız sonlandı.\")"
   ]
  },
  {
   "cell_type": "markdown",
   "id": "405c2cae-6868-458d-9855-51156379d82c",
   "metadata": {
    "tags": []
   },
   "source": [
    "## Test Olatak Mantıksal Operatörleri Kullanmak"
   ]
  },
  {
   "cell_type": "code",
   "execution_count": 17,
   "id": "6cf15da8-d634-455b-8bf6-5baf4ce20e5e",
   "metadata": {
    "tags": []
   },
   "outputs": [
    {
     "name": "stdin",
     "output_type": "stream",
     "text": [
      "Bir sayı giriniz:  5\n"
     ]
    },
    {
     "name": "stdout",
     "output_type": "stream",
     "text": [
      "Sayınız 2 ve 3'e aynı anda bölünemiyor.\n",
      "Programınız sonlandı.\n"
     ]
    }
   ],
   "source": [
    "x = int(input(\"Bir sayı giriniz: \"))\n",
    "\n",
    "if (x % 3 == 0) and (x % 2 == 0):\n",
    "    print(\"Sayı hem 2'ye hem de 3'e bölünebiliyor.\")\n",
    "else: \n",
    "    print(\"Sayınız 2 ve 3'e aynı anda bölünemiyor.\")\n",
    "print(\"Programınız sonlandı.\")"
   ]
  },
  {
   "cell_type": "code",
   "execution_count": 19,
   "id": "02df334c-9a00-4922-a3ce-8f5a4dbb876d",
   "metadata": {
    "tags": []
   },
   "outputs": [
    {
     "name": "stdin",
     "output_type": "stream",
     "text": [
      "Bir sayı giriniz:  5\n"
     ]
    },
    {
     "name": "stdout",
     "output_type": "stream",
     "text": [
      "Sayınız 2'ye ya da 3'e bölünemiyor.\n",
      "Programınız sonlandı.\n"
     ]
    }
   ],
   "source": [
    "x = int(input(\"Bir sayı giriniz: \"))\n",
    "\n",
    "if (x % 3 == 0) or (x % 2 == 0):\n",
    "    print(\"Sayı 2'ye ya da 3' bölünebiliyor.\")\n",
    "else: \n",
    "    print(\"Sayınız 2'ye ya da 3'e bölünemiyor.\")\n",
    "print(\"Programınız sonlandı.\")"
   ]
  },
  {
   "cell_type": "markdown",
   "id": "7afada61-14a5-48d2-8e98-0b383ced7507",
   "metadata": {},
   "source": [
    "## Ternary Conditionals"
   ]
  },
  {
   "cell_type": "markdown",
   "id": "5acd0656-bb16-4657-a2b8-85514c0c74bb",
   "metadata": {},
   "source": [
    "* ```Ternary Conditionals``` aslında daha önce yapamadığımız bir şeyi yapabilmemize olanak sağlamayacak. ```if-else``` mantığını tek satırda kullanıp döndürülecek sonucu ona göre belirmemizi sağlayacak.\n",
    "* Diyelim ki belirli bir durumu test edip, x değişkeninin değerini bu testin sonucuna göre belirlemek istiyorum. Soruya cevabım \"y\" olursa değeri 2'ye, yoksa 0'a eşitleyeceğim."
   ]
  },
  {
   "cell_type": "code",
   "execution_count": 21,
   "id": "d9736b25-ef42-4ba8-ac99-20447af600d8",
   "metadata": {
    "tags": []
   },
   "outputs": [
    {
     "name": "stdin",
     "output_type": "stream",
     "text": [
      "x'in değeri 2 olsun mu? y/n: n\n"
     ]
    },
    {
     "name": "stdout",
     "output_type": "stream",
     "text": [
      "0\n"
     ]
    }
   ],
   "source": [
    "# Cevap olarak \"y\" (yes/evet), \"n\" (no/hayır) vereceğiz.\n",
    "cevap = input(\"x'in değeri 2 olsun mu? y/n:\")\n",
    "if cevap == \"y\": \n",
    "    x = 2\n",
    "else:\n",
    "    x = 0\n",
    "print(x)"
   ]
  },
  {
   "cell_type": "code",
   "execution_count": 24,
   "id": "7d2e6bbc-59ca-4c65-89a7-e20b962d4f71",
   "metadata": {
    "collapsed": true,
    "jupyter": {
     "outputs_hidden": true
    },
    "tags": []
   },
   "outputs": [
    {
     "name": "stdin",
     "output_type": "stream",
     "text": [
      "x'in değeri 2 olsun mu? y/n: y\n"
     ]
    },
    {
     "name": "stdout",
     "output_type": "stream",
     "text": [
      "2\n"
     ]
    }
   ],
   "source": [
    "# Cevap olarak \"y\" (yes/evet), \"n\" (no/hayır) vereceğiz.\n",
    "cevap = input(\"x'in değeri 2 olsun mu? y/n:\")\n",
    "x = 2 if cevap == \"y\" else 0\n",
    "print(x)"
   ]
  },
  {
   "cell_type": "code",
   "execution_count": 25,
   "id": "9fc133cd-0bb2-439c-9c22-44b760d4666d",
   "metadata": {
    "tags": []
   },
   "outputs": [
    {
     "name": "stdin",
     "output_type": "stream",
     "text": [
      "x'in değeri 2 olsun mu? y/n: n\n"
     ]
    },
    {
     "name": "stdout",
     "output_type": "stream",
     "text": [
      "0\n"
     ]
    }
   ],
   "source": [
    "# Daha düzenli bir şekilde yazacak olursak.\n",
    "cevap = input(\"x'in değeri 2 olsun mu? y/n:\")\n",
    "condition = cevap == \"y\"\n",
    "x = 2 if condition == \"y\" else 0\n",
    "print(x)"
   ]
  },
  {
   "cell_type": "code",
   "execution_count": 23,
   "id": "b994d91b-9501-4293-9a4d-2cf00e6b9482",
   "metadata": {
    "tags": []
   },
   "outputs": [
    {
     "name": "stdin",
     "output_type": "stream",
     "text": [
      "SQL deneyiminiz kaç yıldır? 5\n"
     ]
    },
    {
     "name": "stdout",
     "output_type": "stream",
     "text": [
      "İşe alındınız.\n"
     ]
    }
   ],
   "source": [
    "cevap = int(input(\"SQL deneyiminiz kaç yıldır?\"))\n",
    "if cevap > 1: \n",
    "    x = \"İşe alındınız.\"\n",
    "else:\n",
    "    x = \"İşe alınmadınız.\"\n",
    "print(x)"
   ]
  },
  {
   "cell_type": "code",
   "execution_count": 26,
   "id": "aef2c3b9-3af4-4dd7-9c05-fe1486acac2b",
   "metadata": {
    "tags": []
   },
   "outputs": [
    {
     "name": "stdin",
     "output_type": "stream",
     "text": [
      "SQL deneyiminiz kaç yıldır? 5\n"
     ]
    },
    {
     "name": "stdout",
     "output_type": "stream",
     "text": [
      "İşe alındınız.\n"
     ]
    }
   ],
   "source": [
    "cevap = int(input(\"SQL deneyiminiz kaç yıldır?\"))\n",
    "x = \"İşe alındınız.\" if cevap > 1 else \"İşe alınmadınız.\"\n",
    "print(x)"
   ]
  },
  {
   "cell_type": "code",
   "execution_count": null,
   "id": "f1550791-9e4f-4e11-8eb3-d78d790b4797",
   "metadata": {},
   "outputs": [],
   "source": []
  }
 ],
 "metadata": {
  "kernelspec": {
   "display_name": "Python 3 (ipykernel)",
   "language": "python",
   "name": "python3"
  },
  "language_info": {
   "codemirror_mode": {
    "name": "ipython",
    "version": 3
   },
   "file_extension": ".py",
   "mimetype": "text/x-python",
   "name": "python",
   "nbconvert_exporter": "python",
   "pygments_lexer": "ipython3",
   "version": "3.8.16"
  }
 },
 "nbformat": 4,
 "nbformat_minor": 5
}
