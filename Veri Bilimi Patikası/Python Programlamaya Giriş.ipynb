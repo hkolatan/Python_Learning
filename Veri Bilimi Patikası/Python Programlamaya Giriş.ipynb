{
 "cells": [
  {
   "cell_type": "markdown",
   "id": "54ad4656-94d3-4667-9ea9-359c7dde43a0",
   "metadata": {
    "tags": []
   },
   "source": [
    "# Python Programlamaya Giriş"
   ]
  },
  {
   "cell_type": "markdown",
   "id": "c7754f4c-8653-4f56-805e-6941d9467688",
   "metadata": {},
   "source": [
    "## Variables (Değişkenler)"
   ]
  },
  {
   "cell_type": "markdown",
   "id": "94efe8f8-aaee-444c-9055-e611bfaf4709",
   "metadata": {},
   "source": [
    "* Bazı değerleri bilgisayarın hafızasında tutmak ve daha sonra bunlara verdiğimiz adlarla erişmek isteyebiliriz. Bunu variable'lar ile gerçekleştireceğiz. \n",
    "* İlk olarak yapacağımız şey variable'a vereceğimiz ismi yazmak. Bu isim ```penguen``` , ```uzunluk``` , ```maaş```  gibi istediğimiz bir isim olabilir (burada dikkat edilmesi gereken yer, verilecek ismin daha önceden python'ın varsayılan olarak kullanmadığı isimler olması. Mesela ```if``` , ```continue```, ```for``` gibi keyword'ler daha önceden ayrıldığı için bunları variable ismi olarak kullanmalıyız)"
   ]
  },
  {
   "cell_type": "markdown",
   "id": "47696a2f-7b73-46c0-89b0-3f457f9d8105",
   "metadata": {},
   "source": [
    "Python'ın daha önceden kendisine ayırdığı isimler (<b>reserved words</b>):"
   ]
  },
  {
   "cell_type": "code",
   "execution_count": null,
   "id": "4dbcdf93-a4dc-45bd-acc0-d6fa538f3106",
   "metadata": {
    "tags": []
   },
   "outputs": [
    {
     "name": "stdout",
     "output_type": "stream",
     "text": [
      "\n",
      "Welcome to Python 3.8's help utility!\n",
      "\n",
      "If this is your first time using Python, you should definitely check out\n",
      "the tutorial on the Internet at https://docs.python.org/3.8/tutorial/.\n",
      "\n",
      "Enter the name of any module, keyword, or topic to get help on writing\n",
      "Python programs and using Python modules.  To quit this help utility and\n",
      "return to the interpreter, just type \"quit\".\n",
      "\n",
      "To get a list of available modules, keywords, symbols, or topics, type\n",
      "\"modules\", \"keywords\", \"symbols\", or \"topics\".  Each module also comes\n",
      "with a one-line summary of what it does; to list the modules whose name\n",
      "or summary contain a given string such as \"spam\", type \"modules spam\".\n",
      "\n"
     ]
    },
    {
     "name": "stdin",
     "output_type": "stream",
     "text": [
      "help>  keywords\n"
     ]
    },
    {
     "name": "stdout",
     "output_type": "stream",
     "text": [
      "\n",
      "Here is a list of the Python keywords.  Enter any keyword to get more help.\n",
      "\n",
      "False               class               from                or\n",
      "None                continue            global              pass\n",
      "True                def                 if                  raise\n",
      "and                 del                 import              return\n",
      "as                  elif                in                  try\n",
      "assert              else                is                  while\n",
      "async               except              lambda              with\n",
      "await               finally             nonlocal            yield\n",
      "break               for                 not                 \n",
      "\n"
     ]
    }
   ],
   "source": [
    "help(keywords) ##Bu isimlerle değişken atanamaz!"
   ]
  },
  {
   "cell_type": "markdown",
   "id": "0be7303e-981b-4388-841b-65b0a7368a0b",
   "metadata": {},
   "source": [
    "Variable ismini seçtikten sonra bu ismin değerinin ne olacağını söylemeliyiz. Bu aşamadan sonra python verdiğimiz ismi gördüğünde aslında verdiğimiz değeri çağırıyor olacak."
   ]
  },
  {
   "cell_type": "markdown",
   "id": "856f95fa-b61d-484b-9257-5475cf7ac91f",
   "metadata": {},
   "source": [
    "Bu değer atama işlemini ```=``` sembolü ile yapacağız. Normalde bildiğimiz anlamından farklı bu ```=``` işareti. Eşitliğin sağındaki değeri solda yazdığımızın değeri olarak ata demiş oluyoruz bununla. Bu işleme ```variable assignment``` deniyor."
   ]
  },
  {
   "cell_type": "code",
   "execution_count": 1,
   "id": "035bb116-e5a0-4fa8-ba36-31b0b0ea6cce",
   "metadata": {
    "tags": []
   },
   "outputs": [],
   "source": [
    "a = 2"
   ]
  },
  {
   "cell_type": "code",
   "execution_count": 2,
   "id": "cdf8bd87-1eec-4d88-b3dd-7549bdf93b96",
   "metadata": {
    "tags": []
   },
   "outputs": [
    {
     "data": {
      "text/plain": [
       "2"
      ]
     },
     "execution_count": 2,
     "metadata": {},
     "output_type": "execute_result"
    }
   ],
   "source": [
    "a"
   ]
  },
  {
   "cell_type": "code",
   "execution_count": 3,
   "id": "9e1af992-5084-448a-a70a-9c8e5b3b7496",
   "metadata": {
    "tags": []
   },
   "outputs": [
    {
     "data": {
      "text/plain": [
       "7"
      ]
     },
     "execution_count": 3,
     "metadata": {},
     "output_type": "execute_result"
    }
   ],
   "source": [
    "a + 5"
   ]
  },
  {
   "cell_type": "code",
   "execution_count": 4,
   "id": "6710c611-cf9a-40d2-ac1b-c8a5417fd285",
   "metadata": {
    "tags": []
   },
   "outputs": [],
   "source": [
    "b = 2 + 4"
   ]
  },
  {
   "cell_type": "code",
   "execution_count": 5,
   "id": "03da3a74-9315-4a6c-a3ca-df6e140d8dfd",
   "metadata": {
    "tags": []
   },
   "outputs": [
    {
     "data": {
      "text/plain": [
       "8"
      ]
     },
     "execution_count": 5,
     "metadata": {},
     "output_type": "execute_result"
    }
   ],
   "source": [
    "a + b"
   ]
  },
  {
   "cell_type": "code",
   "execution_count": 6,
   "id": "0ed92468-290a-4d6c-9a10-83da83d56f52",
   "metadata": {
    "tags": []
   },
   "outputs": [
    {
     "name": "stdout",
     "output_type": "stream",
     "text": [
      "7\n"
     ]
    }
   ],
   "source": [
    "a = a + 5\n",
    "print(a)"
   ]
  },
  {
   "cell_type": "code",
   "execution_count": 7,
   "id": "132be35b-ecdd-4384-b66f-bd7d49852779",
   "metadata": {
    "tags": []
   },
   "outputs": [],
   "source": [
    "limon_fiyat = 10"
   ]
  },
  {
   "cell_type": "code",
   "execution_count": 8,
   "id": "ccd75ca9-3b72-4f0b-95d4-0de3c2d8c750",
   "metadata": {
    "tags": []
   },
   "outputs": [],
   "source": [
    "s1 = limon_fiyat * 100"
   ]
  },
  {
   "cell_type": "code",
   "execution_count": 9,
   "id": "c29cd5f9-8d52-4e5b-b57b-757b5721cf88",
   "metadata": {
    "tags": []
   },
   "outputs": [
    {
     "name": "stdout",
     "output_type": "stream",
     "text": [
      "700\n"
     ]
    }
   ],
   "source": [
    "s2 = limon_fiyat * 70\n",
    "print(s2)"
   ]
  },
  {
   "cell_type": "markdown",
   "id": "7f40527a-eee0-45b8-b526-3516cb4b44fa",
   "metadata": {},
   "source": [
    "## Operatörler ve İfadeler (Operators & Expressions)"
   ]
  },
  {
   "cell_type": "markdown",
   "id": "7e3f99b8-79c3-4789-92bf-3ee0f6bf678d",
   "metadata": {
    "tags": []
   },
   "source": [
    "* Objeler (object) ve operatörlerin (operator) birleşimi expressionları oluşturur.\n",
    "* Expression'ların değerleri (value) vardır ve tabii ki de bunların tipleri vardır.\n",
    "* İfadeler şöyle oluşturulur: (object) (operator) (object)\n",
    "* Expression'ların tiplerini operatörlerin uygulandığı objelerin tipleri belirler."
   ]
  },
  {
   "cell_type": "markdown",
   "id": "3b4322a1-30fc-4013-9e4e-2452939e247d",
   "metadata": {},
   "source": [
    "### + Operatörü"
   ]
  },
  {
   "cell_type": "code",
   "execution_count": 12,
   "id": "eb92f1d0-a74f-4c9a-b04f-a42d20c680c5",
   "metadata": {
    "tags": []
   },
   "outputs": [
    {
     "data": {
      "text/plain": [
       "int"
      ]
     },
     "execution_count": 12,
     "metadata": {},
     "output_type": "execute_result"
    }
   ],
   "source": [
    "# İki tane int'in toplamı integer verir.\n",
    "a = 2 + 2\n",
    "type(a)"
   ]
  },
  {
   "cell_type": "code",
   "execution_count": 13,
   "id": "0f2724e9-1e82-44e8-8a70-2a08c1cbbee5",
   "metadata": {
    "tags": []
   },
   "outputs": [
    {
     "data": {
      "text/plain": [
       "float"
      ]
     },
     "execution_count": 13,
     "metadata": {},
     "output_type": "execute_result"
    }
   ],
   "source": [
    "# İki tane float'un toplamı float verir.\n",
    "f = 2.1 + 2.2\n",
    "type(f)"
   ]
  },
  {
   "cell_type": "markdown",
   "id": "6b02c9a3-42f5-4fca-a846-fae447a72fe1",
   "metadata": {},
   "source": [
    "* Eğer objelerden biri bile float ise expression'ın tipi float verir."
   ]
  },
  {
   "cell_type": "code",
   "execution_count": 14,
   "id": "995a2b93-a03d-4a67-a8a9-b5bcb948d68c",
   "metadata": {
    "tags": []
   },
   "outputs": [
    {
     "data": {
      "text/plain": [
       "float"
      ]
     },
     "execution_count": 14,
     "metadata": {},
     "output_type": "execute_result"
    }
   ],
   "source": [
    "b = 2.0 + 4\n",
    "type(b)"
   ]
  },
  {
   "cell_type": "code",
   "execution_count": 15,
   "id": "616a1a0e-ad6d-43c6-b141-b664bc848fc8",
   "metadata": {
    "tags": []
   },
   "outputs": [
    {
     "data": {
      "text/plain": [
       "float"
      ]
     },
     "execution_count": 15,
     "metadata": {},
     "output_type": "execute_result"
    }
   ],
   "source": [
    "c = 5 + 7 + 5 * 8 - 0.2\n",
    "type(c)\n"
   ]
  },
  {
   "cell_type": "markdown",
   "id": "ae64014c-e9f0-4512-b02d-0e2dd2c56be0",
   "metadata": {},
   "source": [
    "### / Operatörü\n",
    "* İşleme giren objelerin tipi ne olursa olsun cevap float olur."
   ]
  },
  {
   "cell_type": "code",
   "execution_count": 16,
   "id": "5a0640d5-03fc-4db9-8b82-ca1c4318709f",
   "metadata": {
    "tags": []
   },
   "outputs": [
    {
     "data": {
      "text/plain": [
       "float"
      ]
     },
     "execution_count": 16,
     "metadata": {},
     "output_type": "execute_result"
    }
   ],
   "source": [
    "type(3/2)"
   ]
  },
  {
   "cell_type": "code",
   "execution_count": 17,
   "id": "30e22790-5c72-41de-b8a3-9e987404f858",
   "metadata": {
    "tags": []
   },
   "outputs": [
    {
     "name": "stdout",
     "output_type": "stream",
     "text": [
      "2.2727272727272725\n"
     ]
    },
    {
     "data": {
      "text/plain": [
       "float"
      ]
     },
     "execution_count": 17,
     "metadata": {},
     "output_type": "execute_result"
    }
   ],
   "source": [
    "a = 5/2.2\n",
    "print(a)\n",
    "type(a)"
   ]
  },
  {
   "cell_type": "markdown",
   "id": "982f70e7-7e3c-4fff-939e-7e7e89744f66",
   "metadata": {},
   "source": [
    "### // Operatörü (Int Division)\n",
    "* İşleme giren objelerden biri bile float ise cevap float olur."
   ]
  },
  {
   "cell_type": "code",
   "execution_count": 18,
   "id": "a8ab3ef0-ba6e-45e9-9948-4764987748fa",
   "metadata": {
    "tags": []
   },
   "outputs": [
    {
     "data": {
      "text/plain": [
       "2"
      ]
     },
     "execution_count": 18,
     "metadata": {},
     "output_type": "execute_result"
    }
   ],
   "source": [
    "5 // 2"
   ]
  },
  {
   "cell_type": "code",
   "execution_count": 19,
   "id": "a6a39f4b-8990-421e-a63f-968478da2570",
   "metadata": {
    "tags": []
   },
   "outputs": [
    {
     "data": {
      "text/plain": [
       "2.0"
      ]
     },
     "execution_count": 19,
     "metadata": {},
     "output_type": "execute_result"
    }
   ],
   "source": [
    "5.0 // 2.0"
   ]
  },
  {
   "cell_type": "code",
   "execution_count": 20,
   "id": "d42bee7e-3606-4bd3-b0d4-1b04cb2f75be",
   "metadata": {
    "tags": []
   },
   "outputs": [
    {
     "data": {
      "text/plain": [
       "0.0"
      ]
     },
     "execution_count": 20,
     "metadata": {},
     "output_type": "execute_result"
    }
   ],
   "source": [
    "4.2 // 5"
   ]
  },
  {
   "cell_type": "code",
   "execution_count": 21,
   "id": "7ac6e71a-bc8a-411f-bb6e-9362b24b54dc",
   "metadata": {
    "tags": []
   },
   "outputs": [
    {
     "data": {
      "text/plain": [
       "0"
      ]
     },
     "execution_count": 21,
     "metadata": {},
     "output_type": "execute_result"
    }
   ],
   "source": [
    "4 // 5"
   ]
  },
  {
   "cell_type": "markdown",
   "id": "0433276e-2b0a-4053-ab2f-3061572f977c",
   "metadata": {},
   "source": [
    "### % Mod Operatörü\n",
    "* Kalan float ise cevap float tipinde oluyor, float değil ise integer olmaktadır."
   ]
  },
  {
   "cell_type": "code",
   "execution_count": 22,
   "id": "0657dfb6-b43b-4d9f-920b-84f210487798",
   "metadata": {
    "tags": []
   },
   "outputs": [
    {
     "data": {
      "text/plain": [
       "1"
      ]
     },
     "execution_count": 22,
     "metadata": {},
     "output_type": "execute_result"
    }
   ],
   "source": [
    "5 % 2"
   ]
  },
  {
   "cell_type": "code",
   "execution_count": 23,
   "id": "93ba3942-ed0e-48d5-832a-bd1470a6e8d8",
   "metadata": {
    "tags": []
   },
   "outputs": [
    {
     "data": {
      "text/plain": [
       "1.0"
      ]
     },
     "execution_count": 23,
     "metadata": {},
     "output_type": "execute_result"
    }
   ],
   "source": [
    "5.0 % 2.0 "
   ]
  },
  {
   "cell_type": "code",
   "execution_count": 24,
   "id": "f571482d-4ea5-4356-a675-c6e5e3c35174",
   "metadata": {
    "tags": []
   },
   "outputs": [
    {
     "data": {
      "text/plain": [
       "1.0"
      ]
     },
     "execution_count": 24,
     "metadata": {},
     "output_type": "execute_result"
    }
   ],
   "source": [
    "5.0 % 2"
   ]
  },
  {
   "cell_type": "code",
   "execution_count": 25,
   "id": "7586265f-370c-490e-8849-b077f53528bf",
   "metadata": {
    "tags": []
   },
   "outputs": [
    {
     "data": {
      "text/plain": [
       "1.0"
      ]
     },
     "execution_count": 25,
     "metadata": {},
     "output_type": "execute_result"
    }
   ],
   "source": [
    "5 % 2.0"
   ]
  },
  {
   "cell_type": "code",
   "execution_count": 31,
   "id": "0b7da735-4438-451c-bdf0-069a6b589a1b",
   "metadata": {
    "tags": []
   },
   "outputs": [
    {
     "data": {
      "text/plain": [
       "-1.0"
      ]
     },
     "execution_count": 31,
     "metadata": {},
     "output_type": "execute_result"
    }
   ],
   "source": [
    "-100 % -3.0"
   ]
  },
  {
   "cell_type": "markdown",
   "id": "e8fac95b-c864-46ca-bec9-78ccc5174980",
   "metadata": {},
   "source": [
    "### ** Operatörü\n",
    "* Üst alma işlemi yapmaktadır."
   ]
  },
  {
   "cell_type": "code",
   "execution_count": 32,
   "id": "40480cb9-445b-4a1a-ad56-5f8cea07adeb",
   "metadata": {
    "tags": []
   },
   "outputs": [
    {
     "data": {
      "text/plain": [
       "10648"
      ]
     },
     "execution_count": 32,
     "metadata": {},
     "output_type": "execute_result"
    }
   ],
   "source": [
    "22 ** 3"
   ]
  },
  {
   "cell_type": "code",
   "execution_count": 33,
   "id": "a56d42a1-9489-4da7-9fd4-46f5d7b2d760",
   "metadata": {
    "tags": []
   },
   "outputs": [
    {
     "data": {
      "text/plain": [
       "25.0"
      ]
     },
     "execution_count": 33,
     "metadata": {},
     "output_type": "execute_result"
    }
   ],
   "source": [
    "5 ** 2.0"
   ]
  },
  {
   "cell_type": "code",
   "execution_count": 34,
   "id": "44e960bf-dcf5-4dba-af76-cfef2d871612",
   "metadata": {
    "tags": []
   },
   "outputs": [
    {
     "data": {
      "text/plain": [
       "0.2"
      ]
     },
     "execution_count": 34,
     "metadata": {},
     "output_type": "execute_result"
    }
   ],
   "source": [
    "5 ** -1"
   ]
  },
  {
   "cell_type": "markdown",
   "id": "90e2a9f7-0f6b-43f5-b51c-4f640138209a",
   "metadata": {},
   "source": [
    "## print()\n",
    "* Bazen sadece bazı değerleri bastırmak isteriz, bunun için ```print()``` metodunu kullanabiliriz."
   ]
  },
  {
   "cell_type": "code",
   "execution_count": 35,
   "id": "75b41ee3-3bca-4903-b62d-0885a05f5e63",
   "metadata": {
    "tags": []
   },
   "outputs": [
    {
     "name": "stdout",
     "output_type": "stream",
     "text": [
      "Hello World\n"
     ]
    }
   ],
   "source": [
    "print(\"Hello World\")"
   ]
  },
  {
   "cell_type": "markdown",
   "id": "fe058602-06dc-40b5-814a-b099eb669c84",
   "metadata": {},
   "source": [
    "# String"
   ]
  },
  {
   "cell_type": "markdown",
   "id": "1cab22cc-0ae6-4a17-bece-23d44d5a7c1d",
   "metadata": {},
   "source": [
    "* Şimdiye kadar sadece sayılar ile uğraştık. String karakterlerden oluşan bir dizidir aslında. Stringlerin elemanları karakterlerdir.\n",
    "* <b>Karakterler:</b> a,b,c,... gibi harfler, *,?,=,<,>,/,... gibi özel karakterler ve 1,2,3,... gibi yazı biçiminde yazılırlar. Boşluk (space) tuşu da karakter olarak adlandırılabilir."
   ]
  },
  {
   "cell_type": "markdown",
   "id": "3afe2840-4d17-4c94-a562-ff63a02ec6f7",
   "metadata": {},
   "source": [
    "* String'ler karakterlerden veya bunların kombinasyonlarından oluşabilirler.\n",
    "* Bir şeyin String olduğunu belirtmek için yazacaklarımızı ikili tırnak (\" \") veya tekli tırnak (' ') içine yazarız.\n",
    "* Tırnak işaretinin yaptığı şey aslımda şudur: Bu tırnak işaretlerinin içinde verdiğim diziye karakterler dizisi olarak davran, öyle algıla.\n",
    "* İkili tırnak içine de yazsak, tekli tırnak içine de yazsak aynı şekilde algılanır. Önemli olan hangisiyle başladıysak onla bitirmektir."
   ]
  },
  {
   "cell_type": "markdown",
   "id": "12e697eb-2643-454b-b460-e9e49ebc4957",
   "metadata": {},
   "source": [
    "* Scalar ve Non-scalar objelerden bahsetmiştik. Non-scalar veri tiplerinin daha alt parçalara bölünebilen, elemanlar içeren yapılar olduğunu konuşmuştuk. String non-scalar bir veri tipidir. İçsel yapı olarak karakterlerden oluşuyor.\n",
    "* Stringler immutable ver tipidir. (Immutable: Elemanlarının değerleri değiştirilemezdir.)"
   ]
  },
  {
   "cell_type": "code",
   "execution_count": 1,
   "id": "20168f9d-d37b-4a74-ab11-32d1d757ac2a",
   "metadata": {
    "tags": []
   },
   "outputs": [
    {
     "data": {
      "text/plain": [
       "'a'"
      ]
     },
     "execution_count": 1,
     "metadata": {},
     "output_type": "execute_result"
    }
   ],
   "source": [
    "\"a\""
   ]
  },
  {
   "cell_type": "code",
   "execution_count": 2,
   "id": "48776bd3-7b3f-4772-a117-3c1743c94017",
   "metadata": {
    "tags": []
   },
   "outputs": [
    {
     "data": {
      "text/plain": [
       "'a'"
      ]
     },
     "execution_count": 2,
     "metadata": {},
     "output_type": "execute_result"
    }
   ],
   "source": [
    "'a'"
   ]
  },
  {
   "cell_type": "code",
   "execution_count": 3,
   "id": "7469b93d-46d9-4875-92cf-4273d7453d99",
   "metadata": {
    "tags": []
   },
   "outputs": [
    {
     "data": {
      "text/plain": [
       "'5'"
      ]
     },
     "execution_count": 3,
     "metadata": {},
     "output_type": "execute_result"
    }
   ],
   "source": [
    "\"5\""
   ]
  },
  {
   "cell_type": "code",
   "execution_count": 4,
   "id": "cc1b5c3b-cd57-4ae6-a88f-e15808d2d91d",
   "metadata": {
    "tags": []
   },
   "outputs": [
    {
     "data": {
      "text/plain": [
       "' 2 + 5 '"
      ]
     },
     "execution_count": 4,
     "metadata": {},
     "output_type": "execute_result"
    }
   ],
   "source": [
    "# Burada +'ya operatör olarak değil yazı olarak davranılıyor.\n",
    "\" 2 + 5 \""
   ]
  },
  {
   "cell_type": "code",
   "execution_count": 5,
   "id": "f0bf48d9-9500-4682-85ca-c27eaaf370e4",
   "metadata": {
    "tags": []
   },
   "outputs": [
    {
     "data": {
      "text/plain": [
       "'O zaman x=5 diyelim.'"
      ]
     },
     "execution_count": 5,
     "metadata": {},
     "output_type": "execute_result"
    }
   ],
   "source": [
    "'O zaman x=5 diyelim.'"
   ]
  },
  {
   "cell_type": "code",
   "execution_count": 6,
   "id": "ad4e5369-9c5a-4353-9240-01c7c4df5732",
   "metadata": {
    "tags": []
   },
   "outputs": [
    {
     "data": {
      "text/plain": [
       "str"
      ]
     },
     "execution_count": 6,
     "metadata": {},
     "output_type": "execute_result"
    }
   ],
   "source": [
    "type('O zaman x=5 diyelim.')"
   ]
  },
  {
   "cell_type": "code",
   "execution_count": 7,
   "id": "61fb9076-5788-4da3-8fbb-c6c1311b6c8d",
   "metadata": {
    "tags": []
   },
   "outputs": [
    {
     "data": {
      "text/plain": [
       "str"
      ]
     },
     "execution_count": 7,
     "metadata": {},
     "output_type": "execute_result"
    }
   ],
   "source": [
    "type(\"5\")"
   ]
  },
  {
   "cell_type": "markdown",
   "id": "7bacbc6e-edb2-4fab-82bc-a68fb3e2ff2b",
   "metadata": {},
   "source": [
    "## Escape Sequences"
   ]
  },
  {
   "cell_type": "code",
   "execution_count": 9,
   "id": "1cf9f9e6-da73-4e93-a59b-92138d95156a",
   "metadata": {
    "tags": []
   },
   "outputs": [
    {
     "ename": "SyntaxError",
     "evalue": "invalid syntax (648411211.py, line 2)",
     "output_type": "error",
     "traceback": [
      "\u001b[1;36m  Cell \u001b[1;32mIn[9], line 2\u001b[1;36m\u001b[0m\n\u001b[1;33m    'Bugün Kadıköy'e gidiyorum.'\u001b[0m\n\u001b[1;37m                   ^\u001b[0m\n\u001b[1;31mSyntaxError\u001b[0m\u001b[1;31m:\u001b[0m invalid syntax\n"
     ]
    }
   ],
   "source": [
    "# Böyle kullanımlarda sorunlar yaşayabiliyoruz.\n",
    "'Bugün Kadıköy'e gidiyorum.'"
   ]
  },
  {
   "cell_type": "code",
   "execution_count": 11,
   "id": "cc9582d6-53b3-488f-8718-a0249d61f3ee",
   "metadata": {
    "tags": []
   },
   "outputs": [
    {
     "data": {
      "text/plain": [
       "\"Bugün Kadıköy'e gidiyorum.\""
      ]
     },
     "execution_count": 11,
     "metadata": {},
     "output_type": "execute_result"
    }
   ],
   "source": [
    "# Back slash koyarak bu sorunu kolayca çözebiliyoruz. Latex ile benzer bu noktada.\n",
    "'Bugün Kadıköy\\'e gidiyorum.'"
   ]
  },
  {
   "cell_type": "code",
   "execution_count": 18,
   "id": "e8ff56c5-90c5-4cf5-9285-c9868a39528d",
   "metadata": {
    "tags": []
   },
   "outputs": [
    {
     "name": "stdout",
     "output_type": "stream",
     "text": [
      "Hey! \n",
      "Nasılsın?\n"
     ]
    }
   ],
   "source": [
    "# Burada ise \\n koyarak yeni satıra geçebiliyoruz. Ama \\n'den sonra boşluk koyarsak onu da karakter olarak algılıyor.\n",
    "print(\"Hey! \\nNasılsın?\")"
   ]
  },
  {
   "cell_type": "code",
   "execution_count": 19,
   "id": "b7aa859a-d881-4ce1-b223-85df3f69ee51",
   "metadata": {
    "tags": []
   },
   "outputs": [
    {
     "name": "stdout",
     "output_type": "stream",
     "text": [
      "Hey! \t Nasılsın?\n"
     ]
    }
   ],
   "source": [
    "# Burada ise \\t koyarak boşluğu uzatabiliyoruz.\n",
    "print(\"Hey! \\t Nasılsın?\")"
   ]
  },
  {
   "cell_type": "code",
   "execution_count": 20,
   "id": "c5ad6c1b-00a5-4420-9ca1-c7d842f03b43",
   "metadata": {
    "tags": []
   },
   "outputs": [
    {
     "name": "stdout",
     "output_type": "stream",
     "text": [
      "Bu bir ters slash işaretidir: \\\n"
     ]
    }
   ],
   "source": [
    "# Back slash yapmak istersek nasıl yapacağız? İki tane back slash koyarak bu problemi çözebiliyoruz.\n",
    "print(\"Bu bir ters slash işaretidir: \\\\\")"
   ]
  },
  {
   "cell_type": "code",
   "execution_count": 22,
   "id": "00abd975-6c65-4ebd-aad0-3e32ccf79964",
   "metadata": {
    "tags": []
   },
   "outputs": [
    {
     "data": {
      "text/plain": [
       "\"Bugün Mecidiyeköy'den Mecidiyeköy'\\\\e 40 dakikada gittim.\""
      ]
     },
     "execution_count": 22,
     "metadata": {},
     "output_type": "execute_result"
    }
   ],
   "source": [
    "\"Bugün Mecidiyeköy\\'den Mecidiyeköy'\\e 40 dakikada gittim.\""
   ]
  },
  {
   "cell_type": "code",
   "execution_count": 29,
   "id": "d1d95826-cfb6-4558-97f2-9d1ecb0baff9",
   "metadata": {
    "tags": []
   },
   "outputs": [
    {
     "data": {
      "text/plain": [
       "\" '\\\\e \""
      ]
     },
     "execution_count": 29,
     "metadata": {},
     "output_type": "execute_result"
    }
   ],
   "source": [
    "\" '\\e \""
   ]
  },
  {
   "cell_type": "markdown",
   "id": "636f0c1b-3691-43eb-a3c1-e7cc3010256e",
   "metadata": {},
   "source": [
    "## String'lerde Değer Atama (Variable Assignment)"
   ]
  },
  {
   "cell_type": "markdown",
   "id": "ed4e51a3-0be8-444e-9eb3-ea1e58d471e2",
   "metadata": {},
   "source": [
    "* Sayısal veri tiplerinde nasıl ki değer atayabiliyor, verilerin değerlerine isim verebiliyorsak, aynısını stringler için de yapabiliyoruz."
   ]
  },
  {
   "cell_type": "code",
   "execution_count": 30,
   "id": "6e9f6814-7539-4677-95be-9b6dd08a96ac",
   "metadata": {
    "tags": []
   },
   "outputs": [
    {
     "name": "stdout",
     "output_type": "stream",
     "text": [
      "Merhaba, bugün nasılsınız?\n"
     ]
    }
   ],
   "source": [
    "merhaba = \"Merhaba, bugün nasılsınız?\"\n",
    "print(merhaba)"
   ]
  },
  {
   "cell_type": "markdown",
   "id": "38119ecc-63e0-4640-949d-e0ea2d1681eb",
   "metadata": {},
   "source": [
    "### String Concatenation"
   ]
  },
  {
   "cell_type": "markdown",
   "id": "4073a3ee-9687-40bb-8917-fae763d28ab9",
   "metadata": {},
   "source": [
    "* Operatörlerin uygulandıkları objeye göre değişik şeyler ifade edebileceğini daha önce ifade etmiştik. ```+``` operatörü sayısal veri tipleri üzerine etki edince toplama işlemi yapıyor. Ama uygulandığı objeler ```string``` ise yapacağı işlem \"concatenation\" (birleştirme) olacaktır ve iki string'i ard arda birleştirecektir."
   ]
  },
  {
   "cell_type": "code",
   "execution_count": 32,
   "id": "270398ec-ddd9-4650-a4e4-2b614e439ff2",
   "metadata": {
    "tags": []
   },
   "outputs": [
    {
     "data": {
      "text/plain": [
       "'54'"
      ]
     },
     "execution_count": 32,
     "metadata": {},
     "output_type": "execute_result"
    }
   ],
   "source": [
    "# Burada python verdiklerimi sayı olarak değil karakter olarak algılıyor. + operatörü burada artık iki değeri toplamak değil yan yana koymak demektir.\n",
    "\"5\" + \"4\""
   ]
  },
  {
   "cell_type": "code",
   "execution_count": 33,
   "id": "75182113-d79a-4521-832c-6e59c988a3b5",
   "metadata": {
    "tags": []
   },
   "outputs": [
    {
     "data": {
      "text/plain": [
       "'Hey!Nasılsın?'"
      ]
     },
     "execution_count": 33,
     "metadata": {},
     "output_type": "execute_result"
    }
   ],
   "source": [
    "\"Hey!\" + \"Nasılsın?\""
   ]
  },
  {
   "cell_type": "code",
   "execution_count": 34,
   "id": "84a0ddae-3f0e-4e1d-bc65-90692b4b1773",
   "metadata": {
    "tags": []
   },
   "outputs": [
    {
     "data": {
      "text/plain": [
       "'Hey! Nasılsın?'"
      ]
     },
     "execution_count": 34,
     "metadata": {},
     "output_type": "execute_result"
    }
   ],
   "source": [
    "# Boşluğun bir karakter olduğuna dikkat!\n",
    "\"Hey!\" + \" Nasılsın?\""
   ]
  },
  {
   "cell_type": "code",
   "execution_count": 37,
   "id": "a3cf5e34-ec13-49d0-9896-bfc13295cfb6",
   "metadata": {
    "tags": []
   },
   "outputs": [
    {
     "name": "stdout",
     "output_type": "stream",
     "text": [
      "Merhaba Berkay!\n"
     ]
    }
   ],
   "source": [
    "mesaj= \"Merhaba\"\n",
    "isim = \"Berkay\"\n",
    "karsilama = mesaj + \" \" + isim + \"!\"\n",
    "print(karsilama)"
   ]
  },
  {
   "cell_type": "markdown",
   "id": "5f23fadb-7705-4802-9956-f7fe1be2bce1",
   "metadata": {},
   "source": [
    "### Successive Concatenation (Ardışık Birleştirme)\n",
    "* \\* operatörü sayı objeleri için çarpım olarak tanımlanırken, stringler için ard arda birleştirme işlemi yapmaktadır."
   ]
  },
  {
   "cell_type": "code",
   "execution_count": 38,
   "id": "c1237d19-9be9-406c-833d-a1f43d9cafd9",
   "metadata": {
    "tags": []
   },
   "outputs": [
    {
     "data": {
      "text/plain": [
       "'hey!hey!hey!hey!'"
      ]
     },
     "execution_count": 38,
     "metadata": {},
     "output_type": "execute_result"
    }
   ],
   "source": [
    "4 * \"hey!\""
   ]
  },
  {
   "cell_type": "code",
   "execution_count": 40,
   "id": "c9f4c7aa-6a77-45af-87d2-20f5e9a7dfdb",
   "metadata": {
    "tags": []
   },
   "outputs": [
    {
     "data": {
      "text/plain": [
       "'hey! hey! hey! hey! '"
      ]
     },
     "execution_count": 40,
     "metadata": {},
     "output_type": "execute_result"
    }
   ],
   "source": [
    "4 * \"hey! \""
   ]
  },
  {
   "cell_type": "markdown",
   "id": "c11335ac-2668-4db1-86e5-4543b7945a99",
   "metadata": {},
   "source": [
    "## len ()"
   ]
  },
  {
   "cell_type": "markdown",
   "id": "0210b6d0-3878-4c43-bf95-d1d1dd4162cc",
   "metadata": {},
   "source": [
    "* Bu metod ile (metodları ileride ayrıntılı olara göreceğiz), elimizdeki string'in kaç karakterden oluştuğunu öğrenebiliriz (boşluklar da karakter olduğu için onlar da sayılıyor)."
   ]
  },
  {
   "cell_type": "code",
   "execution_count": 41,
   "id": "a9b47e4e-77e7-4153-9bc7-e16dcf7c035b",
   "metadata": {
    "tags": []
   },
   "outputs": [
    {
     "data": {
      "text/plain": [
       "1"
      ]
     },
     "execution_count": 41,
     "metadata": {},
     "output_type": "execute_result"
    }
   ],
   "source": [
    "len(\"4\")"
   ]
  },
  {
   "cell_type": "code",
   "execution_count": 42,
   "id": "ba7b9bfd-09ac-4759-9b69-24d257df8b7a",
   "metadata": {
    "tags": []
   },
   "outputs": [
    {
     "data": {
      "text/plain": [
       "15"
      ]
     },
     "execution_count": 42,
     "metadata": {},
     "output_type": "execute_result"
    }
   ],
   "source": [
    "len(karsilama)"
   ]
  },
  {
   "cell_type": "code",
   "execution_count": 43,
   "id": "f92b48a5-d15f-42c3-9ae6-82c4cb1fcaad",
   "metadata": {
    "tags": []
   },
   "outputs": [
    {
     "data": {
      "text/plain": [
       "0"
      ]
     },
     "execution_count": 43,
     "metadata": {},
     "output_type": "execute_result"
    }
   ],
   "source": [
    "len(\"\")"
   ]
  },
  {
   "cell_type": "code",
   "execution_count": 44,
   "id": "cbfbf6ae-a7b7-4e2f-9d6b-79a5bf8153e5",
   "metadata": {
    "tags": []
   },
   "outputs": [
    {
     "data": {
      "text/plain": [
       "1"
      ]
     },
     "execution_count": 44,
     "metadata": {},
     "output_type": "execute_result"
    }
   ],
   "source": [
    "# Boşluğun bir karakter olduğunu tekrar görmüş oluyoruz.\n",
    "len(\" \")"
   ]
  },
  {
   "cell_type": "markdown",
   "id": "1c70c256-e29f-4b1f-bb00-6e523e5df949",
   "metadata": {},
   "source": [
    "## Indexing (Elemanlara Erişme)"
   ]
  },
  {
   "cell_type": "markdown",
   "id": "56418905-2464-420b-b5ce-8be480d26c1b",
   "metadata": {},
   "source": [
    "* Stringlerin non-scalar veri tiplerine örnek olduğunu konuşmuştuk. Stringler elemanları karakter olan, alt birim olarak karakter içeren bir veri tipidir\n",
    "* Stringler karakter dizisi olduğu için, bu dizideki spesifik konumdaki elemanlara erişme aklımıza gelebilir. Mesela String'in ilk karakteri nedir gibi.\n",
    "* Bir yapının alt elemanlarına erişmek için yapacağımız işleme ```indexing``` deniyor. Buna köşeli parantez ```[]``` ile sağlayacağız.\n",
    "* İsim diye bir değişken oluşturup, string'e eşitleyip bunun ilk elemanına erişelim."
   ]
  },
  {
   "cell_type": "code",
   "execution_count": 6,
   "id": "fe2a0cdf-18bb-4525-b2a9-9afdbf42c4b7",
   "metadata": {
    "tags": []
   },
   "outputs": [
    {
     "name": "stdout",
     "output_type": "stream",
     "text": [
      "Salih\n"
     ]
    },
    {
     "data": {
      "text/plain": [
       "'a'"
      ]
     },
     "execution_count": 6,
     "metadata": {},
     "output_type": "execute_result"
    }
   ],
   "source": [
    "isim = \"Salih\"\n",
    "print(isim)\n",
    "isim[1]"
   ]
  },
  {
   "cell_type": "markdown",
   "id": "f3ed07c3-8425-4083-af33-4d4cff271606",
   "metadata": {},
   "source": [
    "* Burada \"a\" 2. eleman olmasına rağmen biz 1. indexine baktığımızda \"a\" elemanına ulaşıyoruz. Bunun sebebi ise Python'da indexlerin ```0```'dan başlamasıdır."
   ]
  },
  {
   "cell_type": "code",
   "execution_count": 7,
   "id": "b8cf551a-7dab-4fa5-9448-bc317a7270d8",
   "metadata": {
    "tags": []
   },
   "outputs": [
    {
     "data": {
      "text/plain": [
       "'S'"
      ]
     },
     "execution_count": 7,
     "metadata": {},
     "output_type": "execute_result"
    }
   ],
   "source": [
    "isim[0]"
   ]
  },
  {
   "cell_type": "code",
   "execution_count": 19,
   "id": "bb201c41-6338-4153-a854-35b900749d68",
   "metadata": {
    "tags": []
   },
   "outputs": [
    {
     "data": {
      "text/plain": [
       "'Salih'"
      ]
     },
     "execution_count": 19,
     "metadata": {},
     "output_type": "execute_result"
    }
   ],
   "source": [
    "isim[0:5]"
   ]
  },
  {
   "cell_type": "code",
   "execution_count": 11,
   "id": "4ca853f0-8315-485e-83f8-378e81e1a99c",
   "metadata": {
    "tags": []
   },
   "outputs": [
    {
     "data": {
      "text/plain": [
       "5"
      ]
     },
     "execution_count": 11,
     "metadata": {},
     "output_type": "execute_result"
    }
   ],
   "source": [
    "len(isim)"
   ]
  },
  {
   "cell_type": "code",
   "execution_count": 15,
   "id": "b4c8c8e7-6d95-4301-9dc4-6944a7f28055",
   "metadata": {
    "tags": []
   },
   "outputs": [
    {
     "data": {
      "text/plain": [
       "'h'"
      ]
     },
     "execution_count": 15,
     "metadata": {},
     "output_type": "execute_result"
    }
   ],
   "source": [
    "# Son elemanı elde etmek için [-1] yazabiliriz.\n",
    "isim[-1]"
   ]
  },
  {
   "cell_type": "code",
   "execution_count": 16,
   "id": "7cd73d88-fdee-41de-bf34-7053df11e984",
   "metadata": {
    "tags": []
   },
   "outputs": [
    {
     "data": {
      "text/plain": [
       "'i'"
      ]
     },
     "execution_count": 16,
     "metadata": {},
     "output_type": "execute_result"
    }
   ],
   "source": [
    "# Sondan ikinci elemanı elde etmek için [-2] yazabiliriz.\n",
    "isim[-2]"
   ]
  },
  {
   "cell_type": "markdown",
   "id": "2a673734-5706-4ed2-8a18-d5e573b500bd",
   "metadata": {},
   "source": [
    "* Stringlerin elemanlarının değiştirilemez olduğundan bahsetmiştik (immutable). O yüzden bazı şeyleri yapamıyoruz"
   ]
  },
  {
   "cell_type": "code",
   "execution_count": 20,
   "id": "24f136b8-2d52-4797-95d8-b6034ef34c39",
   "metadata": {
    "tags": []
   },
   "outputs": [
    {
     "ename": "TypeError",
     "evalue": "'str' object does not support item assignment",
     "output_type": "error",
     "traceback": [
      "\u001b[1;31m---------------------------------------------------------------------------\u001b[0m",
      "\u001b[1;31mTypeError\u001b[0m                                 Traceback (most recent call last)",
      "Cell \u001b[1;32mIn[20], line 1\u001b[0m\n\u001b[1;32m----> 1\u001b[0m \u001b[43misim\u001b[49m\u001b[43m[\u001b[49m\u001b[38;5;241;43m0\u001b[39;49m\u001b[43m]\u001b[49m \u001b[38;5;241m=\u001b[39m \u001b[38;5;124m\"\u001b[39m\u001b[38;5;124mB\u001b[39m\u001b[38;5;124m\"\u001b[39m\n",
      "\u001b[1;31mTypeError\u001b[0m: 'str' object does not support item assignment"
     ]
    }
   ],
   "source": [
    "# Bu işlem hata verecektir.\n",
    "isim[0] = \"B\""
   ]
  },
  {
   "cell_type": "code",
   "execution_count": 21,
   "id": "97ff69b1-e5e0-45af-b58f-43e99123b740",
   "metadata": {
    "tags": []
   },
   "outputs": [
    {
     "name": "stdout",
     "output_type": "stream",
     "text": [
      "Salih\n"
     ]
    }
   ],
   "source": [
    "print(isim)"
   ]
  },
  {
   "cell_type": "markdown",
   "id": "3fd83c4a-7f1a-4bcc-be16-dad3bd01430c",
   "metadata": {},
   "source": [
    "### Slicing (Dilimleme)"
   ]
  },
  {
   "cell_type": "markdown",
   "id": "7bed549a-aa03-4cd0-ace7-380a90300bb0",
   "metadata": {
    "tags": []
   },
   "source": [
    "* Indexin ile sonuç olarak sadece bir eleman elde ettik, ama birkaç tanesini arka arkaya, bir öbek olarak istiyorsam ne yapardım?\n",
    "* Diyelim ki ilk elemandan başlayarak 3. elemana kadar olan karakterleri elde etmek istiyorsam (0. indexten 3. indexe kadar olanları) ne yapmalıyım?"
   ]
  },
  {
   "cell_type": "code",
   "execution_count": 23,
   "id": "7f6e4fd9-ef41-4e0f-9e05-800f1d103d64",
   "metadata": {
    "tags": []
   },
   "outputs": [
    {
     "data": {
      "text/plain": [
       "'Sal'"
      ]
     },
     "execution_count": 23,
     "metadata": {},
     "output_type": "execute_result"
    }
   ],
   "source": [
    "# Burada önemli olan nokta ilk belirtilen indexing dahil edilip son olarak yazılanın dahil edilmemesi.\n",
    "# 0,1,2 indexlerini döndürdü bana sonuç olarak.\n",
    "isim[0:3]"
   ]
  },
  {
   "cell_type": "markdown",
   "id": "65acfe97-7748-4847-8589-394c9ee81a77",
   "metadata": {},
   "source": [
    "* ```Başlangıç:Bitiş``` olarak veriyoruz ve bitiş olarak verdiğimiz index dahil olmuyor. Başlangıcı belirtmezsek Python varsayılan olarak 0. indexten başlıyor."
   ]
  },
  {
   "cell_type": "code",
   "execution_count": 25,
   "id": "c6127b3a-e1dc-4c47-a8d4-12cf7c21725a",
   "metadata": {
    "tags": []
   },
   "outputs": [
    {
     "data": {
      "text/plain": [
       "'Sal'"
      ]
     },
     "execution_count": 25,
     "metadata": {},
     "output_type": "execute_result"
    }
   ],
   "source": [
    "isim[0:3]"
   ]
  },
  {
   "cell_type": "code",
   "execution_count": 26,
   "id": "ffbd15d5-96b2-42d9-9c83-2462c5017e4a",
   "metadata": {
    "tags": []
   },
   "outputs": [
    {
     "data": {
      "text/plain": [
       "'Sal'"
      ]
     },
     "execution_count": 26,
     "metadata": {},
     "output_type": "execute_result"
    }
   ],
   "source": [
    "isim[:3]"
   ]
  },
  {
   "cell_type": "markdown",
   "id": "e415c6e8-0a47-408a-997f-bedb937974c2",
   "metadata": {},
   "source": [
    "* Bitişi belirtmezseniz ise Python String'in sonuna kadar alıyor, bu sefer son elemanı da dahil ediyor."
   ]
  },
  {
   "cell_type": "code",
   "execution_count": 27,
   "id": "e0c6e2b3-d840-4abb-9adf-c20269d88f69",
   "metadata": {
    "tags": []
   },
   "outputs": [
    {
     "data": {
      "text/plain": [
       "'alih'"
      ]
     },
     "execution_count": 27,
     "metadata": {},
     "output_type": "execute_result"
    }
   ],
   "source": [
    "isim[1:5]"
   ]
  },
  {
   "cell_type": "code",
   "execution_count": 28,
   "id": "1c70966a-2699-4417-a7b8-641aed8687a6",
   "metadata": {
    "tags": []
   },
   "outputs": [
    {
     "data": {
      "text/plain": [
       "'alih'"
      ]
     },
     "execution_count": 28,
     "metadata": {},
     "output_type": "execute_result"
    }
   ],
   "source": [
    "isim[1:]"
   ]
  },
  {
   "cell_type": "code",
   "execution_count": 30,
   "id": "f1d72b64-9e4f-4018-b145-4a176a82a3c2",
   "metadata": {
    "tags": []
   },
   "outputs": [
    {
     "data": {
      "text/plain": [
       "'Salih'"
      ]
     },
     "execution_count": 30,
     "metadata": {},
     "output_type": "execute_result"
    }
   ],
   "source": [
    "# Bu şekilde yazdığımızda her iki tarafı da varsayılan değer alındığı için direkt olarak değişkenimizin çıktısını alabiliyoruz.\n",
    "isim[:]"
   ]
  },
  {
   "cell_type": "markdown",
   "id": "2a1200a7-3d39-4232-9bc5-703f1908f1ea",
   "metadata": {},
   "source": [
    "* Slicing yaparken bitiş olarak verdiğimiz değer en büyük index'imizden büyükse hata almayız, sonuna kadar alıcaktır ama indexing yaparken en büyük indeximden büyük değerler için hata alıyorduk."
   ]
  },
  {
   "cell_type": "code",
   "execution_count": 31,
   "id": "784a443a-69d6-4e35-96da-fb444674a6b4",
   "metadata": {
    "tags": []
   },
   "outputs": [
    {
     "data": {
      "text/plain": [
       "'alih'"
      ]
     },
     "execution_count": 31,
     "metadata": {},
     "output_type": "execute_result"
    }
   ],
   "source": [
    "# Bu slicing işleminde herhangi bir hata almamaktayız.\n",
    "isim[1:20]"
   ]
  },
  {
   "cell_type": "code",
   "execution_count": 32,
   "id": "f3ff261f-3573-4188-acde-be46f33fb8da",
   "metadata": {
    "tags": []
   },
   "outputs": [
    {
     "ename": "IndexError",
     "evalue": "string index out of range",
     "output_type": "error",
     "traceback": [
      "\u001b[1;31m---------------------------------------------------------------------------\u001b[0m",
      "\u001b[1;31mIndexError\u001b[0m                                Traceback (most recent call last)",
      "Cell \u001b[1;32mIn[32], line 2\u001b[0m\n\u001b[0;32m      1\u001b[0m \u001b[38;5;66;03m# Ama indexing yaparken 20. indeximiz olmadığı için hata almaktaydık.\u001b[39;00m\n\u001b[1;32m----> 2\u001b[0m \u001b[43misim\u001b[49m\u001b[43m[\u001b[49m\u001b[38;5;241;43m20\u001b[39;49m\u001b[43m]\u001b[49m\n",
      "\u001b[1;31mIndexError\u001b[0m: string index out of range"
     ]
    }
   ],
   "source": [
    "# Ama indexing yaparken 20. indeximiz olmadığı için hata almaktaydık.\n",
    "isim[20]"
   ]
  },
  {
   "cell_type": "markdown",
   "id": "22710cac-3ee6-4032-ac1a-7c9dcf7b9d94",
   "metadata": {},
   "source": [
    "* ```başlangıç:bitiş``` olarak slicing yapabileceğimiz gibi, ```başlangıç:bitiş:adım``` formunda da slicing yapabiliriz. Buradaki adım parametresi kaçar kaçar gideceğimizi belirtmektedir."
   ]
  },
  {
   "cell_type": "code",
   "execution_count": 33,
   "id": "af3c2671-4892-4e69-8055-462f2f6754f0",
   "metadata": {
    "tags": []
   },
   "outputs": [
    {
     "data": {
      "text/plain": [
       "'Slh'"
      ]
     },
     "execution_count": 33,
     "metadata": {},
     "output_type": "execute_result"
    }
   ],
   "source": [
    "isim[0:10:2]"
   ]
  },
  {
   "cell_type": "code",
   "execution_count": 34,
   "id": "1ffe10d1-a70a-4d7e-b9ab-6fe01c60c118",
   "metadata": {
    "tags": []
   },
   "outputs": [
    {
     "data": {
      "text/plain": [
       "'Salih'"
      ]
     },
     "execution_count": 34,
     "metadata": {},
     "output_type": "execute_result"
    }
   ],
   "source": [
    "isim[0:10:1]"
   ]
  },
  {
   "cell_type": "code",
   "execution_count": 36,
   "id": "4a06f3d3-999f-49eb-9b87-2add7c179944",
   "metadata": {
    "tags": []
   },
   "outputs": [
    {
     "ename": "SyntaxError",
     "evalue": "invalid syntax (3530263470.py, line 1)",
     "output_type": "error",
     "traceback": [
      "\u001b[1;36m  Cell \u001b[1;32mIn[36], line 1\u001b[1;36m\u001b[0m\n\u001b[1;33m    * Adım eksi bir değer de olabilir, böylece ters yönde gitmiş oluruz. Ama index değerlerimizi ona göre belirlememiz gerekmektedir.\u001b[0m\n\u001b[1;37m           ^\u001b[0m\n\u001b[1;31mSyntaxError\u001b[0m\u001b[1;31m:\u001b[0m invalid syntax\n"
     ]
    }
   ],
   "source": [
    "* Adım eksi bir değer de olabilir, böylece ters yönde gitmiş oluruz. Ama index değerlerimizi ona göre belirlememiz gerekmektedir."
   ]
  },
  {
   "cell_type": "code",
   "execution_count": 37,
   "id": "9d753eb6-7200-4625-aae0-3216d81e8c23",
   "metadata": {
    "tags": []
   },
   "outputs": [
    {
     "data": {
      "text/plain": [
       "''"
      ]
     },
     "execution_count": 37,
     "metadata": {},
     "output_type": "execute_result"
    }
   ],
   "source": [
    "# Mesela 0. indexten 10. indexe -1'er adım gidelim. Göreceğimiz gibi herhangi bir çıktı alamayacağız. Çünkü 0. indexten 10. indexe 1 azaltarak gidemez ama slicingten dolayı yine bir hata görmemekteyiz.\n",
    "isim\n",
    "isim[0:10:-1]"
   ]
  },
  {
   "cell_type": "code",
   "execution_count": 49,
   "id": "459c8fa6-5aea-4f8f-b724-1ae4921eb9f8",
   "metadata": {
    "tags": []
   },
   "outputs": [
    {
     "data": {
      "text/plain": [
       "'S'"
      ]
     },
     "execution_count": 49,
     "metadata": {},
     "output_type": "execute_result"
    }
   ],
   "source": [
    "isim[0::-1]"
   ]
  },
  {
   "cell_type": "markdown",
   "id": "8ff0c01c-7266-4b8a-ad83-3c4242f8ff88",
   "metadata": {
    "tags": []
   },
   "source": [
    "isim[:2:-1]"
   ]
  },
  {
   "cell_type": "code",
   "execution_count": 46,
   "id": "8b2ac44e-3cb3-414a-8905-1c34787c735a",
   "metadata": {
    "tags": []
   },
   "outputs": [
    {
     "data": {
      "text/plain": [
       "'hilaS'"
      ]
     },
     "execution_count": 46,
     "metadata": {},
     "output_type": "execute_result"
    }
   ],
   "source": [
    "isim[::-1]"
   ]
  },
  {
   "cell_type": "code",
   "execution_count": 50,
   "id": "c9974934-ed0f-410d-9efa-5b5e681cc747",
   "metadata": {
    "tags": []
   },
   "outputs": [
    {
     "data": {
      "text/plain": [
       "'hlS'"
      ]
     },
     "execution_count": 50,
     "metadata": {},
     "output_type": "execute_result"
    }
   ],
   "source": [
    "isim[::-2]"
   ]
  },
  {
   "cell_type": "markdown",
   "id": "20a1b83a-82dc-4358-acf0-3faa79b3fbfa",
   "metadata": {},
   "source": [
    "## Stringlerde Casting"
   ]
  },
  {
   "cell_type": "code",
   "execution_count": 54,
   "id": "af3e9663-ffb8-42b0-9537-e482b341e5f9",
   "metadata": {
    "tags": []
   },
   "outputs": [
    {
     "data": {
      "text/plain": [
       "5"
      ]
     },
     "execution_count": 54,
     "metadata": {},
     "output_type": "execute_result"
    }
   ],
   "source": [
    "5.4\n",
    "int(5.4)"
   ]
  },
  {
   "cell_type": "code",
   "execution_count": 55,
   "id": "95c44137-c481-4fd3-aed1-651ef171db37",
   "metadata": {
    "tags": []
   },
   "outputs": [],
   "source": [
    "b = \"5.3\""
   ]
  },
  {
   "cell_type": "code",
   "execution_count": 56,
   "id": "d86adc58-571c-4de9-a539-0051a6f50d76",
   "metadata": {
    "tags": []
   },
   "outputs": [
    {
     "ename": "ValueError",
     "evalue": "invalid literal for int() with base 10: '5.3'",
     "output_type": "error",
     "traceback": [
      "\u001b[1;31m---------------------------------------------------------------------------\u001b[0m",
      "\u001b[1;31mValueError\u001b[0m                                Traceback (most recent call last)",
      "Cell \u001b[1;32mIn[56], line 2\u001b[0m\n\u001b[0;32m      1\u001b[0m \u001b[38;5;66;03m# int'e çevirirsem hata alacağım.\u001b[39;00m\n\u001b[1;32m----> 2\u001b[0m \u001b[38;5;28;43mint\u001b[39;49m\u001b[43m(\u001b[49m\u001b[43mb\u001b[49m\u001b[43m)\u001b[49m\n",
      "\u001b[1;31mValueError\u001b[0m: invalid literal for int() with base 10: '5.3'"
     ]
    }
   ],
   "source": [
    "# int'e çevirirsem hata alacağım.\n",
    "int(b)"
   ]
  },
  {
   "cell_type": "code",
   "execution_count": 58,
   "id": "d48abea9-329b-4be6-b462-bbd6cf920058",
   "metadata": {
    "tags": []
   },
   "outputs": [
    {
     "data": {
      "text/plain": [
       "5.3"
      ]
     },
     "execution_count": 58,
     "metadata": {},
     "output_type": "execute_result"
    }
   ],
   "source": [
    "# Ama float'a çevirirsem hata almayacağım.\n",
    "float(b)"
   ]
  },
  {
   "cell_type": "code",
   "execution_count": 59,
   "id": "00bd4203-713b-44a9-8ec2-d31eb377b1aa",
   "metadata": {
    "tags": []
   },
   "outputs": [
    {
     "data": {
      "text/plain": [
       "5"
      ]
     },
     "execution_count": 59,
     "metadata": {},
     "output_type": "execute_result"
    }
   ],
   "source": [
    "# Peki ben b değişkenini integer'a nasıl çevireceğim? İlk olarak float'a daha sonra ise int'e çevirerek kolayca bu sorunu çözebiliriz.\n",
    "int(float(b))"
   ]
  },
  {
   "cell_type": "markdown",
   "id": "41868df9-1568-4bf9-a5c4-a2eee2aba439",
   "metadata": {
    "tags": []
   },
   "source": [
    "## Input"
   ]
  },
  {
   "cell_type": "markdown",
   "id": "f2d083d7-4d3d-473a-9f06-97c5d67c339b",
   "metadata": {},
   "source": [
    "* Bazen kullanacağımız değeri kullanıcıdan almak isteyebiliriz. Bunu ```input``` metodu ile yapacağız.\n",
    "* ```input```'un içinde yazacağımız bize kullanıcıya gösterilecek yazıyı verecek, kullanıcıdan girdi bekleyip enter'a basmasını bekleyecek, ve girdiyi <b>string</b> olarak döndürecek"
   ]
  },
  {
   "cell_type": "code",
   "execution_count": 63,
   "id": "b66ca211-3de6-495b-93d0-77041c9c8124",
   "metadata": {
    "tags": []
   },
   "outputs": [
    {
     "name": "stdin",
     "output_type": "stream",
     "text": [
      "Bir sayı girin: 5\n"
     ]
    }
   ],
   "source": []
  },
  {
   "cell_type": "code",
   "execution_count": 64,
   "id": "b7d8e9c1-ae0e-4ed3-a842-556f83aa9feb",
   "metadata": {
    "tags": []
   },
   "outputs": [
    {
     "ename": "TypeError",
     "evalue": "can only concatenate str (not \"int\") to str",
     "output_type": "error",
     "traceback": [
      "\u001b[1;31m---------------------------------------------------------------------------\u001b[0m",
      "\u001b[1;31mTypeError\u001b[0m                                 Traceback (most recent call last)",
      "Cell \u001b[1;32mIn[64], line 1\u001b[0m\n\u001b[1;32m----> 1\u001b[0m \u001b[43mx\u001b[49m\u001b[43m \u001b[49m\u001b[38;5;241;43m+\u001b[39;49m\u001b[43m \u001b[49m\u001b[38;5;241;43m10\u001b[39;49m\n",
      "\u001b[1;31mTypeError\u001b[0m: can only concatenate str (not \"int\") to str"
     ]
    }
   ],
   "source": [
    "# Burada x'e bir atama yaptık ama yine de hata aldık neden? Çünkü buradaki x değişkenimiz aslında stringdir.\n",
    "x + 10"
   ]
  },
  {
   "cell_type": "code",
   "execution_count": 66,
   "id": "cc57af47-519f-43d3-b31b-70523429c75e",
   "metadata": {
    "tags": []
   },
   "outputs": [
    {
     "data": {
      "text/plain": [
       "str"
      ]
     },
     "execution_count": 66,
     "metadata": {},
     "output_type": "execute_result"
    }
   ],
   "source": [
    "type(x)"
   ]
  },
  {
   "cell_type": "code",
   "execution_count": 69,
   "id": "663caa3b-a474-4b20-8fbf-2b24922f4e5b",
   "metadata": {},
   "outputs": [
    {
     "name": "stdin",
     "output_type": "stream",
     "text": [
      "Bir sayı girin: 3\n"
     ]
    }
   ],
   "source": [
    "x = int(input(\"Bir sayı girin:\"))"
   ]
  },
  {
   "cell_type": "code",
   "execution_count": 70,
   "id": "e358c545-84d9-49e0-a2e2-92829cb0fe71",
   "metadata": {
    "tags": []
   },
   "outputs": [
    {
     "data": {
      "text/plain": [
       "11"
      ]
     },
     "execution_count": 70,
     "metadata": {},
     "output_type": "execute_result"
    }
   ],
   "source": [
    "x + 8"
   ]
  },
  {
   "cell_type": "code",
   "execution_count": 82,
   "id": "95d618a2-a035-458c-967d-a5f4c8ff6fc9",
   "metadata": {
    "tags": []
   },
   "outputs": [
    {
     "name": "stdin",
     "output_type": "stream",
     "text": [
      "Adınız nedir?  Ahmet\n"
     ]
    }
   ],
   "source": [
    "mesaj = input(\"Adınız nedir? \") + \" Bey\""
   ]
  },
  {
   "cell_type": "code",
   "execution_count": 83,
   "id": "2296097f-0333-4e57-acc5-e4e18d176f40",
   "metadata": {
    "tags": []
   },
   "outputs": [
    {
     "data": {
      "text/plain": [
       "str"
      ]
     },
     "execution_count": 83,
     "metadata": {},
     "output_type": "execute_result"
    }
   ],
   "source": [
    "type(mesaj)"
   ]
  },
  {
   "cell_type": "code",
   "execution_count": 85,
   "id": "3c332baa-830a-46f8-a38b-0eb03f579cf4",
   "metadata": {
    "tags": []
   },
   "outputs": [
    {
     "data": {
      "text/plain": [
       "'Ahmet Bey İletişim için lütfen bekleyiniz.'"
      ]
     },
     "execution_count": 85,
     "metadata": {},
     "output_type": "execute_result"
    }
   ],
   "source": [
    "uyarı = \"İletişim için lütfen bekleyiniz.\"\n",
    "mesaj + \" \" + uyarı"
   ]
  },
  {
   "cell_type": "markdown",
   "id": "f7a21998-7baf-4cb4-b797-99d687091348",
   "metadata": {},
   "source": [
    "### Tek Satıra Yorum Eklemek"
   ]
  },
  {
   "cell_type": "code",
   "execution_count": 86,
   "id": "135f007a-d4a2-49e7-9fb5-ca0716f10f56",
   "metadata": {
    "tags": []
   },
   "outputs": [
    {
     "name": "stdout",
     "output_type": "stream",
     "text": [
      "14\n"
     ]
    }
   ],
   "source": [
    "# limon değişkeni satılan limonları ifade ediyor\n",
    "limon = 2\n",
    "# sonuc değişkeni bir haftada kaç limon satıldığını belirtiyor\n",
    "sonuc = limon * 7\n",
    "print(sonuc)"
   ]
  },
  {
   "cell_type": "code",
   "execution_count": 87,
   "id": "b35dcb6b-e6d4-44e4-b6ed-0612342ea0ad",
   "metadata": {
    "tags": []
   },
   "outputs": [
    {
     "name": "stdout",
     "output_type": "stream",
     "text": [
      "14\n"
     ]
    }
   ],
   "source": [
    "# Bunları ifadelerin yanlarına da yazabilirdik.\n",
    "limon = 2 # limon değişkeni satılan limonları ifade ediyor.\n",
    "sonuc = limon * 7 # sonuc değişkeni bir haftada kaç limon satıldığını belirtiyor.\n",
    "print(sonuc)"
   ]
  },
  {
   "cell_type": "markdown",
   "id": "283f273a-51f6-403f-8420-69c8d8c90dab",
   "metadata": {
    "tags": []
   },
   "source": [
    "### Birden Çok Satırı Kapsayan Yorum Yazmak"
   ]
  },
  {
   "cell_type": "code",
   "execution_count": 95,
   "id": "90c44ac5-bda6-4fb6-a3a6-2296db27db25",
   "metadata": {},
   "outputs": [
    {
     "name": "stdout",
     "output_type": "stream",
     "text": [
      "14\n"
     ]
    }
   ],
   "source": [
    "\"\"\"\n",
    "limon değişkeni satılan limonları ifade ediyor.\n",
    "\n",
    "sonuc değişkeni bir haftada kaç limon satıldığını belirtiyor.\n",
    "\"\"\"\n",
    "\n",
    "\n",
    "\"\"\"\n",
    "Bu\n",
    "\n",
    "bir\n",
    "\n",
    "yorum\n",
    "\n",
    "satırıdır.\n",
    "\n",
    "\"\"\"\n",
    "\n",
    "limon = 2\n",
    "\n",
    "sonuc = limon * 7\n",
    "\n",
    "print(sonuc)"
   ]
  }
 ],
 "metadata": {
  "kernelspec": {
   "display_name": "Python 3 (ipykernel)",
   "language": "python",
   "name": "python3"
  },
  "language_info": {
   "codemirror_mode": {
    "name": "ipython",
    "version": 3
   },
   "file_extension": ".py",
   "mimetype": "text/x-python",
   "name": "python",
   "nbconvert_exporter": "python",
   "pygments_lexer": "ipython3",
   "version": "3.8.16"
  }
 },
 "nbformat": 4,
 "nbformat_minor": 5
}
