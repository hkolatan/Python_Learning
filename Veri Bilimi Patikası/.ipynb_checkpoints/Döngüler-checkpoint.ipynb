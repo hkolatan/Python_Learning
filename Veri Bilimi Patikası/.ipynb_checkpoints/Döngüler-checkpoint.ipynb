{
 "cells": [
  {
   "cell_type": "markdown",
   "id": "79eae018-fb70-4b7b-be18-c22f6fab9c33",
   "metadata": {},
   "source": [
    "# Döngüler (loops)"
   ]
  },
  {
   "cell_type": "markdown",
   "id": "1180eae2-cbc5-491a-92a9-e0a1b6abb83c",
   "metadata": {},
   "source": [
    "* ```if-else-elif``` mantığı ile programımızı dallandırmayı öğrendik. Ama kod akışı hala lineer. Bir işlemi birden çok kere yapmak istiyorsam bunu kolaylaştıraca bir yapıya ihtiyacım var.\n",
    "* Bir şeyi defalarca yapmak istediğimizde kullanacağım bir yapıya ihtiyacım var. Bu sadece kodumu defalarca yazmamak için işimi kolaylaştırsın diye değil, kodun o parçasının kaç kere çalışacağını önceden bilmediğim için de olabilir. (100 kere çalışacak kod parçasını 100 kere ard arda yazmak da zaman için iyi bir pratik değil, sadece böyle şeyler için de kullanmak isteyebiliriz.)\n",
    "* Mesela bir siteye girmek için şifrenizi girdiğinizi düşünün. Site siz şifrenizi yanlış girdikçe şifrenin tekrar girin diyor. Siteyi kodlayan kişinin önceden sizin kaç kere şifrenizi yanlış gireceğini bilmesinin bir yolu yok. Bu yüzden kodun o parçasının doğru şifre sağlanmadıkça çalışacağı bir yapıya ihtiyacım var."
   ]
  },
  {
   "cell_type": "code",
   "execution_count": null,
   "id": "9c510cd7-2137-43f0-8c95-b29401813a77",
   "metadata": {},
   "outputs": [],
   "source": []
  }
 ],
 "metadata": {
  "kernelspec": {
   "display_name": "Python 3 (ipykernel)",
   "language": "python",
   "name": "python3"
  },
  "language_info": {
   "codemirror_mode": {
    "name": "ipython",
    "version": 3
   },
   "file_extension": ".py",
   "mimetype": "text/x-python",
   "name": "python",
   "nbconvert_exporter": "python",
   "pygments_lexer": "ipython3",
   "version": "3.8.16"
  }
 },
 "nbformat": 4,
 "nbformat_minor": 5
}
