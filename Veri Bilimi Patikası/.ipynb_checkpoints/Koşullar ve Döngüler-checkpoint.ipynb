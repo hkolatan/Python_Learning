{
 "cells": [
  {
   "cell_type": "markdown",
   "id": "89311cc6-fd49-4d8f-a50a-8db42aa27da5",
   "metadata": {},
   "source": [
    "# Koşullar ve Döngüler"
   ]
  },
  {
   "cell_type": "markdown",
   "id": "49029829-bf86-4e1b-a9ea-10363e75f638",
   "metadata": {
    "tags": []
   },
   "source": [
    "## Nümerik Veri Tiplerinde Karşılaştırma:"
   ]
  },
  {
   "cell_type": "markdown",
   "id": "4cbe6be6-5c74-44e7-be3d-5e0a297c4a1a",
   "metadata": {},
   "source": [
    "* Bir programın farklı durumlar olduğunda başka davranışlar göstermesini isteyebiliriz. Bunun için belirli testler yapmam gerekmektedir ve bu testler sonucuna göre farklı davranışlar tasarlamam gerekiyor.\n",
    "* Bu testler için verilerimizi birbirleri ile karşılaştırabilir olmamız lazımdır. Bunları \"Comparison Operator'lar (Karşılaştırma Operatörleri)\" ile yapacağız. Cevabın True ya da False olmasına göre, farklı durumlarda farklı davranacak program tasarlayabiliriz. Bu karşılaştırmalar o programların temelini oluşturacaktır.\n",
    "* Nümerik veri tiplerinde karşılaştırma deyince aklımıza birkaç şey gelebilir:\n",
    "    - ```i=j``` eşitlik testi (equality test). i ve j birbirine eşitse bu ifadenin değeri ```boolean``` veri objesi True, eşit değilse False olacaktır. ```=``` değişken atama operatörü olarak tanımlandığı için eşitlik test ederken onu kullanırsak ```=```'in sağındaki değere solundaki adı vermiş oluyoruz.\n",
    "    - ```i!=j``` eşitsizlik testi (inequality test). i ve j birbirine eşit değilse bu ifadenin ```boolean``` veri objesi True, eşitse False olacaktır.\n",
    "    - ```i>j```; i,j'den büyükse bu ifadenin ```boolean``` veri objesi True, eşit ya da eşit ise False olacaktır.\n",
    "    - ```i>=j```; i,j'den büyükse veya eşitse bu ifadenin ```boolean``` veri objesi True, küçük ise Falsa olacaktır.\n",
    "    - ```i<j``` i,j'den küçükse bu ifadenin ```boolean``` veri objesi True, eşit veya büyük ise False olacaktır.\n",
    "    - ```i<=j``` i,j'den küçükse veya eşitse bu ifadenin ```boolean``` veri objesi True, büyük ise False olacaktır."
   ]
  },
  {
   "cell_type": "markdown",
   "id": "e97c1415-7fbf-4170-86ff-46a54e2bb290",
   "metadata": {
    "tags": []
   },
   "source": [
    "## ```==``` Operatörü"
   ]
  },
  {
   "cell_type": "code",
   "execution_count": 3,
   "id": "b281fa96-a45b-47a4-91f9-3294d97a737d",
   "metadata": {
    "tags": []
   },
   "outputs": [
    {
     "data": {
      "text/plain": [
       "False"
      ]
     },
     "execution_count": 3,
     "metadata": {},
     "output_type": "execute_result"
    }
   ],
   "source": [
    "5 == 4"
   ]
  },
  {
   "cell_type": "code",
   "execution_count": 4,
   "id": "cd3e7169-81a0-4182-985c-d547795420ef",
   "metadata": {
    "tags": []
   },
   "outputs": [
    {
     "data": {
      "text/plain": [
       "True"
      ]
     },
     "execution_count": 4,
     "metadata": {},
     "output_type": "execute_result"
    }
   ],
   "source": [
    "5 == 5"
   ]
  },
  {
   "cell_type": "code",
   "execution_count": 5,
   "id": "f109257e-1a6f-47d1-b741-2af4d8d4e274",
   "metadata": {
    "tags": []
   },
   "outputs": [],
   "source": [
    "i = 10\n",
    "j = 20"
   ]
  },
  {
   "cell_type": "code",
   "execution_count": 6,
   "id": "2be754cd-97f0-4be0-a9af-dd793b0b6548",
   "metadata": {
    "tags": []
   },
   "outputs": [
    {
     "data": {
      "text/plain": [
       "True"
      ]
     },
     "execution_count": 6,
     "metadata": {},
     "output_type": "execute_result"
    }
   ],
   "source": [
    "i < j"
   ]
  },
  {
   "cell_type": "code",
   "execution_count": 7,
   "id": "0c0b7aaf-e9b0-49cd-8e15-395002c74949",
   "metadata": {
    "tags": []
   },
   "outputs": [
    {
     "data": {
      "text/plain": [
       "False"
      ]
     },
     "execution_count": 7,
     "metadata": {},
     "output_type": "execute_result"
    }
   ],
   "source": [
    "i > j "
   ]
  },
  {
   "cell_type": "code",
   "execution_count": 8,
   "id": "9cbafb09-ec45-4e2f-adef-d32ce795dd95",
   "metadata": {
    "tags": []
   },
   "outputs": [
    {
     "data": {
      "text/plain": [
       "False"
      ]
     },
     "execution_count": 8,
     "metadata": {},
     "output_type": "execute_result"
    }
   ],
   "source": [
    "i == j"
   ]
  },
  {
   "cell_type": "markdown",
   "id": "d3b928c4-49ff-4b17-b124-eded6e4a6026",
   "metadata": {},
   "source": [
    "* Float veri tipleri için eşitlik karşılaştırması yaparken ```==``` kullanılması çok mantıklı değil, bunun nedenini ileriki derslerde göreceğiz."
   ]
  },
  {
   "cell_type": "code",
   "execution_count": 9,
   "id": "4b54f621-b968-4cbb-ac91-c000013fc9e1",
   "metadata": {
    "tags": []
   },
   "outputs": [
    {
     "data": {
      "text/plain": [
       "False"
      ]
     },
     "execution_count": 9,
     "metadata": {},
     "output_type": "execute_result"
    }
   ],
   "source": [
    "5.3 == 5.4"
   ]
  },
  {
   "cell_type": "code",
   "execution_count": 17,
   "id": "7ca6f2f0-d4e4-4e4d-b84b-70d52be066cf",
   "metadata": {
    "tags": []
   },
   "outputs": [
    {
     "name": "stdout",
     "output_type": "stream",
     "text": [
      "0.9999999999999999 1.0\n"
     ]
    },
    {
     "data": {
      "text/plain": [
       "False"
      ]
     },
     "execution_count": 17,
     "metadata": {},
     "output_type": "execute_result"
    }
   ],
   "source": [
    "# Normalde x'in 1 olmasını bekliyoruz. Böylece True olması gerekiyor ama değil. Bu duruma daha sonra bakacağız.\n",
    "x = (0.3 * 3) + 0.1\n",
    "y = 1.0\n",
    "print(x,y)\n",
    "x == y"
   ]
  },
  {
   "cell_type": "markdown",
   "id": "33e62b47-0a72-4d8e-a595-f41e107b32d6",
   "metadata": {},
   "source": [
    "## ```!=``` Operatörü"
   ]
  },
  {
   "cell_type": "code",
   "execution_count": 18,
   "id": "66cbeb43-a827-430a-a052-67e0fb88ac57",
   "metadata": {
    "tags": []
   },
   "outputs": [
    {
     "data": {
      "text/plain": [
       "True"
      ]
     },
     "execution_count": 18,
     "metadata": {},
     "output_type": "execute_result"
    }
   ],
   "source": [
    "5 != 4 "
   ]
  },
  {
   "cell_type": "code",
   "execution_count": 19,
   "id": "dc3edde4-f210-4f9c-a9c9-8084b87a02d4",
   "metadata": {
    "tags": []
   },
   "outputs": [
    {
     "data": {
      "text/plain": [
       "False"
      ]
     },
     "execution_count": 19,
     "metadata": {},
     "output_type": "execute_result"
    }
   ],
   "source": [
    "5 != 5"
   ]
  },
  {
   "cell_type": "code",
   "execution_count": 20,
   "id": "a5b7cccf-caff-468b-bcc1-3f171254a7de",
   "metadata": {
    "tags": []
   },
   "outputs": [
    {
     "data": {
      "text/plain": [
       "True"
      ]
     },
     "execution_count": 20,
     "metadata": {},
     "output_type": "execute_result"
    }
   ],
   "source": [
    "5.3 != 5.4"
   ]
  },
  {
   "cell_type": "markdown",
   "id": "118f9efe-ef73-4bfb-a2cf-54a3c2051b81",
   "metadata": {},
   "source": [
    "## ```>=``` Operatörü"
   ]
  },
  {
   "cell_type": "code",
   "execution_count": 21,
   "id": "5f79c342-f774-4a22-8a8d-dfeb94f95113",
   "metadata": {
    "tags": []
   },
   "outputs": [
    {
     "data": {
      "text/plain": [
       "True"
      ]
     },
     "execution_count": 21,
     "metadata": {},
     "output_type": "execute_result"
    }
   ],
   "source": [
    "5 >= 4"
   ]
  },
  {
   "cell_type": "code",
   "execution_count": 22,
   "id": "2c57980f-b970-4490-b799-03f74b69577b",
   "metadata": {
    "tags": []
   },
   "outputs": [
    {
     "data": {
      "text/plain": [
       "False"
      ]
     },
     "execution_count": 22,
     "metadata": {},
     "output_type": "execute_result"
    }
   ],
   "source": [
    "5 >= 10"
   ]
  },
  {
   "cell_type": "code",
   "execution_count": 23,
   "id": "f5210d79-f06f-4c7a-88a8-c538d2e76226",
   "metadata": {
    "tags": []
   },
   "outputs": [
    {
     "data": {
      "text/plain": [
       "True"
      ]
     },
     "execution_count": 23,
     "metadata": {},
     "output_type": "execute_result"
    }
   ],
   "source": [
    "5 >= 5"
   ]
  },
  {
   "cell_type": "code",
   "execution_count": 24,
   "id": "a5e13f1f-249e-49af-8f02-5158cb56be2e",
   "metadata": {
    "tags": []
   },
   "outputs": [
    {
     "data": {
      "text/plain": [
       "True"
      ]
     },
     "execution_count": 24,
     "metadata": {},
     "output_type": "execute_result"
    }
   ],
   "source": [
    "5.4 >= 5.4 # Yine eşitlik içerdiği için başka ifadelerde sorun olabilir!"
   ]
  },
  {
   "cell_type": "markdown",
   "id": "5c9b435b-5587-42d2-a8d9-3cf6b9b539cb",
   "metadata": {},
   "source": [
    "## ```<``` Operatörü"
   ]
  },
  {
   "cell_type": "code",
   "execution_count": 25,
   "id": "47ba2486-102e-42de-9b91-1d30aca717b8",
   "metadata": {
    "tags": []
   },
   "outputs": [
    {
     "data": {
      "text/plain": [
       "False"
      ]
     },
     "execution_count": 25,
     "metadata": {},
     "output_type": "execute_result"
    }
   ],
   "source": [
    "5 < 4"
   ]
  },
  {
   "cell_type": "code",
   "execution_count": 26,
   "id": "bf2c4561-732d-401e-b87c-2af7cc4e5655",
   "metadata": {
    "tags": []
   },
   "outputs": [
    {
     "data": {
      "text/plain": [
       "True"
      ]
     },
     "execution_count": 26,
     "metadata": {},
     "output_type": "execute_result"
    }
   ],
   "source": [
    "5< 10"
   ]
  },
  {
   "cell_type": "code",
   "execution_count": 27,
   "id": "a1fdb90c-65f0-4d29-80db-d06cb138c7de",
   "metadata": {
    "tags": []
   },
   "outputs": [
    {
     "data": {
      "text/plain": [
       "False"
      ]
     },
     "execution_count": 27,
     "metadata": {},
     "output_type": "execute_result"
    }
   ],
   "source": [
    "5 < 5"
   ]
  },
  {
   "cell_type": "code",
   "execution_count": 28,
   "id": "b6165596-dd68-40e8-900f-bcedfde530e2",
   "metadata": {
    "tags": []
   },
   "outputs": [
    {
     "data": {
      "text/plain": [
       "True"
      ]
     },
     "execution_count": 28,
     "metadata": {},
     "output_type": "execute_result"
    }
   ],
   "source": [
    "5.4 < 5.9"
   ]
  },
  {
   "cell_type": "markdown",
   "id": "d16cc916-746b-494d-a787-204db2e30537",
   "metadata": {
    "tags": []
   },
   "source": [
    "## ```<=``` Operatörü"
   ]
  },
  {
   "cell_type": "code",
   "execution_count": 30,
   "id": "9f948709-c29c-4636-bf02-f1f75873db3f",
   "metadata": {
    "tags": []
   },
   "outputs": [
    {
     "data": {
      "text/plain": [
       "False"
      ]
     },
     "execution_count": 30,
     "metadata": {},
     "output_type": "execute_result"
    }
   ],
   "source": [
    "5 <= 4"
   ]
  },
  {
   "cell_type": "code",
   "execution_count": 31,
   "id": "5dc122cc-8293-4241-9953-ac0936f972fd",
   "metadata": {
    "tags": []
   },
   "outputs": [
    {
     "data": {
      "text/plain": [
       "True"
      ]
     },
     "execution_count": 31,
     "metadata": {},
     "output_type": "execute_result"
    }
   ],
   "source": [
    "5 <= 15"
   ]
  },
  {
   "cell_type": "code",
   "execution_count": 32,
   "id": "77730aaf-4177-4983-bbb2-64b0ed3f3957",
   "metadata": {
    "tags": []
   },
   "outputs": [
    {
     "data": {
      "text/plain": [
       "True"
      ]
     },
     "execution_count": 32,
     "metadata": {},
     "output_type": "execute_result"
    }
   ],
   "source": [
    "5 <= 5"
   ]
  },
  {
   "cell_type": "code",
   "execution_count": 33,
   "id": "53af105a-e302-4b59-a647-4c14017cfcd0",
   "metadata": {
    "tags": []
   },
   "outputs": [
    {
     "data": {
      "text/plain": [
       "True"
      ]
     },
     "execution_count": 33,
     "metadata": {},
     "output_type": "execute_result"
    }
   ],
   "source": [
    "5.4 <= 15.2 # Yukarıdaki uyarılar bu durum içinde geçerlidir."
   ]
  },
  {
   "cell_type": "markdown",
   "id": "8a817f3e-2c31-4428-b23e-bf3b70a46a32",
   "metadata": {},
   "source": [
    "## Stringlerde Karşılaştırma:"
   ]
  },
  {
   "cell_type": "code",
   "execution_count": null,
   "id": "a0180a94-d0d9-48f5-81a3-76c4d9e0402d",
   "metadata": {},
   "outputs": [
    {
     "data": {
      "text/plain": [
       "False"
      ]
     },
     "execution_count": 34,
     "metadata": {},
     "output_type": "execute_result"
    }
   ],
   "source": [
    "\"Elma\" == \"elma\""
   ]
  },
  {
   "cell_type": "code",
   "execution_count": 35,
   "id": "9073a765-d58d-4de5-88da-7a5c22bd8ceb",
   "metadata": {
    "tags": []
   },
   "outputs": [
    {
     "data": {
      "text/plain": [
       "True"
      ]
     },
     "execution_count": 35,
     "metadata": {},
     "output_type": "execute_result"
    }
   ],
   "source": [
    "\"Elma\" != \"elma\""
   ]
  },
  {
   "cell_type": "code",
   "execution_count": 36,
   "id": "2faa47de-2c24-4827-81e5-ea971053162a",
   "metadata": {
    "tags": []
   },
   "outputs": [
    {
     "data": {
      "text/plain": [
       "True"
      ]
     },
     "execution_count": 36,
     "metadata": {},
     "output_type": "execute_result"
    }
   ],
   "source": [
    "\"elma\" == \"elma\""
   ]
  },
  {
   "cell_type": "code",
   "execution_count": 37,
   "id": "63d088d8-3aa2-44eb-807a-3a772a8277c0",
   "metadata": {
    "tags": []
   },
   "outputs": [
    {
     "data": {
      "text/plain": [
       "True"
      ]
     },
     "execution_count": 37,
     "metadata": {},
     "output_type": "execute_result"
    }
   ],
   "source": [
    "a = \"elma\"\n",
    "b = \"elma\"\n",
    "a == b"
   ]
  },
  {
   "cell_type": "code",
   "execution_count": 39,
   "id": "b86affe8-e86c-43f3-85a8-47914625a2bd",
   "metadata": {
    "tags": []
   },
   "outputs": [
    {
     "data": {
      "text/plain": [
       "True"
      ]
     },
     "execution_count": 39,
     "metadata": {},
     "output_type": "execute_result"
    }
   ],
   "source": [
    "# Burada Python harflerin alfabetik olarak sıralamasına bakmaktadır.\n",
    "\"a\" < \"b\""
   ]
  },
  {
   "cell_type": "code",
   "execution_count": 40,
   "id": "c152a063-81ff-4b9c-acac-87562d86ff93",
   "metadata": {
    "tags": []
   },
   "outputs": [
    {
     "data": {
      "text/plain": [
       "True"
      ]
     },
     "execution_count": 40,
     "metadata": {},
     "output_type": "execute_result"
    }
   ],
   "source": [
    "\"ab\" < \"b\""
   ]
  },
  {
   "cell_type": "code",
   "execution_count": 41,
   "id": "603565fc-076d-4ad8-9052-17a73fb39b32",
   "metadata": {
    "tags": []
   },
   "outputs": [
    {
     "data": {
      "text/plain": [
       "False"
      ]
     },
     "execution_count": 41,
     "metadata": {},
     "output_type": "execute_result"
    }
   ],
   "source": [
    "\"ac\" > \"da\""
   ]
  },
  {
   "cell_type": "code",
   "execution_count": 42,
   "id": "7e93e8b4-b266-4fa9-b47b-49bda0f2ddd5",
   "metadata": {
    "tags": []
   },
   "outputs": [
    {
     "data": {
      "text/plain": [
       "False"
      ]
     },
     "execution_count": 42,
     "metadata": {},
     "output_type": "execute_result"
    }
   ],
   "source": [
    "\"abc\" < \"abb\""
   ]
  },
  {
   "cell_type": "markdown",
   "id": "3237256a-0eb0-4aae-a57f-99d5bab76ceb",
   "metadata": {},
   "source": [
    "# Mantıksal Operatörler (Logical Operators)"
   ]
  },
  {
   "cell_type": "markdown",
   "id": "4781d674-8c85-4a7d-9e6f-d5f5834a4e95",
   "metadata": {},
   "source": [
    "* Verilerimizle nasıl karşılaştırma yapabileceğimizi gördük. Bunların cevaplarını birleştirmek isteyebiliriz. İki ifadenin sonucu da doğru olunca bir şey yapmak veya en az biri doğruyken farklı bir şey yapmak isteyebiliriz.\n",
    "* Bunu sağlayabilmek için ```boolean``` veri tipleri üzerine uygulanabilecek mantıksal operatörlere bakacağız.\n",
    "* Göreceğimiz mantıksal operatörlerin uygulandığı veri tipleri ```boolean``` olmalıdır."
   ]
  },
  {
   "cell_type": "markdown",
   "id": "de2a8128-0555-483d-a397-a60e77e2b8b9",
   "metadata": {},
   "source": [
    "## not Operatörü"
   ]
  },
  {
   "cell_type": "code",
   "execution_count": 43,
   "id": "643e92fd-70bd-466d-b7fb-6b4f71f6ebeb",
   "metadata": {
    "tags": []
   },
   "outputs": [
    {
     "data": {
      "text/plain": [
       "False"
      ]
     },
     "execution_count": 43,
     "metadata": {},
     "output_type": "execute_result"
    }
   ],
   "source": [
    "not True"
   ]
  },
  {
   "cell_type": "code",
   "execution_count": 44,
   "id": "abb60d18-43a6-42bf-b31d-b4067051382c",
   "metadata": {
    "tags": []
   },
   "outputs": [
    {
     "data": {
      "text/plain": [
       "True"
      ]
     },
     "execution_count": 44,
     "metadata": {},
     "output_type": "execute_result"
    }
   ],
   "source": [
    "not False"
   ]
  },
  {
   "cell_type": "code",
   "execution_count": 45,
   "id": "a552d702-ce4d-45bd-a43d-04a21b62bcb4",
   "metadata": {
    "tags": []
   },
   "outputs": [
    {
     "data": {
      "text/plain": [
       "False"
      ]
     },
     "execution_count": 45,
     "metadata": {},
     "output_type": "execute_result"
    }
   ],
   "source": [
    "not 5 < 6"
   ]
  },
  {
   "cell_type": "code",
   "execution_count": 46,
   "id": "955c73e7-e402-4ab9-af16-fe069c6b7831",
   "metadata": {
    "tags": []
   },
   "outputs": [
    {
     "data": {
      "text/plain": [
       "True"
      ]
     },
     "execution_count": 46,
     "metadata": {},
     "output_type": "execute_result"
    }
   ],
   "source": [
    "5 < 6"
   ]
  },
  {
   "cell_type": "code",
   "execution_count": 47,
   "id": "6f53259f-f849-4670-a4c8-55fca4c4b2a2",
   "metadata": {
    "tags": []
   },
   "outputs": [
    {
     "data": {
      "text/plain": [
       "False"
      ]
     },
     "execution_count": 47,
     "metadata": {},
     "output_type": "execute_result"
    }
   ],
   "source": [
    "not 5 == 5"
   ]
  },
  {
   "cell_type": "markdown",
   "id": "2d211325-cf7f-4f59-8745-25dd8c8377c1",
   "metadata": {},
   "source": [
    "## and Operatörü"
   ]
  },
  {
   "cell_type": "markdown",
   "id": "ab772a91-6dc5-4803-ad78-6e759dbbb9e8",
   "metadata": {},
   "source": [
    "* Sadece iki ifade de True ise True sonucu verir, yoksa False olur"
   ]
  },
  {
   "cell_type": "code",
   "execution_count": 59,
   "id": "5c029dbc-25d9-4f60-8276-f52d59de4d1b",
   "metadata": {
    "tags": []
   },
   "outputs": [
    {
     "data": {
      "text/plain": [
       "True"
      ]
     },
     "execution_count": 59,
     "metadata": {},
     "output_type": "execute_result"
    }
   ],
   "source": [
    "True and True"
   ]
  },
  {
   "cell_type": "code",
   "execution_count": 60,
   "id": "8ce2ee2a-0437-46a3-b80b-77014e43cb68",
   "metadata": {
    "tags": []
   },
   "outputs": [
    {
     "data": {
      "text/plain": [
       "False"
      ]
     },
     "execution_count": 60,
     "metadata": {},
     "output_type": "execute_result"
    }
   ],
   "source": [
    "True and False"
   ]
  },
  {
   "cell_type": "code",
   "execution_count": 61,
   "id": "1e922c21-10e3-4d60-b23b-0638d357d17b",
   "metadata": {
    "tags": []
   },
   "outputs": [
    {
     "data": {
      "text/plain": [
       "False"
      ]
     },
     "execution_count": 61,
     "metadata": {},
     "output_type": "execute_result"
    }
   ],
   "source": [
    "False and False"
   ]
  },
  {
   "cell_type": "code",
   "execution_count": 62,
   "id": "9273cffb-3e19-4325-b013-68471d16b9a2",
   "metadata": {
    "tags": []
   },
   "outputs": [
    {
     "data": {
      "text/plain": [
       "True"
      ]
     },
     "execution_count": 62,
     "metadata": {},
     "output_type": "execute_result"
    }
   ],
   "source": [
    "a = 4\n",
    "b = 1\n",
    "c = 10\n",
    "(a > b) and (b < a)"
   ]
  },
  {
   "cell_type": "markdown",
   "id": "99927075-2f4a-434a-a1e0-a0e583597564",
   "metadata": {},
   "source": [
    "## or Operatörü"
   ]
  },
  {
   "cell_type": "markdown",
   "id": "735a6ce2-8493-477f-9f47-9715f59fff23",
   "metadata": {},
   "source": [
    "* Sadece iki ifade de False ise False sonucu verir, yoksa True olur"
   ]
  },
  {
   "cell_type": "code",
   "execution_count": 63,
   "id": "213cc19a-6009-4adf-964a-f7aba3e588d6",
   "metadata": {
    "tags": []
   },
   "outputs": [
    {
     "data": {
      "text/plain": [
       "True"
      ]
     },
     "execution_count": 63,
     "metadata": {},
     "output_type": "execute_result"
    }
   ],
   "source": [
    "True or True"
   ]
  },
  {
   "cell_type": "code",
   "execution_count": 64,
   "id": "e987d9cd-a980-4449-88f4-3f21112c38fc",
   "metadata": {
    "tags": []
   },
   "outputs": [
    {
     "data": {
      "text/plain": [
       "True"
      ]
     },
     "execution_count": 64,
     "metadata": {},
     "output_type": "execute_result"
    }
   ],
   "source": [
    "True or False"
   ]
  },
  {
   "cell_type": "code",
   "execution_count": 65,
   "id": "b365c375-47b4-4b6e-a5ca-fe4861f6b40a",
   "metadata": {
    "tags": []
   },
   "outputs": [
    {
     "data": {
      "text/plain": [
       "False"
      ]
     },
     "execution_count": 65,
     "metadata": {},
     "output_type": "execute_result"
    }
   ],
   "source": [
    "False or False"
   ]
  },
  {
   "cell_type": "code",
   "execution_count": 66,
   "id": "a37f52be-5598-444f-994d-7a24e88d308e",
   "metadata": {
    "tags": []
   },
   "outputs": [
    {
     "data": {
      "text/plain": [
       "True"
      ]
     },
     "execution_count": 66,
     "metadata": {},
     "output_type": "execute_result"
    }
   ],
   "source": [
    "False or True"
   ]
  },
  {
   "cell_type": "code",
   "execution_count": 69,
   "id": "214f23aa-c23c-4695-a041-7d071b75d96f",
   "metadata": {
    "tags": []
   },
   "outputs": [
    {
     "data": {
      "text/plain": [
       "True"
      ]
     },
     "execution_count": 69,
     "metadata": {},
     "output_type": "execute_result"
    }
   ],
   "source": [
    "a = 4\n",
    "b = 1\n",
    "c = 10\n",
    "(a > b) or (b < a) #T and T"
   ]
  },
  {
   "cell_type": "code",
   "execution_count": 70,
   "id": "4b68da6b-3c5e-469a-8051-a048a56fb972",
   "metadata": {
    "tags": []
   },
   "outputs": [
    {
     "data": {
      "text/plain": [
       "True"
      ]
     },
     "execution_count": 70,
     "metadata": {},
     "output_type": "execute_result"
    }
   ],
   "source": [
    "a = 4\n",
    "b = 1\n",
    "c = 10\n",
    "(a > b) or (c < a) #T and F"
   ]
  },
  {
   "cell_type": "code",
   "execution_count": null,
   "id": "3d7887da-1781-49f3-ac00-d7b35f7f0906",
   "metadata": {},
   "outputs": [],
   "source": []
  }
 ],
 "metadata": {
  "kernelspec": {
   "display_name": "Python 3 (ipykernel)",
   "language": "python",
   "name": "python3"
  },
  "language_info": {
   "codemirror_mode": {
    "name": "ipython",
    "version": 3
   },
   "file_extension": ".py",
   "mimetype": "text/x-python",
   "name": "python",
   "nbconvert_exporter": "python",
   "pygments_lexer": "ipython3",
   "version": "3.8.16"
  }
 },
 "nbformat": 4,
 "nbformat_minor": 5
}
