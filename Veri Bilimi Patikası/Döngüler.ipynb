{
 "cells": [
  {
   "cell_type": "markdown",
   "id": "79eae018-fb70-4b7b-be18-c22f6fab9c33",
   "metadata": {},
   "source": [
    "# Döngüler (loops)"
   ]
  },
  {
   "cell_type": "markdown",
   "id": "1180eae2-cbc5-491a-92a9-e0a1b6abb83c",
   "metadata": {},
   "source": [
    "* ```if-else-elif``` mantığı ile programımızı dallandırmayı öğrendik. Ama kod akışı hala lineer. Bir işlemi birden çok kere yapmak istiyorsam bunu kolaylaştıraca bir yapıya ihtiyacım var.\n",
    "* Bir şeyi defalarca yapmak istediğimizde kullanacağım bir yapıya ihtiyacım var. Bu sadece kodumu defalarca yazmamak için işimi kolaylaştırsın diye değil, kodun o parçasının kaç kere çalışacağını önceden bilmediğim için de olabilir. (100 kere çalışacak kod parçasını 100 kere ard arda yazmak da zaman için iyi bir pratik değil, sadece böyle şeyler için de kullanmak isteyebiliriz.)\n",
    "* Mesela bir siteye girmek için şifrenizi girdiğinizi düşünün. Site siz şifrenizi yanlış girdikçe şifrenin tekrar girin diyor. Siteyi kodlayan kişinin önceden sizin kaç kere şifrenizi yanlış gireceğini bilmesinin bir yolu yok. Bu yüzden kodun o parçasının doğru şifre sağlanmadıkça çalışacağı bir yapıya ihtiyacım var."
   ]
  },
  {
   "cell_type": "markdown",
   "id": "5c865150-bb4f-4812-b9b8-148f6df2662d",
   "metadata": {
    "tags": []
   },
   "source": [
    "## ```while``` "
   ]
  },
  {
   "cell_type": "markdown",
   "id": "34c8da95-9ef6-4180-b4ae-50d89da0535c",
   "metadata": {},
   "source": [
    "* while döngüsünün içine yazdığım yapı belirttiğim ifade doğru olduğu sürece çalışacak.\n",
    "* while'da da if'te olduğu gibi bir test mantığı var aslında. Testimiz doğru çıktığı sürece while bloğunun içindeki kodları tekrarlıyor.\n",
    "* while'ın içindeki kodu Python anlasın diye, if'te yaptığımız gibi iç kısmına boşluk bırakarak yazacağız.\n",
    "* Örnek olarak kullanıcıdan pozitif bir sayı bekleyen, negatif sayı girildikçe bir daha soran bir yapıyı düşünelim. Burada bir döngü mantığına ihtiyacımız var çünkü kullanıcının kaç defa negatif sayı gireceğini önceden bilmiyoruz."
   ]
  },
  {
   "cell_type": "code",
   "execution_count": 4,
   "id": "c04b5e56-786e-494c-8b8f-654f525766c3",
   "metadata": {
    "tags": []
   },
   "outputs": [
    {
     "name": "stdin",
     "output_type": "stream",
     "text": [
      "Bir sayı giriniz:  -5\n"
     ]
    },
    {
     "name": "stdout",
     "output_type": "stream",
     "text": [
      "Sayı negatif, lütfen pozitif bir sayı giriniz.\n"
     ]
    },
    {
     "name": "stdin",
     "output_type": "stream",
     "text": [
      "Bir sayı giriniz:  -4\n"
     ]
    },
    {
     "name": "stdout",
     "output_type": "stream",
     "text": [
      "Sayı negatif, lütfen pozitif bir sayı giriniz.\n"
     ]
    },
    {
     "name": "stdin",
     "output_type": "stream",
     "text": [
      "Bir sayı giriniz:  -6\n"
     ]
    },
    {
     "name": "stdout",
     "output_type": "stream",
     "text": [
      "Sayı negatif, lütfen pozitif bir sayı giriniz.\n"
     ]
    },
    {
     "name": "stdin",
     "output_type": "stream",
     "text": [
      "Bir sayı giriniz:  -7\n"
     ]
    },
    {
     "name": "stdout",
     "output_type": "stream",
     "text": [
      "Sayı negatif, lütfen pozitif bir sayı giriniz.\n"
     ]
    },
    {
     "name": "stdin",
     "output_type": "stream",
     "text": [
      "Bir sayı giriniz:  -5\n"
     ]
    },
    {
     "name": "stdout",
     "output_type": "stream",
     "text": [
      "Sayı negatif, lütfen pozitif bir sayı giriniz.\n"
     ]
    },
    {
     "name": "stdin",
     "output_type": "stream",
     "text": [
      "Bir sayı giriniz:  -2\n"
     ]
    },
    {
     "name": "stdout",
     "output_type": "stream",
     "text": [
      "Sayı negatif, lütfen pozitif bir sayı giriniz.\n"
     ]
    },
    {
     "name": "stdin",
     "output_type": "stream",
     "text": [
      "Bir sayı giriniz:  5\n"
     ]
    },
    {
     "name": "stdout",
     "output_type": "stream",
     "text": [
      "Girdiğiniz sayı pozitif ve 5\n"
     ]
    }
   ],
   "source": [
    "x = int(input(\"Bir sayı giriniz: \"))\n",
    "\n",
    "while x < 0:\n",
    "    print(\"Sayı negatif, lütfen pozitif bir sayı giriniz.\")\n",
    "    x = int(input(\"Bir sayı giriniz: \"))\n",
    "    \n",
    "print(\"Girdiğiniz sayı pozitif ve\", x)"
   ]
  },
  {
   "cell_type": "code",
   "execution_count": 21,
   "id": "d66e4d68-7dd3-403d-b683-2e91daa9cc5d",
   "metadata": {
    "tags": []
   },
   "outputs": [
    {
     "name": "stdout",
     "output_type": "stream",
     "text": [
      "0\n",
      "1\n",
      "2\n",
      "3\n"
     ]
    }
   ],
   "source": [
    "x = 0\n",
    "\n",
    "while x <= 3:\n",
    "    print(x)\n",
    "    x = x+1"
   ]
  },
  {
   "cell_type": "code",
   "execution_count": 20,
   "id": "5d52a73d-78fc-49ba-bcbc-d8189e1236d6",
   "metadata": {},
   "outputs": [
    {
     "name": "stdin",
     "output_type": "stream",
     "text": [
      "50 ile 100 arasında bir sayı giriniz:  60\n"
     ]
    }
   ],
   "source": [
    "x = int(input(\"50 ile 100 arasında bir sayı giriniz: \"))\n",
    "\n",
    "while x < 50:\n",
    "    print(\"Girdiğiniz sayı 50'den küçüktür. Lütfen tekrar deneyiniz!\")\n",
    "    x = int(input(\"50 ile 100 arasında bir sayı giriniz: \"))\n",
    "    if x == 100:\n",
    "        print(\"Sayı 100' eşittir.\")\n",
    "    elif x >= 90:\n",
    "        print(\"Sayı 90 ile 100 arasındadır.\")\n",
    "    elif x >= 50:\n",
    "        print(\"Sayı 50 ile 90 arasındadır.\")\n",
    "#while x < 50:\n",
    "#   print(\"Girdiğiniz sayı 50'den küçüktür. Lütfen tekrar deneyiniz!\")\n",
    " #   x = int(input(\"50 ile 100 arasında bir sayı giriniz: \"))"
   ]
  },
  {
   "cell_type": "markdown",
   "id": "b6b9b23d-c54b-4b0c-920b-6c1294762506",
   "metadata": {},
   "source": [
    "* Diyelim ki 0'dan 100' kadar olan sayıların toplamını bulmak istiyorum:"
   ]
  },
  {
   "cell_type": "code",
   "execution_count": 3,
   "id": "84f0f0f4-82b8-4a40-9f66-5e56a8bce684",
   "metadata": {
    "tags": []
   },
   "outputs": [
    {
     "name": "stdout",
     "output_type": "stream",
     "text": [
      "5050\n"
     ]
    }
   ],
   "source": [
    "toplam = 0\n",
    "x = 0 \n",
    "\n",
    "while x <= 100:\n",
    "    toplam += x\n",
    "    x +=1 # Döngümün içinde kontrol ettiğim yapıyı güncelleyecek bir ifadenin olması lazım yoksa kod sonsuz döngüye girer.\n",
    "#    print (x)\n",
    "print(toplam)"
   ]
  },
  {
   "cell_type": "markdown",
   "id": "3dbadb3f-f5ef-4063-91a7-50a0cec87ec5",
   "metadata": {
    "tags": []
   },
   "source": [
    "## ```for``` "
   ]
  },
  {
   "cell_type": "markdown",
   "id": "18a5e011-b1d0-45a3-b2fe-6b821f91aaba",
   "metadata": {},
   "source": [
    "* for döngüsü ```in```'den sonra yazdığımız yapının bütün değerleri üzerinde dolanıp, eleman sayısı kadar içindeki kodu çalıştıracak. x ```in``` \\<obje\\> yapısı ile tanımlandığında, x döngünün her adımında ```in```'den sonra tanımlanan yapının elemanlarının değerlerini alacak.\n",
    "    - ```for``` ```<değişken>``` in ```<obje>```\n",
    "* for döngüsünün en başında \\<değişken\\>, \\<obje\\>'nin ilk elemanının değerini alıyor. İçindeki kod 1 kere çalışıp bittikten sonra ikinci kere çalıştırıyor ve \\<değişken\\>, \\<obje\\>'nin ikinci elemanının değerini alıyor. Bu \\<obje\\>'nin tüm elemanları bitene kadar devam ediyor."
   ]
  },
  {
   "cell_type": "code",
   "execution_count": 6,
   "id": "d0e7d4c8-a985-401b-ae80-79b3672ef27c",
   "metadata": {
    "tags": []
   },
   "outputs": [
    {
     "name": "stdout",
     "output_type": "stream",
     "text": [
      "h\n",
      "e\n",
      "y\n"
     ]
    }
   ],
   "source": [
    "for c in \"hey\": # Burada 3 kere iterasyon olacak çünkü \"hey\" stringinin 3 elemanı bulunmaktadır.\n",
    "    print(c)"
   ]
  },
  {
   "cell_type": "code",
   "execution_count": 7,
   "id": "c95d2e64-183e-49da-92c1-751e6d1d1761",
   "metadata": {
    "tags": []
   },
   "outputs": [
    {
     "name": "stdout",
     "output_type": "stream",
     "text": [
      "5050\n"
     ]
    }
   ],
   "source": [
    "toplam = 0\n",
    "\n",
    "for x in range(101): # range içine yazdığımız sayıya kadar olan değerleri bize iterasyon yapmamız için üretebiliyor.\n",
    "    toplam += x\n",
    "print (toplam)"
   ]
  },
  {
   "cell_type": "code",
   "execution_count": 8,
   "id": "140ea0ed-0cf8-4ac9-8bf5-bf668dedb6ce",
   "metadata": {
    "tags": []
   },
   "outputs": [
    {
     "name": "stdout",
     "output_type": "stream",
     "text": [
      "0\n",
      "1\n",
      "2\n",
      "3\n",
      "4\n",
      "5\n"
     ]
    }
   ],
   "source": [
    "for x in range(6):\n",
    "    print(x)"
   ]
  },
  {
   "cell_type": "code",
   "execution_count": 3,
   "id": "114ea5e9-1ade-466f-a3cc-de91cff3aafe",
   "metadata": {
    "tags": []
   },
   "outputs": [
    {
     "name": "stdout",
     "output_type": "stream",
     "text": [
      "3125\n"
     ]
    }
   ],
   "source": [
    "üs_alma = 1\n",
    "for i in range(5): # burada i yazıyoruz ama i bizim için önemli değil, sadece 5 kere gerçekleşmesini istediğimiz için for'a değişken olarak yazıyoruz.\n",
    "    üs_alma *= 5\n",
    "    \n",
    "print(üs_alma)"
   ]
  },
  {
   "cell_type": "code",
   "execution_count": 4,
   "id": "aa9e4506-67d1-45fc-a95d-9f671d8b1182",
   "metadata": {
    "tags": []
   },
   "outputs": [
    {
     "name": "stdout",
     "output_type": "stream",
     "text": [
      "3125\n"
     ]
    }
   ],
   "source": [
    "# Genellikle kullanmadığımız bir değişkeni foor loopunda \"_\" ile gösterebiliriz. Bu genel olarak bu anlamda kullanılmaktadır.\n",
    "üs_alma = 1\n",
    "for _ in range(5):\n",
    "    üs_alma *= 5\n",
    "    \n",
    "print(üs_alma)"
   ]
  },
  {
   "cell_type": "markdown",
   "id": "8f0395c6-05f0-48c1-8259-6d1c04c213ef",
   "metadata": {},
   "source": [
    "## ```for``` vs ```while```\n",
    "* while yapısında kaç kere iterasyon yapacağımızı bilmiyoruz. ```for```'da eleman sayısı kadar iterasyon var (break veya continue ile bölünmezse).\n",
    "* Aslında for döngüsünü while döngüsünü kullanarak yazabiliriz ama while döngüsünü for kullanarak yazamayız, çünkü for'da test mekanizması yok."
   ]
  },
  {
   "cell_type": "code",
   "execution_count": 7,
   "id": "56b45c10-8b93-4230-a844-48ef8d4bb59a",
   "metadata": {
    "tags": []
   },
   "outputs": [
    {
     "name": "stdout",
     "output_type": "stream",
     "text": [
      "h\n",
      "e\n",
      "y\n"
     ]
    }
   ],
   "source": [
    "s = \"hey\"\n",
    "for c in s:\n",
    "    print(c)"
   ]
  },
  {
   "cell_type": "code",
   "execution_count": 8,
   "id": "9b9bcd68-bb55-40b2-b8e3-e11eb2f5d207",
   "metadata": {
    "tags": []
   },
   "outputs": [
    {
     "name": "stdout",
     "output_type": "stream",
     "text": [
      "h\n",
      "e\n",
      "y\n"
     ]
    }
   ],
   "source": [
    "n = len(s)\n",
    "index = 0\n",
    "\n",
    "while index < n:\n",
    "    print(s[index])\n",
    "    index += 1"
   ]
  },
  {
   "cell_type": "code",
   "execution_count": 10,
   "id": "6f304747-3b59-421c-9641-c5b11d2f15d6",
   "metadata": {
    "tags": []
   },
   "outputs": [
    {
     "name": "stdout",
     "output_type": "stream",
     "text": [
      "81\n"
     ]
    }
   ],
   "source": [
    "sonuc=1\n",
    "\n",
    "for i in range(4):\n",
    "    sonuc*=3\n",
    "\n",
    "print(sonuc)"
   ]
  },
  {
   "cell_type": "markdown",
   "id": "e33d90b9-7c7f-42b1-826a-8ac3e6db4476",
   "metadata": {},
   "source": [
    "## ```break```"
   ]
  },
  {
   "cell_type": "markdown",
   "id": "5d88f20a-a356-4da5-8ec3-687794874e9f",
   "metadata": {},
   "source": [
    "* Belki bir şart sağlandığı zaman döngüden aniden çıkmak istiyorum, bunu break ile sağlıyoruz.\n",
    "* break komutunu gördüğümüz yerde döngüden çıkıyoruz."
   ]
  },
  {
   "cell_type": "code",
   "execution_count": 13,
   "id": "eb459cd6-7087-4c0e-bfdd-b32b0e452947",
   "metadata": {
    "tags": []
   },
   "outputs": [
    {
     "name": "stdout",
     "output_type": "stream",
     "text": [
      "0\n",
      "1\n",
      "2\n"
     ]
    }
   ],
   "source": [
    "for i in range(10):\n",
    "    if i == 3:\n",
    "        break\n",
    "    print(i)"
   ]
  },
  {
   "cell_type": "code",
   "execution_count": 19,
   "id": "ddff11f6-62ea-4fbb-bf65-7f4e4278ce71",
   "metadata": {
    "tags": []
   },
   "outputs": [
    {
     "name": "stdout",
     "output_type": "stream",
     "text": [
      "0\n",
      "1\n",
      "2\n"
     ]
    }
   ],
   "source": [
    "x = 0\n",
    "\n",
    "while x < 10:\n",
    "    print(x)   \n",
    "    x += 1\n",
    "    if x == 3:\n",
    "        break"
   ]
  },
  {
   "cell_type": "markdown",
   "id": "39c58a3d-7990-4bab-8023-20a7be6ca73a",
   "metadata": {},
   "source": [
    "## ```continue```\n"
   ]
  },
  {
   "cell_type": "markdown",
   "id": "cf817fec-7a63-4266-ae79-92cbe868822b",
   "metadata": {},
   "source": [
    "* Bazen döngülerde bir şart sağlandığında bir sonraki iterasyondan devam etmek isteyebilirim. Bunu continue ile sağlayacağız.\n",
    "* continue komutu ile karşılaşıldığı zaman, döngünün bir sonraki iterasyonuna geçilir."
   ]
  },
  {
   "cell_type": "code",
   "execution_count": 20,
   "id": "5f3f4646-abd1-4b3a-b3dc-b11f48e82923",
   "metadata": {
    "tags": []
   },
   "outputs": [
    {
     "name": "stdout",
     "output_type": "stream",
     "text": [
      "0\n",
      "1\n",
      "2\n",
      "4\n",
      "5\n",
      "6\n",
      "7\n",
      "8\n",
      "9\n"
     ]
    }
   ],
   "source": [
    "for i in range(10):\n",
    "    \n",
    "    if i == 3:\n",
    "        continue\n",
    "    print(i)"
   ]
  },
  {
   "cell_type": "code",
   "execution_count": 21,
   "id": "44267c4b-966c-4e4f-b13e-ac19271cd643",
   "metadata": {
    "tags": []
   },
   "outputs": [
    {
     "name": "stdout",
     "output_type": "stream",
     "text": [
      "0\n",
      "1\n",
      "2\n",
      "Yanlış numara.\n",
      "4\n",
      "5\n",
      "6\n",
      "7\n",
      "8\n",
      "9\n"
     ]
    }
   ],
   "source": [
    "for i in range(10):\n",
    "    \n",
    "    if i == 3:\n",
    "        print(\"Yanlış numara.\")\n",
    "        continue\n",
    "    print(i)"
   ]
  },
  {
   "cell_type": "code",
   "execution_count": 22,
   "id": "43ff6ce1-8b94-4a15-b11f-8c0e8cc3f06b",
   "metadata": {
    "tags": []
   },
   "outputs": [
    {
     "name": "stdout",
     "output_type": "stream",
     "text": [
      "1\n",
      "2\n",
      "4\n",
      "5\n",
      "6\n",
      "7\n",
      "8\n",
      "9\n",
      "10\n"
     ]
    }
   ],
   "source": [
    "x = 0\n",
    "\n",
    "while x < 10:\n",
    "    \n",
    "    x += 1\n",
    "    \n",
    "    if x == 3:\n",
    "        continue\n",
    "    \n",
    "    print(x)"
   ]
  },
  {
   "cell_type": "code",
   "execution_count": null,
   "id": "45830895-bfef-46a5-831f-ab7c61c48ebd",
   "metadata": {},
   "outputs": [],
   "source": []
  }
 ],
 "metadata": {
  "kernelspec": {
   "display_name": "Python 3 (ipykernel)",
   "language": "python",
   "name": "python3"
  },
  "language_info": {
   "codemirror_mode": {
    "name": "ipython",
    "version": 3
   },
   "file_extension": ".py",
   "mimetype": "text/x-python",
   "name": "python",
   "nbconvert_exporter": "python",
   "pygments_lexer": "ipython3",
   "version": "3.8.16"
  }
 },
 "nbformat": 4,
 "nbformat_minor": 5
}
