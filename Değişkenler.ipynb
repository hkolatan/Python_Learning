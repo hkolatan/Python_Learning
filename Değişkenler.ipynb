{
 "cells": [
  {
   "cell_type": "markdown",
   "metadata": {},
   "source": [
    "## Değişkenler"
   ]
  },
  {
   "cell_type": "markdown",
   "metadata": {},
   "source": [
    "**Değişken**, bir değere atıfta bulunan bir isimdir    \n",
    "\n",
    "Bilgisayarın hafızasında, o değere ait adresin ismidir. (adres numarasıdır)\n",
    "\n",
    "**Atama** (assignment) işlemi, yeni bir değişken yaratır ve ona bir değer atar."
   ]
  },
  {
   "cell_type": "code",
   "execution_count": 1,
   "metadata": {},
   "outputs": [],
   "source": [
    "a = 12 #bir değişken"
   ]
  },
  {
   "cell_type": "code",
   "execution_count": 2,
   "metadata": {},
   "outputs": [],
   "source": [
    "bilgi = \"Python adı, Monthy Python ve Kutsal Kase dizisinden gelmektedir.\""
   ]
  },
  {
   "cell_type": "code",
   "execution_count": 9,
   "metadata": {},
   "outputs": [
    {
     "data": {
      "text/plain": [
       "str"
      ]
     },
     "execution_count": 9,
     "metadata": {},
     "output_type": "execute_result"
    }
   ],
   "source": [
    "type(bilgi)"
   ]
  },
  {
   "cell_type": "code",
   "execution_count": 10,
   "metadata": {},
   "outputs": [
    {
     "name": "stdout",
     "output_type": "stream",
     "text": [
      "Python adı, Monthy Python ve Kutsal Kase dizisinden gelmektedir.\n"
     ]
    }
   ],
   "source": [
    "print(bilgi)"
   ]
  },
  {
   "cell_type": "code",
   "execution_count": 11,
   "metadata": {},
   "outputs": [
    {
     "name": "stdout",
     "output_type": "stream",
     "text": [
      "3.1415\n"
     ]
    }
   ],
   "source": [
    "pi = 3.1415\n",
    "print(pi)"
   ]
  },
  {
   "cell_type": "code",
   "execution_count": 12,
   "metadata": {},
   "outputs": [],
   "source": [
    "n = 12"
   ]
  },
  {
   "cell_type": "markdown",
   "metadata": {},
   "source": [
    "---"
   ]
  },
  {
   "cell_type": "markdown",
   "metadata": {},
   "source": [
    "## Değişken İsimleri"
   ]
  },
  {
   "cell_type": "markdown",
   "metadata": {},
   "source": [
    "Python'da Değişken İsimleri:\n",
    "\n",
    "* Seçtiğiniz değişken ismi anlamlı, kendi adına konuşan isimler.\n",
    "* Genelde snake_case isimlendirme kullanılır.\n",
    "\n",
    "ortalama_hiz = anlamlı ve snake_case bir isimdir.\n",
    "\n",
    "sesli_harfler = konuşan bir isimdir.\n",
    "\n",
    "Değişken İsimleri:\n",
    "* Sayı ile başlayamaz.\n",
    "* Boşluk karakteri olamaz.\n",
    "* Özel karakter bulunduramaz. (@,-,+,*)\n",
    "* Değişken adı keyword (anahtar kelime) içeremez."
   ]
  },
  {
   "cell_type": "markdown",
   "metadata": {},
   "source": [
    "1sayi = 5 *syntax (söz dizimi) hatası verir!*\n",
    "\n",
    "ortalama hiz = 80 *syntax (söz dizimi) hatası verir!*\n",
    "\n",
    "@onluk = 10 *syntax (söz dizimi) hatası verir!*"
   ]
  },
  {
   "cell_type": "markdown",
   "metadata": {},
   "source": [
    "**Keyword**: for, True, return, try ..."
   ]
  },
  {
   "cell_type": "markdown",
   "metadata": {},
   "source": [
    "**Önemli:** Python'da büyük harf ve küçük harf eşit değildir."
   ]
  },
  {
   "cell_type": "code",
   "execution_count": 16,
   "metadata": {},
   "outputs": [],
   "source": [
    "A=10\n",
    "a=11"
   ]
  },
  {
   "cell_type": "code",
   "execution_count": 18,
   "metadata": {},
   "outputs": [
    {
     "name": "stdout",
     "output_type": "stream",
     "text": [
      "11\n",
      "10\n"
     ]
    }
   ],
   "source": [
    "print(a)\n",
    "print(A) #büyük ve küçük harf duyarlıdır."
   ]
  },
  {
   "cell_type": "markdown",
   "metadata": {},
   "source": [
    "**Önemli:** Değişken adlarında Türkçe karakter kullanmamaya dikkat edin!"
   ]
  },
  {
   "cell_type": "markdown",
   "metadata": {},
   "source": [
    "---"
   ]
  },
  {
   "cell_type": "markdown",
   "metadata": {},
   "source": [
    "## Python Veri Tipleri"
   ]
  },
  {
   "cell_type": "markdown",
   "metadata": {},
   "source": [
    "**Python Veri Tipleri**:\n",
    "* Text (Metin) Tipi: str\n",
    "* Nümerik Tipler: int, float\n",
    "* Liste Tipleri: list, tuple, range\n",
    "* İlişki Tipi: dict\n",
    "* Küme Tipi: set\n",
    "* Boolean Tipi: bool"
   ]
  },
  {
   "cell_type": "markdown",
   "metadata": {},
   "source": [
    "Bir değişkenin tipi: `type()`"
   ]
  },
  {
   "cell_type": "code",
   "execution_count": 25,
   "metadata": {},
   "outputs": [
    {
     "data": {
      "text/plain": [
       "str"
      ]
     },
     "execution_count": 25,
     "metadata": {},
     "output_type": "execute_result"
    }
   ],
   "source": [
    "metin = \"Bu bir metin tipidir.\"\n",
    "type(metin)"
   ]
  },
  {
   "cell_type": "code",
   "execution_count": 26,
   "metadata": {},
   "outputs": [
    {
     "data": {
      "text/plain": [
       "int"
      ]
     },
     "execution_count": 26,
     "metadata": {},
     "output_type": "execute_result"
    }
   ],
   "source": [
    "tam_sayi = 16\n",
    "type(tam_sayi)"
   ]
  },
  {
   "cell_type": "code",
   "execution_count": 28,
   "metadata": {},
   "outputs": [
    {
     "name": "stdout",
     "output_type": "stream",
     "text": [
      "<class 'float'>\n"
     ]
    }
   ],
   "source": [
    "kesirli_sayi = 3.5\n",
    "print(type(kesirli_sayi))"
   ]
  },
  {
   "cell_type": "code",
   "execution_count": 29,
   "metadata": {},
   "outputs": [
    {
     "name": "stdout",
     "output_type": "stream",
     "text": [
      "<class 'list'>\n"
     ]
    }
   ],
   "source": [
    "liste = [\"bu bir listedir\"] #list\n",
    "print(type(liste))"
   ]
  },
  {
   "cell_type": "code",
   "execution_count": 30,
   "metadata": {},
   "outputs": [
    {
     "name": "stdout",
     "output_type": "stream",
     "text": [
      "('A', 'B', 'C')\n",
      "<class 'tuple'>\n"
     ]
    }
   ],
   "source": [
    "uclu = ('A', 'B', 'C') #tuple\n",
    "print(uclu)\n",
    "print(type(uclu))"
   ]
  },
  {
   "cell_type": "code",
   "execution_count": 37,
   "metadata": {},
   "outputs": [
    {
     "name": "stdout",
     "output_type": "stream",
     "text": [
      "range(0, 10)\n"
     ]
    }
   ],
   "source": [
    "onluk = range(10) #range tipi\n",
    "print(onluk)"
   ]
  },
  {
   "cell_type": "code",
   "execution_count": 40,
   "metadata": {},
   "outputs": [
    {
     "name": "stdout",
     "output_type": "stream",
     "text": [
      "{'ad': 'Musa', 'soyadı': 'Arda'}\n"
     ]
    },
    {
     "data": {
      "text/plain": [
       "dict"
      ]
     },
     "execution_count": 40,
     "metadata": {},
     "output_type": "execute_result"
    }
   ],
   "source": [
    "sozluk = {  #dict tipi\n",
    "    \"ad\": \"Musa\",\n",
    "    \"soyadı\": \"Arda\",\n",
    "}\n",
    "print(sozluk)\n",
    "type(sozluk)"
   ]
  },
  {
   "cell_type": "code",
   "execution_count": 43,
   "metadata": {},
   "outputs": [
    {
     "name": "stdout",
     "output_type": "stream",
     "text": [
      "{1, 2, 3, 4, 5, 6, 7}\n"
     ]
    },
    {
     "data": {
      "text/plain": [
       "set"
      ]
     },
     "execution_count": 43,
     "metadata": {},
     "output_type": "execute_result"
    }
   ],
   "source": [
    "kume = set([1,2,3,4,5,2,6,7,3]) #set tipi\n",
    "print(kume)\n",
    "type(kume)"
   ]
  },
  {
   "cell_type": "code",
   "execution_count": 45,
   "metadata": {},
   "outputs": [
    {
     "name": "stdout",
     "output_type": "stream",
     "text": [
      "True\n",
      "<class 'bool'>\n"
     ]
    }
   ],
   "source": [
    "dogru = True #bool tipi\n",
    "yanlis = False\n",
    "print(dogru)\n",
    "print(type(dogru))"
   ]
  },
  {
   "cell_type": "markdown",
   "metadata": {},
   "source": [
    "---\n",
    "\n",
    "# Derleyici\n",
    "\n",
    "**Derleyici:** Kaynak kodu, makine diline çeviren yazılımdır. (Compiler) \n",
    "\n",
    "Compiler, kod yazımı tamamlanınca, tek seferde tüm kodu makine diline çevirir."
   ]
  },
  {
   "cell_type": "markdown",
   "metadata": {},
   "source": [
    "**Yorumlayıcı:** Kaynak kodu, makine diline çeviren yazılımdır. (Interpreter)\n",
    "    \n",
    "Interpreter, kod yazılırken çevirir. Satır satır çevirir."
   ]
  },
  {
   "cell_type": "markdown",
   "metadata": {},
   "source": [
    "**Yorum Satırı:** Yorum satırı, Python Interpreter tarafından göz ardı edilen satırdır.\n",
    "\n",
    "Interpreter, yorum satırını gördüğünde o satırı çalıştırmaz."
   ]
  },
  {
   "cell_type": "code",
   "execution_count": 47,
   "metadata": {},
   "outputs": [],
   "source": [
    "# Python'da yorum satırı.\n",
    "# Bu da bir yorum satırıdır."
   ]
  },
  {
   "cell_type": "code",
   "execution_count": 48,
   "metadata": {},
   "outputs": [
    {
     "name": "stdout",
     "output_type": "stream",
     "text": [
      "90000\n"
     ]
    }
   ],
   "source": [
    "# Bu değişken aracın km'sini tutmaktadır.\n",
    "arac_km = 90000\n",
    "print(arac_km)"
   ]
  },
  {
   "cell_type": "code",
   "execution_count": 50,
   "metadata": {},
   "outputs": [
    {
     "name": "stdout",
     "output_type": "stream",
     "text": [
      "75.0\n"
     ]
    }
   ],
   "source": [
    "# Ortalama hız = Gidilen mesafe / Geçen Süre\n",
    "\n",
    "gidilen_mesafe = 450 #km\n",
    "gecen_sure = 6       #saat\n",
    "ortalama_hiz = gidilen_mesafe / gecen_sure\n",
    "print(ortalama_hiz)"
   ]
  },
  {
   "cell_type": "code",
   "execution_count": 51,
   "metadata": {},
   "outputs": [],
   "source": [
    "# Tek Satır Yorum\n",
    "# Python Interpreter yorum satırlarını göz ardı eder.\n",
    "# O yüzden program çalışırken yorum satırı çalıştırılmaz."
   ]
  },
  {
   "cell_type": "code",
   "execution_count": 52,
   "metadata": {},
   "outputs": [
    {
     "data": {
      "text/plain": [
       "'\"\\nÇok Satır Yorum\\n\\nPython\\'da çok satır yorum iki adet 3\\'lü tırnak ile gösterilir.\\n\\nBu örnekte olduğu gibi.\\n\\n'"
      ]
     },
     "execution_count": 52,
     "metadata": {},
     "output_type": "execute_result"
    }
   ],
   "source": [
    "\"\"\"\"\n",
    "Çok Satır Yorum\n",
    "\n",
    "Python'da çok satır yorum iki adet 3'lü tırnak ile gösterilir.\n",
    "\n",
    "Bu örnekte olduğu gibi.\n",
    "\n",
    "\"\"\"\"\""
   ]
  },
  {
   "cell_type": "markdown",
   "metadata": {},
   "source": [
    "`\\n` bir alt satıra geçer."
   ]
  },
  {
   "cell_type": "code",
   "execution_count": 57,
   "metadata": {},
   "outputs": [
    {
     "name": "stdout",
     "output_type": "stream",
     "text": [
      "Satır 1 \n",
      "Satır 2 \n",
      "Satır 3\n"
     ]
    }
   ],
   "source": [
    "cok_satir_metin = \"Satır 1 \\nSatır 2 \\nSatır 3\"\n",
    "print(cok_satir_metin)"
   ]
  },
  {
   "cell_type": "code",
   "execution_count": 59,
   "metadata": {},
   "outputs": [
    {
     "name": "stdout",
     "output_type": "stream",
     "text": [
      "Selam sana \n",
      "Demir Ayak!\n"
     ]
    }
   ],
   "source": [
    "print(\"Selam sana \\nDemir Ayak!\")"
   ]
  },
  {
   "cell_type": "markdown",
   "metadata": {},
   "source": [
    "---\n",
    "\n",
    "## Nümerik Operasyonlar"
   ]
  },
  {
   "cell_type": "code",
   "execution_count": 65,
   "metadata": {},
   "outputs": [
    {
     "name": "stdout",
     "output_type": "stream",
     "text": [
      "37\n",
      "23\n",
      "210\n",
      "4.285714285714286\n",
      "4\n",
      "2\n",
      "21870000000\n"
     ]
    }
   ],
   "source": [
    "a = 30\n",
    "b = 7 #değişkenleri tanımladık\n",
    "print (a+b)  # toplama\n",
    "print (a-b)  # çıkarma\n",
    "print (a*b)  # çarpma\n",
    "print (a/b)  # bölme\n",
    "print (a//b) # tam sayılı bölme\n",
    "print (a%b)  # mod alma\n",
    "print (a**b) # üstel"
   ]
  },
  {
   "cell_type": "markdown",
   "metadata": {},
   "source": [
    "**Öncelik Sırası:** Parantez, üstel, çarpma, toplama, çıkarma `BEDMAS`"
   ]
  },
  {
   "cell_type": "code",
   "execution_count": 81,
   "metadata": {},
   "outputs": [
    {
     "name": "stdout",
     "output_type": "stream",
     "text": [
      "10\n"
     ]
    }
   ],
   "source": [
    "# a'yı bir artırma\n",
    "a = 9\n",
    "a = a + 1\n",
    "print(a)"
   ]
  },
  {
   "cell_type": "code",
   "execution_count": 82,
   "metadata": {},
   "outputs": [
    {
     "name": "stdout",
     "output_type": "stream",
     "text": [
      "14\n"
     ]
    }
   ],
   "source": [
    "# Kısa yoldan toplama\n",
    "a += 4 \n",
    "print(a)"
   ]
  },
  {
   "cell_type": "code",
   "execution_count": 83,
   "metadata": {},
   "outputs": [
    {
     "name": "stdout",
     "output_type": "stream",
     "text": [
      "13\n"
     ]
    }
   ],
   "source": [
    "# Kısa yoldan çıkarma\n",
    "a -= 1\n",
    "print (a)"
   ]
  },
  {
   "cell_type": "code",
   "execution_count": 84,
   "metadata": {},
   "outputs": [
    {
     "name": "stdout",
     "output_type": "stream",
     "text": [
      "39\n"
     ]
    }
   ],
   "source": [
    "# Kısa yoldan çarpma\n",
    "\n",
    "a *= 3\n",
    "print(a)"
   ]
  },
  {
   "cell_type": "code",
   "execution_count": 85,
   "metadata": {},
   "outputs": [
    {
     "name": "stdout",
     "output_type": "stream",
     "text": [
      "13.0\n"
     ]
    }
   ],
   "source": [
    "# Kısa yoldan bölme\n",
    "\n",
    "a /= 3\n",
    "print(a)"
   ]
  },
  {
   "cell_type": "markdown",
   "metadata": {},
   "source": [
    "---\n",
    "\n",
    "## String (Metin) İşlemleri\n",
    "\n",
    "Python'da Stringler (Metinler) hem tek tırnak (') hem de çift tırnak (\") olarak gösterilebilir. Dikkat etmemiz gereken, tırnakların tutarlı olmasıdır."
   ]
  },
  {
   "cell_type": "code",
   "execution_count": 86,
   "metadata": {},
   "outputs": [
    {
     "name": "stdout",
     "output_type": "stream",
     "text": [
      " Bu çift tırnaklı bir metindir.\n"
     ]
    }
   ],
   "source": [
    "metin_cift = \" Bu çift tırnaklı bir metindir.\"\n",
    "print(metin_cift)"
   ]
  },
  {
   "cell_type": "code",
   "execution_count": 87,
   "metadata": {},
   "outputs": [
    {
     "name": "stdout",
     "output_type": "stream",
     "text": [
      "Bu da tek tırnaklı bir metindir.\n"
     ]
    }
   ],
   "source": [
    "metin_tek = 'Bu da tek tırnaklı bir metindir.'\n",
    "print(metin_tek)"
   ]
  },
  {
   "cell_type": "code",
   "execution_count": 88,
   "metadata": {},
   "outputs": [
    {
     "name": "stdout",
     "output_type": "stream",
     "text": [
      "Ilgaz Anadolu'nun sen yüce bir dağısın.\n"
     ]
    }
   ],
   "source": [
    "# Eğer her ikisini de kullanmamız gerekirse\n",
    "metin_iki_icinde_bir_tirnak = \"Ilgaz Anadolu'nun sen yüce bir dağısın.\"\n",
    "print(metin_iki_icinde_bir_tirnak)"
   ]
  },
  {
   "cell_type": "code",
   "execution_count": 89,
   "metadata": {},
   "outputs": [
    {
     "name": "stdout",
     "output_type": "stream",
     "text": [
      "Alice bana bağırdı: \"Neden böyle yapıyorsun?\"\n"
     ]
    }
   ],
   "source": [
    "metin_tek_icinde_iki_tirnak = 'Alice bana bağırdı: \"Neden böyle yapıyorsun?\"'\n",
    "print(metin_tek_icinde_iki_tirnak)"
   ]
  },
  {
   "cell_type": "markdown",
   "metadata": {},
   "source": [
    "Python'da metinler (str) üzerinde aritmetik işlemler yapılamaz. Fakat + ve * yapılabilmektedir."
   ]
  },
  {
   "cell_type": "code",
   "execution_count": 95,
   "metadata": {},
   "outputs": [
    {
     "name": "stdout",
     "output_type": "stream",
     "text": [
      "Güneşli günler!\n"
     ]
    }
   ],
   "source": [
    "# Metinlerde Toplama İşlemi\n",
    "birinci = \"Güneşli\"\n",
    "ikinci = \"günler!\"\n",
    "print(birinci +' '+  ikinci) "
   ]
  },
  {
   "cell_type": "code",
   "execution_count": 96,
   "metadata": {},
   "outputs": [
    {
     "data": {
      "text/plain": [
       "'Güneşli günler!Güneşli günler!Güneşli günler!Güneşli günler!'"
      ]
     },
     "execution_count": 96,
     "metadata": {},
     "output_type": "execute_result"
    }
   ],
   "source": [
    "# Metinlerde Çarpma İşlemi\n",
    "4 * (birinci +' '+  ikinci) "
   ]
  },
  {
   "cell_type": "code",
   "execution_count": 97,
   "metadata": {},
   "outputs": [
    {
     "data": {
      "text/plain": [
       "'GüneşliGüneşliGüneşliGüneşliGüneşliGüneşli'"
      ]
     },
     "execution_count": 97,
     "metadata": {},
     "output_type": "execute_result"
    }
   ],
   "source": [
    "# Metinlerde Çarpma İşlemi\n",
    "6 * birinci"
   ]
  },
  {
   "cell_type": "markdown",
   "metadata": {},
   "source": [
    "---\n",
    "\n",
    "## Anahtar Kelimeler (Keywords)\n",
    "\n",
    "Python'daki Anahtar Kelimeler (Keyword) `keyword` paketi içinde yer alır."
   ]
  },
  {
   "cell_type": "markdown",
   "metadata": {},
   "source": [
    "**import**"
   ]
  },
  {
   "cell_type": "code",
   "execution_count": 100,
   "metadata": {},
   "outputs": [],
   "source": [
    "# Önce paketimizi import (içeri almak) edelim.\n",
    "\n",
    "import keyword"
   ]
  },
  {
   "cell_type": "code",
   "execution_count": 103,
   "metadata": {},
   "outputs": [
    {
     "name": "stdout",
     "output_type": "stream",
     "text": [
      "['False', 'None', 'True', 'and', 'as', 'assert', 'async', 'await', 'break', 'class', 'continue', 'def', 'del', 'elif', 'else', 'except', 'finally', 'for', 'from', 'global', 'if', 'import', 'in', 'is', 'lambda', 'nonlocal', 'not', 'or', 'pass', 'raise', 'return', 'try', 'while', 'with', 'yield']\n"
     ]
    }
   ],
   "source": [
    "# Şimdi keyword listesini alalım.\n",
    "# Bu listeyi bir değişkene atayalım.\n",
    "# Bu listeyi yazdıralım.\n",
    "anahtar_kelimeler = keyword.kwlist\n",
    "print(anahtar_kelimeler)"
   ]
  },
  {
   "cell_type": "code",
   "execution_count": 105,
   "metadata": {},
   "outputs": [
    {
     "ename": "SyntaxError",
     "evalue": "invalid syntax (<ipython-input-105-ecae7059f1c7>, line 1)",
     "output_type": "error",
     "traceback": [
      "\u001b[1;36m  File \u001b[1;32m\"<ipython-input-105-ecae7059f1c7>\"\u001b[1;36m, line \u001b[1;32m1\u001b[0m\n\u001b[1;33m    import = 45 # Bu değişkeni kullanamayız!\u001b[0m\n\u001b[1;37m           ^\u001b[0m\n\u001b[1;31mSyntaxError\u001b[0m\u001b[1;31m:\u001b[0m invalid syntax\n"
     ]
    }
   ],
   "source": [
    "import = 45 # Bu değişkeni kullanamayız!"
   ]
  },
  {
   "cell_type": "markdown",
   "metadata": {},
   "source": [
    "Peki herhangi bir kelime, Python için keyword mudur?"
   ]
  },
  {
   "cell_type": "code",
   "execution_count": 107,
   "metadata": {},
   "outputs": [
    {
     "data": {
      "text/plain": [
       "True"
      ]
     },
     "execution_count": 107,
     "metadata": {},
     "output_type": "execute_result"
    }
   ],
   "source": [
    "# Bunun için keyword paketi içindeki -> iskeyword() metodunu kullanacağız.\n",
    "\n",
    "keyword.iskeyword('not')"
   ]
  },
  {
   "cell_type": "code",
   "execution_count": 108,
   "metadata": {},
   "outputs": [
    {
     "data": {
      "text/plain": [
       "False"
      ]
     },
     "execution_count": 108,
     "metadata": {},
     "output_type": "execute_result"
    }
   ],
   "source": [
    "keyword.iskeyword('line')"
   ]
  }
 ],
 "metadata": {
  "kernelspec": {
   "display_name": "Python 3",
   "language": "python",
   "name": "python3"
  },
  "language_info": {
   "codemirror_mode": {
    "name": "ipython",
    "version": 3
   },
   "file_extension": ".py",
   "mimetype": "text/x-python",
   "name": "python",
   "nbconvert_exporter": "python",
   "pygments_lexer": "ipython3",
   "version": "3.8.5"
  }
 },
 "nbformat": 4,
 "nbformat_minor": 4
}
